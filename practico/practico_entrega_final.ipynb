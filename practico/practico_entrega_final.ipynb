{
 "cells": [
  {
   "cell_type": "markdown",
   "metadata": {
    "toc": true
   },
   "source": [
    "<h1>Table of Contents<span class=\"tocSkip\"></span></h1>\n",
    "<div class=\"toc\"><ul class=\"toc-item\"><li><span><a href=\"#Práctico:-Recomendación-de-Artistas\" data-toc-modified-id=\"Práctico:-Recomendación-de-Artistas-1\"><span class=\"toc-item-num\">1&nbsp;&nbsp;</span>Práctico: Recomendación de Artistas</a></span><ul class=\"toc-item\"><li><span><a href=\"#Actividades\" data-toc-modified-id=\"Actividades-1.1\"><span class=\"toc-item-num\">1.1&nbsp;&nbsp;</span>Actividades</a></span></li><li><span><a href=\"#Ejercicio-1---Análisis-Exploratorio-de-Datos\" data-toc-modified-id=\"Ejercicio-1---Análisis-Exploratorio-de-Datos-1.2\"><span class=\"toc-item-num\">1.2&nbsp;&nbsp;</span>Ejercicio 1 - Análisis Exploratorio de Datos</a></span></li><li><span><a href=\"#Ejercicio-2---Sistema-de-Recomendación\" data-toc-modified-id=\"Ejercicio-2---Sistema-de-Recomendación-1.3\"><span class=\"toc-item-num\">1.3&nbsp;&nbsp;</span>Ejercicio 2 - Sistema de Recomendación</a></span><ul class=\"toc-item\"><li><span><a href=\"#Ejercicio-2a---Filtrados-Colaborativos\" data-toc-modified-id=\"Ejercicio-2a---Filtrados-Colaborativos-1.3.1\"><span class=\"toc-item-num\">1.3.1&nbsp;&nbsp;</span>Ejercicio 2a - Filtrados Colaborativos</a></span><ul class=\"toc-item\"><li><span><a href=\"#Matriz-de-Usuario-Contenido\" data-toc-modified-id=\"Matriz-de-Usuario-Contenido-1.3.1.1\"><span class=\"toc-item-num\">1.3.1.1&nbsp;&nbsp;</span>Matriz de Usuario-Contenido</a></span></li><li><span><a href=\"#Entrenamiento-del-algoritmo-de-recomendación\" data-toc-modified-id=\"Entrenamiento-del-algoritmo-de-recomendación-1.3.1.2\"><span class=\"toc-item-num\">1.3.1.2&nbsp;&nbsp;</span>Entrenamiento del algoritmo de recomendación</a></span></li><li><span><a href=\"#Sistema-de-recomendación:\" data-toc-modified-id=\"Sistema-de-recomendación:-1.3.1.3\"><span class=\"toc-item-num\">1.3.1.3&nbsp;&nbsp;</span>Sistema de recomendación:</a></span></li></ul></li><li><span><a href=\"#Ejercicio-2b---Sistemas-de-Recomendación-Avanzados\" data-toc-modified-id=\"Ejercicio-2b---Sistemas-de-Recomendación-Avanzados-1.3.2\"><span class=\"toc-item-num\">1.3.2&nbsp;&nbsp;</span>Ejercicio 2b - Sistemas de Recomendación Avanzados</a></span><ul class=\"toc-item\"><li><span><a href=\"#Evaluacion-sobre-cold-start\" data-toc-modified-id=\"Evaluacion-sobre-cold-start-1.3.2.1\"><span class=\"toc-item-num\">1.3.2.1&nbsp;&nbsp;</span>Evaluacion sobre cold start</a></span></li><li><span><a href=\"#EVectores-de-contenido\" data-toc-modified-id=\"EVectores-de-contenido-1.3.2.2\"><span class=\"toc-item-num\">1.3.2.2&nbsp;&nbsp;</span>EVectores de contenido</a></span></li><li><span><a href=\"#Sistema-de-Recomendacion\" data-toc-modified-id=\"Sistema-de-Recomendacion-1.3.2.3\"><span class=\"toc-item-num\">1.3.2.3&nbsp;&nbsp;</span>Sistema de Recomendacion</a></span></li><li><span><a href=\"#Evaluacion-del-Sistema\" data-toc-modified-id=\"Evaluacion-del-Sistema-1.3.2.4\"><span class=\"toc-item-num\">1.3.2.4&nbsp;&nbsp;</span>Evaluacion del Sistema</a></span></li></ul></li></ul></li></ul></li></ul></div>"
   ]
  },
  {
   "cell_type": "code",
   "execution_count": null,
   "metadata": {},
   "outputs": [],
   "source": []
  },
  {
   "cell_type": "markdown",
   "metadata": {
    "slideshow": {
     "slide_type": "slide"
    }
   },
   "source": [
    "# Práctico: Recomendación de Artistas\n",
    "\n",
    "En este práctico trabajaremos con el conjuto de datos de [LastFM](https://grouplens.org/datasets/hetrec-2011/) para el desarrollo de un sistema de recomendación que, dado el nombre de un artista musical, devuelve una lista de artistas \"similares\".\n",
    "\n",
    "Para el práctico utilizaremos el conjunto de datos de LastFM que consiguieron del [notebook de instalación](./instalacion.ipynb). Se recomienda leer el [Readme](http://files.grouplens.org/datasets/hetrec2011/hetrec2011-lastfm-readme.txt) de los datos para saber más sobre que información contiene cada archivo."
   ]
  },
  {
   "cell_type": "code",
   "execution_count": 53,
   "metadata": {},
   "outputs": [],
   "source": [
    "import pandas as pd\n",
    "from surprise import Reader\n",
    "from surprise import Dataset\n",
    "from surprise.model_selection import cross_validate\n",
    "from surprise import NormalPredictor\n",
    "from surprise import KNNBasic\n",
    "from surprise import KNNWithMeans\n",
    "from surprise import KNNWithZScore\n",
    "from surprise import KNNBaseline\n",
    "from surprise import SVD\n",
    "from surprise import BaselineOnly\n",
    "from surprise import SVDpp\n",
    "from surprise import NMF\n",
    "from surprise import SlopeOne\n",
    "from surprise import CoClustering\n",
    "from surprise.accuracy import rmse\n",
    "from surprise import accuracy\n",
    "from surprise.model_selection import train_test_split\n",
    "from scipy.sparse import csr_matrix\n",
    "import numpy as np\n"
   ]
  },
  {
   "cell_type": "code",
   "execution_count": 2,
   "metadata": {},
   "outputs": [],
   "source": [
    "import matplotlib.pyplot as plt\n",
    "import matplotlib.ticker as ticker\n",
    "%matplotlib inline\n",
    "import seaborn as sns\n",
    "\n",
    "sns.set(style='whitegrid', palette='muted', font_scale=1.3)\n",
    "\n",
    "import os "
   ]
  },
  {
   "cell_type": "code",
   "execution_count": 3,
   "metadata": {},
   "outputs": [
    {
     "data": {
      "text/plain": [
       "'C:\\\\Users\\\\CristianSalgado\\\\OneDrive - Pi Data Strategy & Consulting\\\\Desafio Pi\\\\Sistema_Recomendacion_Git\\\\gr6_rec-sys\\\\practico'"
      ]
     },
     "execution_count": 3,
     "metadata": {},
     "output_type": "execute_result"
    }
   ],
   "source": [
    "os.getcwd()"
   ]
  },
  {
   "cell_type": "code",
   "execution_count": 4,
   "metadata": {},
   "outputs": [],
   "source": [
    "artists = pd.read_csv('data/lastfm/artists.dat', sep=\"\\t\")\n"
   ]
  },
  {
   "cell_type": "code",
   "execution_count": 5,
   "metadata": {},
   "outputs": [],
   "source": [
    "user_artist = pd.read_csv('data/lastfm/user_artists.dat', sep=\"\\t\", encoding = 'unicode_escape', engine ='python')\n",
    "tags = pd.read_csv('data/lastfm/tags.dat', sep=\"\\t\", encoding = 'unicode_escape', engine ='python')\n",
    "user_friends = pd.read_csv('data/lastfm/user_friends.dat', sep=\"\\t\", encoding = 'unicode_escape', engine ='python')\n",
    "user_taggedartists = pd.read_csv('data/lastfm/user_taggedartists.dat', sep=\"\\t\", encoding = 'unicode_escape', engine ='python')\n",
    "user_taggedartists_timestamps = pd.read_csv('data/lastfm/user_taggedartists_timestamps.dat', sep=\"\\t\")"
   ]
  },
  {
   "cell_type": "code",
   "execution_count": 6,
   "metadata": {},
   "outputs": [
    {
     "data": {
      "text/html": [
       "<div>\n",
       "<style scoped>\n",
       "    .dataframe tbody tr th:only-of-type {\n",
       "        vertical-align: middle;\n",
       "    }\n",
       "\n",
       "    .dataframe tbody tr th {\n",
       "        vertical-align: top;\n",
       "    }\n",
       "\n",
       "    .dataframe thead th {\n",
       "        text-align: right;\n",
       "    }\n",
       "</style>\n",
       "<table border=\"1\" class=\"dataframe\">\n",
       "  <thead>\n",
       "    <tr style=\"text-align: right;\">\n",
       "      <th></th>\n",
       "      <th>id</th>\n",
       "      <th>name</th>\n",
       "      <th>url</th>\n",
       "      <th>pictureURL</th>\n",
       "    </tr>\n",
       "  </thead>\n",
       "  <tbody>\n",
       "    <tr>\n",
       "      <th>0</th>\n",
       "      <td>1</td>\n",
       "      <td>MALICE MIZER</td>\n",
       "      <td>http://www.last.fm/music/MALICE+MIZER</td>\n",
       "      <td>http://userserve-ak.last.fm/serve/252/10808.jpg</td>\n",
       "    </tr>\n",
       "    <tr>\n",
       "      <th>1</th>\n",
       "      <td>2</td>\n",
       "      <td>Diary of Dreams</td>\n",
       "      <td>http://www.last.fm/music/Diary+of+Dreams</td>\n",
       "      <td>http://userserve-ak.last.fm/serve/252/3052066.jpg</td>\n",
       "    </tr>\n",
       "    <tr>\n",
       "      <th>2</th>\n",
       "      <td>3</td>\n",
       "      <td>Carpathian Forest</td>\n",
       "      <td>http://www.last.fm/music/Carpathian+Forest</td>\n",
       "      <td>http://userserve-ak.last.fm/serve/252/40222717...</td>\n",
       "    </tr>\n",
       "    <tr>\n",
       "      <th>3</th>\n",
       "      <td>4</td>\n",
       "      <td>Moi dix Mois</td>\n",
       "      <td>http://www.last.fm/music/Moi+dix+Mois</td>\n",
       "      <td>http://userserve-ak.last.fm/serve/252/54697835...</td>\n",
       "    </tr>\n",
       "    <tr>\n",
       "      <th>4</th>\n",
       "      <td>5</td>\n",
       "      <td>Bella Morte</td>\n",
       "      <td>http://www.last.fm/music/Bella+Morte</td>\n",
       "      <td>http://userserve-ak.last.fm/serve/252/14789013...</td>\n",
       "    </tr>\n",
       "  </tbody>\n",
       "</table>\n",
       "</div>"
      ],
      "text/plain": [
       "   id               name                                         url  \\\n",
       "0   1       MALICE MIZER       http://www.last.fm/music/MALICE+MIZER   \n",
       "1   2    Diary of Dreams    http://www.last.fm/music/Diary+of+Dreams   \n",
       "2   3  Carpathian Forest  http://www.last.fm/music/Carpathian+Forest   \n",
       "3   4       Moi dix Mois       http://www.last.fm/music/Moi+dix+Mois   \n",
       "4   5        Bella Morte        http://www.last.fm/music/Bella+Morte   \n",
       "\n",
       "                                          pictureURL  \n",
       "0    http://userserve-ak.last.fm/serve/252/10808.jpg  \n",
       "1  http://userserve-ak.last.fm/serve/252/3052066.jpg  \n",
       "2  http://userserve-ak.last.fm/serve/252/40222717...  \n",
       "3  http://userserve-ak.last.fm/serve/252/54697835...  \n",
       "4  http://userserve-ak.last.fm/serve/252/14789013...  "
      ]
     },
     "execution_count": 6,
     "metadata": {},
     "output_type": "execute_result"
    }
   ],
   "source": [
    "#artist_data = pd.read_csv(\"../data/lastfmt/artists.dat\", sep=\"\\t\")\n",
    "artist_data = artists\n",
    "artist_data.head()\n",
    "#len(artist_data)"
   ]
  },
  {
   "cell_type": "code",
   "execution_count": 7,
   "metadata": {},
   "outputs": [
    {
     "data": {
      "text/html": [
       "<div>\n",
       "<style scoped>\n",
       "    .dataframe tbody tr th:only-of-type {\n",
       "        vertical-align: middle;\n",
       "    }\n",
       "\n",
       "    .dataframe tbody tr th {\n",
       "        vertical-align: top;\n",
       "    }\n",
       "\n",
       "    .dataframe thead th {\n",
       "        text-align: right;\n",
       "    }\n",
       "</style>\n",
       "<table border=\"1\" class=\"dataframe\">\n",
       "  <thead>\n",
       "    <tr style=\"text-align: right;\">\n",
       "      <th></th>\n",
       "      <th>userID</th>\n",
       "      <th>artistID</th>\n",
       "      <th>weight</th>\n",
       "    </tr>\n",
       "  </thead>\n",
       "  <tbody>\n",
       "    <tr>\n",
       "      <th>0</th>\n",
       "      <td>2</td>\n",
       "      <td>51</td>\n",
       "      <td>13883</td>\n",
       "    </tr>\n",
       "    <tr>\n",
       "      <th>1</th>\n",
       "      <td>2</td>\n",
       "      <td>52</td>\n",
       "      <td>11690</td>\n",
       "    </tr>\n",
       "    <tr>\n",
       "      <th>2</th>\n",
       "      <td>2</td>\n",
       "      <td>53</td>\n",
       "      <td>11351</td>\n",
       "    </tr>\n",
       "    <tr>\n",
       "      <th>3</th>\n",
       "      <td>2</td>\n",
       "      <td>54</td>\n",
       "      <td>10300</td>\n",
       "    </tr>\n",
       "    <tr>\n",
       "      <th>4</th>\n",
       "      <td>2</td>\n",
       "      <td>55</td>\n",
       "      <td>8983</td>\n",
       "    </tr>\n",
       "  </tbody>\n",
       "</table>\n",
       "</div>"
      ],
      "text/plain": [
       "   userID  artistID  weight\n",
       "0       2        51   13883\n",
       "1       2        52   11690\n",
       "2       2        53   11351\n",
       "3       2        54   10300\n",
       "4       2        55    8983"
      ]
     },
     "execution_count": 7,
     "metadata": {},
     "output_type": "execute_result"
    }
   ],
   "source": [
    "#user_artist_plays = pd.read_csv(\"../data/lastfm/user_artists.dat\", sep=\"\\t\")\n",
    "user_artist_plays = user_artist\n",
    "\n",
    "user_artist_plays.head()\n",
    "#len(user_artist_plays)"
   ]
  },
  {
   "cell_type": "code",
   "execution_count": 8,
   "metadata": {},
   "outputs": [
    {
     "data": {
      "text/html": [
       "<div>\n",
       "<style scoped>\n",
       "    .dataframe tbody tr th:only-of-type {\n",
       "        vertical-align: middle;\n",
       "    }\n",
       "\n",
       "    .dataframe tbody tr th {\n",
       "        vertical-align: top;\n",
       "    }\n",
       "\n",
       "    .dataframe thead th {\n",
       "        text-align: right;\n",
       "    }\n",
       "</style>\n",
       "<table border=\"1\" class=\"dataframe\">\n",
       "  <thead>\n",
       "    <tr style=\"text-align: right;\">\n",
       "      <th></th>\n",
       "      <th>tagID</th>\n",
       "      <th>tagValue</th>\n",
       "    </tr>\n",
       "  </thead>\n",
       "  <tbody>\n",
       "    <tr>\n",
       "      <th>127</th>\n",
       "      <td>128</td>\n",
       "      <td>hit</td>\n",
       "    </tr>\n",
       "    <tr>\n",
       "      <th>8567</th>\n",
       "      <td>8995</td>\n",
       "      <td>exquisite</td>\n",
       "    </tr>\n",
       "    <tr>\n",
       "      <th>3821</th>\n",
       "      <td>3893</td>\n",
       "      <td>muito boa</td>\n",
       "    </tr>\n",
       "    <tr>\n",
       "      <th>11836</th>\n",
       "      <td>12522</td>\n",
       "      <td>englisch</td>\n",
       "    </tr>\n",
       "    <tr>\n",
       "      <th>11563</th>\n",
       "      <td>12223</td>\n",
       "      <td>goldfrapp</td>\n",
       "    </tr>\n",
       "  </tbody>\n",
       "</table>\n",
       "</div>"
      ],
      "text/plain": [
       "       tagID   tagValue\n",
       "127      128        hit\n",
       "8567    8995  exquisite\n",
       "3821    3893  muito boa\n",
       "11836  12522   englisch\n",
       "11563  12223  goldfrapp"
      ]
     },
     "execution_count": 8,
     "metadata": {},
     "output_type": "execute_result"
    }
   ],
   "source": [
    "tags.sample(5)"
   ]
  },
  {
   "cell_type": "code",
   "execution_count": 9,
   "metadata": {},
   "outputs": [
    {
     "data": {
      "text/html": [
       "<div>\n",
       "<style scoped>\n",
       "    .dataframe tbody tr th:only-of-type {\n",
       "        vertical-align: middle;\n",
       "    }\n",
       "\n",
       "    .dataframe tbody tr th {\n",
       "        vertical-align: top;\n",
       "    }\n",
       "\n",
       "    .dataframe thead th {\n",
       "        text-align: right;\n",
       "    }\n",
       "</style>\n",
       "<table border=\"1\" class=\"dataframe\">\n",
       "  <thead>\n",
       "    <tr style=\"text-align: right;\">\n",
       "      <th></th>\n",
       "      <th>userID</th>\n",
       "      <th>artistID</th>\n",
       "      <th>tagID</th>\n",
       "      <th>day</th>\n",
       "      <th>month</th>\n",
       "      <th>year</th>\n",
       "    </tr>\n",
       "  </thead>\n",
       "  <tbody>\n",
       "    <tr>\n",
       "      <th>71336</th>\n",
       "      <td>743</td>\n",
       "      <td>195</td>\n",
       "      <td>134</td>\n",
       "      <td>1</td>\n",
       "      <td>3</td>\n",
       "      <td>2009</td>\n",
       "    </tr>\n",
       "    <tr>\n",
       "      <th>144797</th>\n",
       "      <td>1670</td>\n",
       "      <td>15974</td>\n",
       "      <td>1358</td>\n",
       "      <td>1</td>\n",
       "      <td>2</td>\n",
       "      <td>2010</td>\n",
       "    </tr>\n",
       "    <tr>\n",
       "      <th>114460</th>\n",
       "      <td>1277</td>\n",
       "      <td>2983</td>\n",
       "      <td>73</td>\n",
       "      <td>1</td>\n",
       "      <td>12</td>\n",
       "      <td>2007</td>\n",
       "    </tr>\n",
       "    <tr>\n",
       "      <th>183420</th>\n",
       "      <td>2033</td>\n",
       "      <td>1379</td>\n",
       "      <td>16</td>\n",
       "      <td>1</td>\n",
       "      <td>10</td>\n",
       "      <td>2010</td>\n",
       "    </tr>\n",
       "    <tr>\n",
       "      <th>169485</th>\n",
       "      <td>1914</td>\n",
       "      <td>3065</td>\n",
       "      <td>195</td>\n",
       "      <td>1</td>\n",
       "      <td>11</td>\n",
       "      <td>2009</td>\n",
       "    </tr>\n",
       "  </tbody>\n",
       "</table>\n",
       "</div>"
      ],
      "text/plain": [
       "        userID  artistID  tagID  day  month  year\n",
       "71336      743       195    134    1      3  2009\n",
       "144797    1670     15974   1358    1      2  2010\n",
       "114460    1277      2983     73    1     12  2007\n",
       "183420    2033      1379     16    1     10  2010\n",
       "169485    1914      3065    195    1     11  2009"
      ]
     },
     "execution_count": 9,
     "metadata": {},
     "output_type": "execute_result"
    }
   ],
   "source": [
    "user_taggedartists.sample(5)\n",
    "#len(user_taggedartists)"
   ]
  },
  {
   "cell_type": "code",
   "execution_count": 10,
   "metadata": {},
   "outputs": [
    {
     "data": {
      "text/html": [
       "<div>\n",
       "<style scoped>\n",
       "    .dataframe tbody tr th:only-of-type {\n",
       "        vertical-align: middle;\n",
       "    }\n",
       "\n",
       "    .dataframe tbody tr th {\n",
       "        vertical-align: top;\n",
       "    }\n",
       "\n",
       "    .dataframe thead th {\n",
       "        text-align: right;\n",
       "    }\n",
       "</style>\n",
       "<table border=\"1\" class=\"dataframe\">\n",
       "  <thead>\n",
       "    <tr style=\"text-align: right;\">\n",
       "      <th></th>\n",
       "      <th>userID</th>\n",
       "      <th>friendID</th>\n",
       "    </tr>\n",
       "  </thead>\n",
       "  <tbody>\n",
       "    <tr>\n",
       "      <th>7013</th>\n",
       "      <td>498</td>\n",
       "      <td>1132</td>\n",
       "    </tr>\n",
       "    <tr>\n",
       "      <th>2277</th>\n",
       "      <td>162</td>\n",
       "      <td>691</td>\n",
       "    </tr>\n",
       "    <tr>\n",
       "      <th>1563</th>\n",
       "      <td>129</td>\n",
       "      <td>57</td>\n",
       "    </tr>\n",
       "    <tr>\n",
       "      <th>2779</th>\n",
       "      <td>210</td>\n",
       "      <td>1002</td>\n",
       "    </tr>\n",
       "    <tr>\n",
       "      <th>878</th>\n",
       "      <td>63</td>\n",
       "      <td>1978</td>\n",
       "    </tr>\n",
       "  </tbody>\n",
       "</table>\n",
       "</div>"
      ],
      "text/plain": [
       "      userID  friendID\n",
       "7013     498      1132\n",
       "2277     162       691\n",
       "1563     129        57\n",
       "2779     210      1002\n",
       "878       63      1978"
      ]
     },
     "execution_count": 10,
     "metadata": {},
     "output_type": "execute_result"
    }
   ],
   "source": [
    "user_friends.sample(5)"
   ]
  },
  {
   "cell_type": "code",
   "execution_count": 11,
   "metadata": {},
   "outputs": [
    {
     "data": {
      "text/html": [
       "<div>\n",
       "<style scoped>\n",
       "    .dataframe tbody tr th:only-of-type {\n",
       "        vertical-align: middle;\n",
       "    }\n",
       "\n",
       "    .dataframe tbody tr th {\n",
       "        vertical-align: top;\n",
       "    }\n",
       "\n",
       "    .dataframe thead th {\n",
       "        text-align: right;\n",
       "    }\n",
       "</style>\n",
       "<table border=\"1\" class=\"dataframe\">\n",
       "  <thead>\n",
       "    <tr style=\"text-align: right;\">\n",
       "      <th></th>\n",
       "      <th>userID</th>\n",
       "      <th>artistID</th>\n",
       "      <th>tagID</th>\n",
       "      <th>timestamp</th>\n",
       "    </tr>\n",
       "  </thead>\n",
       "  <tbody>\n",
       "    <tr>\n",
       "      <th>0</th>\n",
       "      <td>2</td>\n",
       "      <td>52</td>\n",
       "      <td>13</td>\n",
       "      <td>1238536800000</td>\n",
       "    </tr>\n",
       "    <tr>\n",
       "      <th>1</th>\n",
       "      <td>2</td>\n",
       "      <td>52</td>\n",
       "      <td>15</td>\n",
       "      <td>1238536800000</td>\n",
       "    </tr>\n",
       "    <tr>\n",
       "      <th>2</th>\n",
       "      <td>2</td>\n",
       "      <td>52</td>\n",
       "      <td>18</td>\n",
       "      <td>1238536800000</td>\n",
       "    </tr>\n",
       "    <tr>\n",
       "      <th>3</th>\n",
       "      <td>2</td>\n",
       "      <td>52</td>\n",
       "      <td>21</td>\n",
       "      <td>1238536800000</td>\n",
       "    </tr>\n",
       "    <tr>\n",
       "      <th>4</th>\n",
       "      <td>2</td>\n",
       "      <td>52</td>\n",
       "      <td>41</td>\n",
       "      <td>1238536800000</td>\n",
       "    </tr>\n",
       "    <tr>\n",
       "      <th>...</th>\n",
       "      <td>...</td>\n",
       "      <td>...</td>\n",
       "      <td>...</td>\n",
       "      <td>...</td>\n",
       "    </tr>\n",
       "    <tr>\n",
       "      <th>186474</th>\n",
       "      <td>2100</td>\n",
       "      <td>16437</td>\n",
       "      <td>4</td>\n",
       "      <td>1277935200000</td>\n",
       "    </tr>\n",
       "    <tr>\n",
       "      <th>186475</th>\n",
       "      <td>2100</td>\n",
       "      <td>16437</td>\n",
       "      <td>292</td>\n",
       "      <td>1272664800000</td>\n",
       "    </tr>\n",
       "    <tr>\n",
       "      <th>186476</th>\n",
       "      <td>2100</td>\n",
       "      <td>16437</td>\n",
       "      <td>2087</td>\n",
       "      <td>1277935200000</td>\n",
       "    </tr>\n",
       "    <tr>\n",
       "      <th>186477</th>\n",
       "      <td>2100</td>\n",
       "      <td>16437</td>\n",
       "      <td>2801</td>\n",
       "      <td>1272664800000</td>\n",
       "    </tr>\n",
       "    <tr>\n",
       "      <th>186478</th>\n",
       "      <td>2100</td>\n",
       "      <td>16437</td>\n",
       "      <td>3335</td>\n",
       "      <td>1277935200000</td>\n",
       "    </tr>\n",
       "  </tbody>\n",
       "</table>\n",
       "<p>186479 rows × 4 columns</p>\n",
       "</div>"
      ],
      "text/plain": [
       "        userID  artistID  tagID      timestamp\n",
       "0            2        52     13  1238536800000\n",
       "1            2        52     15  1238536800000\n",
       "2            2        52     18  1238536800000\n",
       "3            2        52     21  1238536800000\n",
       "4            2        52     41  1238536800000\n",
       "...        ...       ...    ...            ...\n",
       "186474    2100     16437      4  1277935200000\n",
       "186475    2100     16437    292  1272664800000\n",
       "186476    2100     16437   2087  1277935200000\n",
       "186477    2100     16437   2801  1272664800000\n",
       "186478    2100     16437   3335  1277935200000\n",
       "\n",
       "[186479 rows x 4 columns]"
      ]
     },
     "execution_count": 11,
     "metadata": {},
     "output_type": "execute_result"
    }
   ],
   "source": [
    "user_taggedartists_timestamps"
   ]
  },
  {
   "cell_type": "markdown",
   "metadata": {},
   "source": [
    "## Actividades\n",
    "\n",
    "El [Ejercicio 1](#Ejercicio-1---Análisis-Exploratorio-de-Datos) deberá ser realizado por quienes estén realizando cualquier parte de la materia.\n",
    "\n",
    "El [Ejercicio 2](#Ejercicio-2---Sistema-de-Recomendación) variará de acuerdo a que parte de la materia estén realizando (quienes estén realizando la materia completa, en realidad pueden realizar ambas opciones si así lo desean)."
   ]
  },
  {
   "cell_type": "markdown",
   "metadata": {},
   "source": [
    "De acuerdo a la parte de la materia que hagan, deberán realizar una de las siguientes actividades (pueden realizar ambas si así lo desean):\n",
    "\n",
    "La idea del práctico es hacer un análisis muy sencillo del conjunto de datos y desarrollar dos sistemas de recomendación: \n",
    "1. El primero, más sencillo, utilizando [Surpr!se](http://surpriselib.com/), y a partir de los datos de LastFM, en especial del archivo `./data/lastfm/user_artists.dat`, generar un sistema de recomendación basado en filtros colaborativos.\n",
    "2. En el segundo, deberán utilizar todos los datos ofrecidos en el dataset de LastFM para generar un sistema de filtrado colaborativo más complejo, deberá utilizar las técnicas aprendidas \n",
    "\n",
    "basado en filtrado colaborativo (usando Surpr!se), a partir de los datos existentes."
   ]
  },
  {
   "cell_type": "markdown",
   "metadata": {},
   "source": [
    "## Ejercicio 1 - Análisis Exploratorio de Datos\n",
    "\n",
    "En esta primera parte deberán hacer un análisis exploratorio de los datos, aprovechando toda la información brindada por el conjunto. A partir de eso podrán tener mayor idea de qué tipo de datos estarán enfrentando (describe o hist).\n",
    "\n",
    "Algunas preguntas para responder:\n",
    "- ¿Cuáles son los artistas que fueron más escuchados?\n",
    "- ¿Cómo es la distribución de cantidad de listens por user?\n",
    "- ¿Es posible ver el género más escuchado?"
   ]
  },
  {
   "cell_type": "code",
   "execution_count": 12,
   "metadata": {},
   "outputs": [
    {
     "data": {
      "text/html": [
       "<div>\n",
       "<style scoped>\n",
       "    .dataframe tbody tr th:only-of-type {\n",
       "        vertical-align: middle;\n",
       "    }\n",
       "\n",
       "    .dataframe tbody tr th {\n",
       "        vertical-align: top;\n",
       "    }\n",
       "\n",
       "    .dataframe thead th {\n",
       "        text-align: right;\n",
       "    }\n",
       "</style>\n",
       "<table border=\"1\" class=\"dataframe\">\n",
       "  <thead>\n",
       "    <tr style=\"text-align: right;\">\n",
       "      <th></th>\n",
       "      <th>userID</th>\n",
       "      <th>artistID</th>\n",
       "      <th>weight</th>\n",
       "    </tr>\n",
       "  </thead>\n",
       "  <tbody>\n",
       "    <tr>\n",
       "      <th>0</th>\n",
       "      <td>2</td>\n",
       "      <td>51</td>\n",
       "      <td>13883</td>\n",
       "    </tr>\n",
       "  </tbody>\n",
       "</table>\n",
       "</div>"
      ],
      "text/plain": [
       "   userID  artistID  weight\n",
       "0       2        51   13883"
      ]
     },
     "execution_count": 12,
     "metadata": {},
     "output_type": "execute_result"
    }
   ],
   "source": [
    "user_artist_plays.head(1)"
   ]
  },
  {
   "cell_type": "code",
   "execution_count": 13,
   "metadata": {},
   "outputs": [],
   "source": [
    "#df1 = artist_data.merge(user_artist_plays, left_on='id', right_on='userID' , how='inner')\n",
    "#df1 =user_artist_plays.merge(artist_data, left_on='userID', right_on='id' , how='left')\n",
    "df = pd.merge(\n",
    "  artist_data, user_artist_plays,\n",
    "  how=\"inner\",\n",
    "  left_on=\"id\",\n",
    "  right_on=\"artistID\"\n",
    ")\n",
    "df = df.rename(columns={\"weight\": \"playCount\"})"
   ]
  },
  {
   "cell_type": "code",
   "execution_count": 14,
   "metadata": {},
   "outputs": [
    {
     "name": "stdout",
     "output_type": "stream",
     "text": [
      "There are 92834 observations in the dataset\n"
     ]
    }
   ],
   "source": [
    "#Get total observations\n",
    "print(f\"There are {df.shape[0]} observations in the dataset\")\n"
   ]
  },
  {
   "cell_type": "code",
   "execution_count": 15,
   "metadata": {},
   "outputs": [
    {
     "data": {
      "text/plain": [
       "id              0\n",
       "name            0\n",
       "url             0\n",
       "pictureURL    445\n",
       "userID          0\n",
       "artistID        0\n",
       "playCount       0\n",
       "dtype: int64"
      ]
     },
     "execution_count": 15,
     "metadata": {},
     "output_type": "execute_result"
    }
   ],
   "source": [
    "df.isnull().sum()  #nulos\n"
   ]
  },
  {
   "cell_type": "code",
   "execution_count": 16,
   "metadata": {},
   "outputs": [
    {
     "data": {
      "text/plain": [
       "id             int64\n",
       "name          object\n",
       "url           object\n",
       "pictureURL    object\n",
       "userID         int64\n",
       "artistID       int64\n",
       "playCount      int64\n",
       "dtype: object"
      ]
     },
     "execution_count": 16,
     "metadata": {},
     "output_type": "execute_result"
    }
   ],
   "source": [
    "df.dtypes #types\n"
   ]
  },
  {
   "cell_type": "code",
   "execution_count": null,
   "metadata": {},
   "outputs": [],
   "source": []
  },
  {
   "cell_type": "code",
   "execution_count": 17,
   "metadata": {},
   "outputs": [
    {
     "name": "stdout",
     "output_type": "stream",
     "text": [
      "Dataset shape: (92834, 7)\n",
      "-Dataset examples-\n",
      "          id                 name  \\\n",
      "0          1         MALICE MIZER   \n",
      "10000    227          The Beatles   \n",
      "20000    349   The Pussycat Dolls   \n",
      "30000    562              The Who   \n",
      "40000    959                Queen   \n",
      "50000   1456    Far East Movement   \n",
      "60000   2584           Rogue Wave   \n",
      "70000   4463  Fernando & Sorocaba   \n",
      "80000   8369   Faith and the Muse   \n",
      "90000  15715           Agnes Obel   \n",
      "\n",
      "                                                     url  \\\n",
      "0                  http://www.last.fm/music/MALICE+MIZER   \n",
      "10000               http://www.last.fm/music/The+Beatles   \n",
      "20000        http://www.last.fm/music/The+Pussycat+Dolls   \n",
      "30000                   http://www.last.fm/music/The+Who   \n",
      "40000                     http://www.last.fm/music/Queen   \n",
      "50000         http://www.last.fm/music/Far+East+Movement   \n",
      "60000                http://www.last.fm/music/Rogue+Wave   \n",
      "70000  http://www.last.fm/music/Fernando%2B%2526%2BSo...   \n",
      "80000        http://www.last.fm/music/Faith+and+the+Muse   \n",
      "90000                http://www.last.fm/music/Agnes+Obel   \n",
      "\n",
      "                                              pictureURL  userID  artistID  \\\n",
      "0        http://userserve-ak.last.fm/serve/252/10808.jpg      34         1   \n",
      "10000  http://userserve-ak.last.fm/serve/252/2588646.jpg     835       227   \n",
      "20000  http://userserve-ak.last.fm/serve/252/31329805...     502       349   \n",
      "30000   http://userserve-ak.last.fm/serve/252/361952.jpg    1021       562   \n",
      "40000  http://userserve-ak.last.fm/serve/252/45625545...     637       959   \n",
      "50000  http://userserve-ak.last.fm/serve/252/53131319...    1753      1456   \n",
      "60000   http://userserve-ak.last.fm/serve/252/158616.jpg      97      2584   \n",
      "70000  http://userserve-ak.last.fm/serve/252/58005619...     472      4463   \n",
      "80000  http://userserve-ak.last.fm/serve/252/35548933...     714      8369   \n",
      "90000  http://userserve-ak.last.fm/serve/252/49098545...    1630     15715   \n",
      "\n",
      "       playCount  \n",
      "0            212  \n",
      "10000         97  \n",
      "20000        314  \n",
      "30000        790  \n",
      "40000         36  \n",
      "50000        162  \n",
      "60000        453  \n",
      "70000         85  \n",
      "80000        119  \n",
      "90000        292  \n"
     ]
    }
   ],
   "source": [
    "print('Dataset shape: {}'.format(df.shape))\n",
    "print('-Dataset examples-')\n",
    "print(df.iloc[::10000, :])"
   ]
  },
  {
   "cell_type": "code",
   "execution_count": 18,
   "metadata": {},
   "outputs": [
    {
     "name": "stdout",
     "output_type": "stream",
     "text": [
      "Numero de Listens: 92834\n",
      "Numero de Artistas únicos : 17632\n",
      "Numero de Usuarios únicos : 1892\n",
      "Promedio de Listens por usuario : 49.07\n",
      "Promedio de Listens por Artistas : 5.27\n"
     ]
    }
   ],
   "source": [
    "n_ratings = len(df)\n",
    "n_artist = df['artistID'].nunique()\n",
    "n_users = df['userID'].nunique()\n",
    "\n",
    "print(f\"Numero de Listens: {n_ratings}\")\n",
    "print(f\"Numero de Artistas únicos : {n_artist}\")\n",
    "print(f\"Numero de Usuarios únicos : {n_users}\")\n",
    "print(f\"Promedio de Listens por usuario : {round(n_ratings/n_users, 2)}\")\n",
    "print(f\"Promedio de Listens por Artistas : {round(n_ratings/n_artist, 2)}\")"
   ]
  },
  {
   "cell_type": "code",
   "execution_count": 19,
   "metadata": {},
   "outputs": [],
   "source": [
    "### Artist Rank"
   ]
  },
  {
   "cell_type": "code",
   "execution_count": 20,
   "metadata": {},
   "outputs": [],
   "source": [
    "artist_rank = df.groupby(['name']) \\\n",
    "  .agg({'userID' : 'count', 'playCount' : 'sum'}) \\\n",
    "  .rename(columns={\"userID\" : 'totalUniqueUsers', \"playCount\" : \"totalArtistPlays\"}) \\\n",
    "  .sort_values(['totalArtistPlays'], ascending=False)\n",
    "artist_rank['avgUserPlays'] = artist_rank['totalArtistPlays'] / artist_rank['totalUniqueUsers']"
   ]
  },
  {
   "cell_type": "code",
   "execution_count": 21,
   "metadata": {},
   "outputs": [],
   "source": [
    "df = df.join(artist_rank, on=\"name\", how=\"inner\") \\\n",
    "  .sort_values(['playCount'], ascending=False)"
   ]
  },
  {
   "cell_type": "code",
   "execution_count": 22,
   "metadata": {},
   "outputs": [
    {
     "data": {
      "text/html": [
       "<div>\n",
       "<style scoped>\n",
       "    .dataframe tbody tr th:only-of-type {\n",
       "        vertical-align: middle;\n",
       "    }\n",
       "\n",
       "    .dataframe tbody tr th {\n",
       "        vertical-align: top;\n",
       "    }\n",
       "\n",
       "    .dataframe thead th {\n",
       "        text-align: right;\n",
       "    }\n",
       "</style>\n",
       "<table border=\"1\" class=\"dataframe\">\n",
       "  <thead>\n",
       "    <tr style=\"text-align: right;\">\n",
       "      <th></th>\n",
       "      <th>id</th>\n",
       "      <th>name</th>\n",
       "      <th>url</th>\n",
       "      <th>pictureURL</th>\n",
       "      <th>userID</th>\n",
       "      <th>artistID</th>\n",
       "      <th>playCount</th>\n",
       "      <th>totalUniqueUsers</th>\n",
       "      <th>totalArtistPlays</th>\n",
       "      <th>avgUserPlays</th>\n",
       "    </tr>\n",
       "  </thead>\n",
       "  <tbody>\n",
       "    <tr>\n",
       "      <th>2800</th>\n",
       "      <td>72</td>\n",
       "      <td>Depeche Mode</td>\n",
       "      <td>http://www.last.fm/music/Depeche+Mode</td>\n",
       "      <td>http://userserve-ak.last.fm/serve/252/75022.jpg</td>\n",
       "      <td>1642</td>\n",
       "      <td>72</td>\n",
       "      <td>352698</td>\n",
       "      <td>282</td>\n",
       "      <td>1301308</td>\n",
       "      <td>4614.567376</td>\n",
       "    </tr>\n",
       "    <tr>\n",
       "      <th>35843</th>\n",
       "      <td>792</td>\n",
       "      <td>Thalía</td>\n",
       "      <td>http://www.last.fm/music/Thal%C3%ADa</td>\n",
       "      <td>http://userserve-ak.last.fm/serve/252/40337541...</td>\n",
       "      <td>2071</td>\n",
       "      <td>792</td>\n",
       "      <td>324663</td>\n",
       "      <td>26</td>\n",
       "      <td>350035</td>\n",
       "      <td>13462.884615</td>\n",
       "    </tr>\n",
       "    <tr>\n",
       "      <th>27302</th>\n",
       "      <td>511</td>\n",
       "      <td>U2</td>\n",
       "      <td>http://www.last.fm/music/U2</td>\n",
       "      <td>http://userserve-ak.last.fm/serve/252/4404698.jpg</td>\n",
       "      <td>1094</td>\n",
       "      <td>511</td>\n",
       "      <td>320725</td>\n",
       "      <td>185</td>\n",
       "      <td>493024</td>\n",
       "      <td>2664.994595</td>\n",
       "    </tr>\n",
       "    <tr>\n",
       "      <th>8152</th>\n",
       "      <td>203</td>\n",
       "      <td>Blur</td>\n",
       "      <td>http://www.last.fm/music/Blur</td>\n",
       "      <td>http://userserve-ak.last.fm/serve/252/269394.jpg</td>\n",
       "      <td>1905</td>\n",
       "      <td>203</td>\n",
       "      <td>257978</td>\n",
       "      <td>114</td>\n",
       "      <td>318221</td>\n",
       "      <td>2791.412281</td>\n",
       "    </tr>\n",
       "    <tr>\n",
       "      <th>26670</th>\n",
       "      <td>498</td>\n",
       "      <td>Paramore</td>\n",
       "      <td>http://www.last.fm/music/Paramore</td>\n",
       "      <td>http://userserve-ak.last.fm/serve/252/35837991...</td>\n",
       "      <td>1664</td>\n",
       "      <td>498</td>\n",
       "      <td>227829</td>\n",
       "      <td>399</td>\n",
       "      <td>963449</td>\n",
       "      <td>2414.659148</td>\n",
       "    </tr>\n",
       "  </tbody>\n",
       "</table>\n",
       "</div>"
      ],
      "text/plain": [
       "        id          name                                    url  \\\n",
       "2800    72  Depeche Mode  http://www.last.fm/music/Depeche+Mode   \n",
       "35843  792        Thalía   http://www.last.fm/music/Thal%C3%ADa   \n",
       "27302  511            U2            http://www.last.fm/music/U2   \n",
       "8152   203          Blur          http://www.last.fm/music/Blur   \n",
       "26670  498      Paramore      http://www.last.fm/music/Paramore   \n",
       "\n",
       "                                              pictureURL  userID  artistID  \\\n",
       "2800     http://userserve-ak.last.fm/serve/252/75022.jpg    1642        72   \n",
       "35843  http://userserve-ak.last.fm/serve/252/40337541...    2071       792   \n",
       "27302  http://userserve-ak.last.fm/serve/252/4404698.jpg    1094       511   \n",
       "8152    http://userserve-ak.last.fm/serve/252/269394.jpg    1905       203   \n",
       "26670  http://userserve-ak.last.fm/serve/252/35837991...    1664       498   \n",
       "\n",
       "       playCount  totalUniqueUsers  totalArtistPlays  avgUserPlays  \n",
       "2800      352698               282           1301308   4614.567376  \n",
       "35843     324663                26            350035  13462.884615  \n",
       "27302     320725               185            493024   2664.994595  \n",
       "8152      257978               114            318221   2791.412281  \n",
       "26670     227829               399            963449   2414.659148  "
      ]
     },
     "execution_count": 22,
     "metadata": {},
     "output_type": "execute_result"
    }
   ],
   "source": [
    "df.head(5)"
   ]
  },
  {
   "cell_type": "code",
   "execution_count": 23,
   "metadata": {},
   "outputs": [
    {
     "data": {
      "text/html": [
       "<div>\n",
       "<style scoped>\n",
       "    .dataframe tbody tr th:only-of-type {\n",
       "        vertical-align: middle;\n",
       "    }\n",
       "\n",
       "    .dataframe tbody tr th {\n",
       "        vertical-align: top;\n",
       "    }\n",
       "\n",
       "    .dataframe thead th {\n",
       "        text-align: right;\n",
       "    }\n",
       "</style>\n",
       "<table border=\"1\" class=\"dataframe\">\n",
       "  <thead>\n",
       "    <tr style=\"text-align: right;\">\n",
       "      <th></th>\n",
       "      <th>name</th>\n",
       "      <th>userID</th>\n",
       "      <th>artistID</th>\n",
       "      <th>playCount</th>\n",
       "      <th>totalUniqueUsers</th>\n",
       "      <th>totalArtistPlays</th>\n",
       "      <th>avgUserPlays</th>\n",
       "    </tr>\n",
       "  </thead>\n",
       "  <tbody>\n",
       "    <tr>\n",
       "      <th>2800</th>\n",
       "      <td>Depeche Mode</td>\n",
       "      <td>1642</td>\n",
       "      <td>72</td>\n",
       "      <td>352698</td>\n",
       "      <td>282</td>\n",
       "      <td>1301308</td>\n",
       "      <td>4614.567376</td>\n",
       "    </tr>\n",
       "    <tr>\n",
       "      <th>35843</th>\n",
       "      <td>Thalía</td>\n",
       "      <td>2071</td>\n",
       "      <td>792</td>\n",
       "      <td>324663</td>\n",
       "      <td>26</td>\n",
       "      <td>350035</td>\n",
       "      <td>13462.884615</td>\n",
       "    </tr>\n",
       "    <tr>\n",
       "      <th>27302</th>\n",
       "      <td>U2</td>\n",
       "      <td>1094</td>\n",
       "      <td>511</td>\n",
       "      <td>320725</td>\n",
       "      <td>185</td>\n",
       "      <td>493024</td>\n",
       "      <td>2664.994595</td>\n",
       "    </tr>\n",
       "    <tr>\n",
       "      <th>8152</th>\n",
       "      <td>Blur</td>\n",
       "      <td>1905</td>\n",
       "      <td>203</td>\n",
       "      <td>257978</td>\n",
       "      <td>114</td>\n",
       "      <td>318221</td>\n",
       "      <td>2791.412281</td>\n",
       "    </tr>\n",
       "    <tr>\n",
       "      <th>26670</th>\n",
       "      <td>Paramore</td>\n",
       "      <td>1664</td>\n",
       "      <td>498</td>\n",
       "      <td>227829</td>\n",
       "      <td>399</td>\n",
       "      <td>963449</td>\n",
       "      <td>2414.659148</td>\n",
       "    </tr>\n",
       "  </tbody>\n",
       "</table>\n",
       "</div>"
      ],
      "text/plain": [
       "               name  userID  artistID  playCount  totalUniqueUsers  \\\n",
       "2800   Depeche Mode    1642        72     352698               282   \n",
       "35843        Thalía    2071       792     324663                26   \n",
       "27302            U2    1094       511     320725               185   \n",
       "8152           Blur    1905       203     257978               114   \n",
       "26670      Paramore    1664       498     227829               399   \n",
       "\n",
       "       totalArtistPlays  avgUserPlays  \n",
       "2800            1301308   4614.567376  \n",
       "35843            350035  13462.884615  \n",
       "27302            493024   2664.994595  \n",
       "8152             318221   2791.412281  \n",
       "26670            963449   2414.659148  "
      ]
     },
     "execution_count": 23,
     "metadata": {},
     "output_type": "execute_result"
    }
   ],
   "source": [
    "df = df.drop(columns=['url', 'pictureURL','id',])\n",
    "df.head()"
   ]
  },
  {
   "cell_type": "code",
   "execution_count": 24,
   "metadata": {},
   "outputs": [],
   "source": [
    "def bar_chart_int(x,y,x_label,y_label,title,caption,total_val):\n",
    "    fig, ax = plt.subplots()\n",
    "    fig.set_size_inches(16, 5)\n",
    "    ax = sns.barplot(x[:20], y[:20], palette='Blues_r')\n",
    "    ax.set_xlabel(x_label)\n",
    "    ax.set_ylabel(y_label)\n",
    "    ax.set_title(title)\n",
    "    ax.get_yaxis().set_major_formatter(ticker.FuncFormatter(lambda x, p: '{:,}'.format(int(x))))\n",
    "\n",
    "    # our bar label placement\n",
    "    for p in ax.patches:\n",
    "        height = p.get_height()\n",
    "        pct = 100*(height/total_val)\n",
    "        ax.text(p.get_x()+p.get_width()/2.,\n",
    "                height + 3,\n",
    "                '{:1.1f}%'.format(pct),\n",
    "                ha=\"center\",verticalalignment='bottom',color='black', fontsize=12) \n",
    "\n",
    "    # our caption statement\n",
    "    ax.text(19, max(y[:20])*0.95, caption,horizontalalignment='right')\n",
    "\n",
    "    plt.xticks(rotation=90)\n",
    "    plt.show()"
   ]
  },
  {
   "cell_type": "code",
   "execution_count": 25,
   "metadata": {},
   "outputs": [
    {
     "data": {
      "image/png": "[encoded data removed]",
      "text/plain": [
       "<Figure size 432x288 with 1 Axes>"
      ]
     },
     "metadata": {},
     "output_type": "display_data"
    }
   ],
   "source": [
    "ax = df.playCount.value_counts().hist(bins=100)\n",
    "ax.set_xlim((0, 200))\n",
    "ax.set_title(\"Artist played count\")\n",
    "ax.set_xlabel(\"user count\")\n",
    "ax.set_ylabel(\"played times\");"
   ]
  },
  {
   "cell_type": "code",
   "execution_count": 26,
   "metadata": {},
   "outputs": [
    {
     "data": {
      "image/png": "[encoded data removed]",
      "text/plain": [
       "<Figure size 1152x360 with 1 Axes>"
      ]
     },
     "metadata": {},
     "output_type": "display_data"
    }
   ],
   "source": [
    "c1 = artist_rank\n",
    "x = c1.index\n",
    "y = c1.totalArtistPlays\n",
    "x_label = 'Artist Name'\n",
    "y_label = 'Total Artist Plays'\n",
    "title = 'Total Plays by Artist'\n",
    "caption = 'Percentage of total plays'\n",
    "total_val = c1.totalArtistPlays.sum()\n",
    "\n",
    "bar_chart_int(x,y,x_label,y_label,title,caption,total_val)"
   ]
  },
  {
   "cell_type": "code",
   "execution_count": 27,
   "metadata": {},
   "outputs": [
    {
     "data": {
      "image/png": "[encoded data removed]",
      "text/plain": [
       "<Figure size 1152x360 with 1 Axes>"
      ]
     },
     "metadata": {},
     "output_type": "display_data"
    }
   ],
   "source": [
    "c2 = artist_rank.sort_values(['totalUniqueUsers'],ascending=False)\n",
    "x = c2.index\n",
    "y = c2.totalUniqueUsers\n",
    "x_label = 'Artist Name'\n",
    "y_label = 'Unique Users Played'\n",
    "title = 'Unique Users per Artist'\n",
    "caption = 'Percentage of total unique users'\n",
    "total_val = df.userID.nunique()\n",
    "\n",
    "bar_chart_int(x,y,x_label,y_label,title,caption,total_val)"
   ]
  },
  {
   "cell_type": "code",
   "execution_count": 28,
   "metadata": {},
   "outputs": [
    {
     "data": {
      "image/png": "[encoded data removed]",
      "text/plain": [
       "<Figure size 1080x720 with 1 Axes>"
      ]
     },
     "metadata": {},
     "output_type": "display_data"
    }
   ],
   "source": [
    "top_artists = artist_rank.sort_values(['totalArtistPlays'],ascending=False).index[:12]\n",
    "\n",
    "x = artist_rank.totalUniqueUsers\n",
    "y = artist_rank.totalArtistPlays\n",
    "labels = artist_rank.index\n",
    "\n",
    "fig, ax = plt.subplots(figsize=(15,10))\n",
    "sns.regplot(x,y)\n",
    "ax.set_title('Artist Popularity: Play Count vs Unique Users')\n",
    "ax.yaxis.set_major_formatter(ticker.FuncFormatter(lambda y, _: '{:,.0f}'.format(y)))\n",
    "ax.set_xlabel('Total Unique Users')\n",
    "ax.set_ylabel('Total Artist Plays')\n",
    "\n",
    "for i, t in enumerate(labels):\n",
    "    if t in top_artists:\n",
    "        ax.annotate(t,(x[i],y[i]))"
   ]
  },
  {
   "cell_type": "code",
   "execution_count": 29,
   "metadata": {},
   "outputs": [
    {
     "data": {
      "text/html": [
       "<div>\n",
       "<style scoped>\n",
       "    .dataframe tbody tr th:only-of-type {\n",
       "        vertical-align: middle;\n",
       "    }\n",
       "\n",
       "    .dataframe tbody tr th {\n",
       "        vertical-align: top;\n",
       "    }\n",
       "\n",
       "    .dataframe thead th {\n",
       "        text-align: right;\n",
       "    }\n",
       "</style>\n",
       "<table border=\"1\" class=\"dataframe\">\n",
       "  <thead>\n",
       "    <tr style=\"text-align: right;\">\n",
       "      <th></th>\n",
       "      <th>userID</th>\n",
       "      <th>artistID</th>\n",
       "      <th>weight</th>\n",
       "    </tr>\n",
       "  </thead>\n",
       "  <tbody>\n",
       "    <tr>\n",
       "      <th>0</th>\n",
       "      <td>2</td>\n",
       "      <td>51</td>\n",
       "      <td>13883</td>\n",
       "    </tr>\n",
       "  </tbody>\n",
       "</table>\n",
       "</div>"
      ],
      "text/plain": [
       "   userID  artistID  weight\n",
       "0       2        51   13883"
      ]
     },
     "execution_count": 29,
     "metadata": {},
     "output_type": "execute_result"
    }
   ],
   "source": [
    "user_artist_plays.head(1)"
   ]
  },
  {
   "cell_type": "code",
   "execution_count": 30,
   "metadata": {},
   "outputs": [
    {
     "data": {
      "text/html": [
       "<div>\n",
       "<style scoped>\n",
       "    .dataframe tbody tr th:only-of-type {\n",
       "        vertical-align: middle;\n",
       "    }\n",
       "\n",
       "    .dataframe tbody tr th {\n",
       "        vertical-align: top;\n",
       "    }\n",
       "\n",
       "    .dataframe thead th {\n",
       "        text-align: right;\n",
       "    }\n",
       "</style>\n",
       "<table border=\"1\" class=\"dataframe\">\n",
       "  <thead>\n",
       "    <tr style=\"text-align: right;\">\n",
       "      <th></th>\n",
       "      <th>userID</th>\n",
       "      <th>weight</th>\n",
       "    </tr>\n",
       "  </thead>\n",
       "  <tbody>\n",
       "    <tr>\n",
       "      <th>1878</th>\n",
       "      <td>2085</td>\n",
       "      <td>1</td>\n",
       "    </tr>\n",
       "    <tr>\n",
       "      <th>1187</th>\n",
       "      <td>1307</td>\n",
       "      <td>1</td>\n",
       "    </tr>\n",
       "    <tr>\n",
       "      <th>1562</th>\n",
       "      <td>1731</td>\n",
       "      <td>1</td>\n",
       "    </tr>\n",
       "    <tr>\n",
       "      <th>1584</th>\n",
       "      <td>1758</td>\n",
       "      <td>1</td>\n",
       "    </tr>\n",
       "    <tr>\n",
       "      <th>571</th>\n",
       "      <td>615</td>\n",
       "      <td>1</td>\n",
       "    </tr>\n",
       "    <tr>\n",
       "      <th>...</th>\n",
       "      <td>...</td>\n",
       "      <td>...</td>\n",
       "    </tr>\n",
       "    <tr>\n",
       "      <th>642</th>\n",
       "      <td>690</td>\n",
       "      <td>50</td>\n",
       "    </tr>\n",
       "    <tr>\n",
       "      <th>640</th>\n",
       "      <td>688</td>\n",
       "      <td>50</td>\n",
       "    </tr>\n",
       "    <tr>\n",
       "      <th>639</th>\n",
       "      <td>687</td>\n",
       "      <td>50</td>\n",
       "    </tr>\n",
       "    <tr>\n",
       "      <th>638</th>\n",
       "      <td>686</td>\n",
       "      <td>50</td>\n",
       "    </tr>\n",
       "    <tr>\n",
       "      <th>637</th>\n",
       "      <td>685</td>\n",
       "      <td>50</td>\n",
       "    </tr>\n",
       "  </tbody>\n",
       "</table>\n",
       "<p>1882 rows × 2 columns</p>\n",
       "</div>"
      ],
      "text/plain": [
       "      userID  weight\n",
       "1878    2085       1\n",
       "1187    1307       1\n",
       "1562    1731       1\n",
       "1584    1758       1\n",
       "571      615       1\n",
       "...      ...     ...\n",
       "642      690      50\n",
       "640      688      50\n",
       "639      687      50\n",
       "638      686      50\n",
       "637      685      50\n",
       "\n",
       "[1882 rows x 2 columns]"
      ]
     },
     "execution_count": 30,
     "metadata": {},
     "output_type": "execute_result"
    }
   ],
   "source": [
    "user_artist_plays.groupby('userID')['weight'].count().reset_index().sort_values('weight', ascending=True)[:-10]\n"
   ]
  },
  {
   "cell_type": "markdown",
   "metadata": {},
   "source": [
    "## Ejercicio 2 - Sistema de Recomendación"
   ]
  },
  {
   "cell_type": "markdown",
   "metadata": {},
   "source": [
    "### Ejercicio 2a - Filtrados Colaborativos\n",
    "\n",
    "Esta parte del ejercicio es obligatoria para quienes quieran aprobar la parte introductoria de la materia (i.e. los contenidos que se ven en las dos primeras clases), quienes estén realizando la materia completa pueden optar por saltearse este ejercicio (aunque es recomendable pensarlo) y pasar directamente al [Ejercicio 2b](#Ejercicio-2b---Sistemas-de-Recomendación-Avanzados). Deberán realizar un sistema de filtrados colaborativos basado en [Surpr!se](http://surpriselib.com/), a partir de los datos que proporciona `LastFM`, en especial el archivo `user_artists.dat`. Tener en cuenta los siguientes pasos:\n",
    "\n",
    "1. **Desarrollo de la matriz de Usuario-Contenido:** A partir del conjunto de datos deberán generar una matriz de usuario-contenido. Tener en cuenta que los ratings son implícitos, puesto que se dan a partir de la cantidad de veces que un usuario escuchó a determinado artista.\n",
    "2. **Entrenamiento del algoritmo de recomendación**: Utilizando las herramientas brindadas por [Surpr!se](http://surpriselib.com/), entrenen varios modelos (al menos 3) de sistemas de recomendación basados en filtrado colaborativo a partir de su matriz de usuario-contenido. Recuerden tener en cuenta lo aprendido en la diplomatura a la hora de evaluar y validar el modelo. Si necesitan inspiración, les recomendamos revisar [este notebook con información de como entrenar un sistema de recomendación con Surpr!se](https://github.com/susanli2016/Machine-Learning-with-Python/blob/master/Building%20Recommender%20System%20with%20Surprise.ipynb).\n",
    "3. **Sistema de recomendación**: A partir del mejor modelo de recomendación que haya surgido del caso anterior, y utilizando los datos del archivo `artist.dat`, armar un sistema de recomendación sencillo que, dado un nombre de un artista, devuelva el top 10 de artistas más similares. La idea es que el sistema tome el nombre de un artista y devuelva el nombre de otros artistas (no simplemente tomar y devolver IDs). Se recomienda [revisar este notebook para inspiración (ver el paso número 5)](https://github.com/topspinj/pydata-workshop/blob/master/tutorial.ipynb)."
   ]
  },
  {
   "cell_type": "code",
   "execution_count": 31,
   "metadata": {},
   "outputs": [
    {
     "data": {
      "text/html": [
       "<div>\n",
       "<style scoped>\n",
       "    .dataframe tbody tr th:only-of-type {\n",
       "        vertical-align: middle;\n",
       "    }\n",
       "\n",
       "    .dataframe tbody tr th {\n",
       "        vertical-align: top;\n",
       "    }\n",
       "\n",
       "    .dataframe thead th {\n",
       "        text-align: right;\n",
       "    }\n",
       "</style>\n",
       "<table border=\"1\" class=\"dataframe\">\n",
       "  <thead>\n",
       "    <tr style=\"text-align: right;\">\n",
       "      <th></th>\n",
       "      <th>userID</th>\n",
       "      <th>artistID</th>\n",
       "      <th>weight</th>\n",
       "    </tr>\n",
       "  </thead>\n",
       "  <tbody>\n",
       "    <tr>\n",
       "      <th>48514</th>\n",
       "      <td>1078</td>\n",
       "      <td>3474</td>\n",
       "      <td>101</td>\n",
       "    </tr>\n",
       "    <tr>\n",
       "      <th>83703</th>\n",
       "      <td>1892</td>\n",
       "      <td>540</td>\n",
       "      <td>180</td>\n",
       "    </tr>\n",
       "    <tr>\n",
       "      <th>26603</th>\n",
       "      <td>578</td>\n",
       "      <td>488</td>\n",
       "      <td>401</td>\n",
       "    </tr>\n",
       "    <tr>\n",
       "      <th>59477</th>\n",
       "      <td>1336</td>\n",
       "      <td>163</td>\n",
       "      <td>491</td>\n",
       "    </tr>\n",
       "  </tbody>\n",
       "</table>\n",
       "</div>"
      ],
      "text/plain": [
       "       userID  artistID  weight\n",
       "48514    1078      3474     101\n",
       "83703    1892       540     180\n",
       "26603     578       488     401\n",
       "59477    1336       163     491"
      ]
     },
     "execution_count": 31,
     "metadata": {},
     "output_type": "execute_result"
    }
   ],
   "source": [
    "df1 = user_artist_plays\n",
    "df1.sample(4)"
   ]
  },
  {
   "cell_type": "code",
   "execution_count": 32,
   "metadata": {},
   "outputs": [
    {
     "name": "stdout",
     "output_type": "stream",
     "text": [
      "The original data frame shape:\t(92834, 3)\n",
      "The new data frame shape:\t(64922, 3)\n"
     ]
    }
   ],
   "source": [
    "min_artist_ratings = 50\n",
    "filter_artist = df1['weight'].value_counts() > min_artist_ratings\n",
    "filter_artist = filter_artist[filter_artist].index.tolist()\n",
    "\n",
    "min_user_ratings = 15\n",
    "filter_users = df1['userID'].value_counts() > min_user_ratings\n",
    "filter_users = filter_users[filter_users].index.tolist()\n",
    "\n",
    "df_new = df1[(df1['weight'].isin(filter_artist)) & (df['userID'].isin(filter_users))]\n",
    "print('The original data frame shape:\\t{}'.format(df1.shape))\n",
    "print('The new data frame shape:\\t{}'.format(df_new.shape))"
   ]
  },
  {
   "cell_type": "code",
   "execution_count": 33,
   "metadata": {},
   "outputs": [],
   "source": [
    "#df1['ratio'] = df1.groupby('userID')[['weight']].apply(lambda x: (x-x.min())/(x.max()-x.min())).fillna(0.01)\n"
   ]
  },
  {
   "cell_type": "code",
   "execution_count": 34,
   "metadata": {},
   "outputs": [],
   "source": [
    "#df1['ratio'] = round(df1['ratio'], 2)\n",
    "#df1 = df1.drop(columns=['weight'])\n",
    "#df1.head()"
   ]
  },
  {
   "cell_type": "code",
   "execution_count": null,
   "metadata": {},
   "outputs": [],
   "source": []
  },
  {
   "cell_type": "markdown",
   "metadata": {},
   "source": [
    "#### Matriz de Usuario-Contenido"
   ]
  },
  {
   "cell_type": "code",
   "execution_count": 35,
   "metadata": {},
   "outputs": [],
   "source": [
    "\n",
    "# convert the dataframe into a pivot table\n",
    "#\"df1 = df.pivot(index='userID', columns='artistID', values='weight').fillna(0)\n",
    "\n",
    "# obtain a sparse matrix\n",
    "#\"matrix = csr_matrix(df1.values)"
   ]
  },
  {
   "cell_type": "code",
   "execution_count": 36,
   "metadata": {},
   "outputs": [
    {
     "data": {
      "text/html": [
       "<div>\n",
       "<style scoped>\n",
       "    .dataframe tbody tr th:only-of-type {\n",
       "        vertical-align: middle;\n",
       "    }\n",
       "\n",
       "    .dataframe tbody tr th {\n",
       "        vertical-align: top;\n",
       "    }\n",
       "\n",
       "    .dataframe thead th {\n",
       "        text-align: right;\n",
       "    }\n",
       "</style>\n",
       "<table border=\"1\" class=\"dataframe\">\n",
       "  <thead>\n",
       "    <tr style=\"text-align: right;\">\n",
       "      <th>artistID</th>\n",
       "      <th>1</th>\n",
       "      <th>2</th>\n",
       "      <th>3</th>\n",
       "      <th>4</th>\n",
       "      <th>5</th>\n",
       "      <th>6</th>\n",
       "      <th>7</th>\n",
       "      <th>8</th>\n",
       "      <th>9</th>\n",
       "      <th>10</th>\n",
       "      <th>...</th>\n",
       "      <th>18729</th>\n",
       "      <th>18730</th>\n",
       "      <th>18738</th>\n",
       "      <th>18739</th>\n",
       "      <th>18740</th>\n",
       "      <th>18741</th>\n",
       "      <th>18742</th>\n",
       "      <th>18743</th>\n",
       "      <th>18744</th>\n",
       "      <th>18745</th>\n",
       "    </tr>\n",
       "    <tr>\n",
       "      <th>userID</th>\n",
       "      <th></th>\n",
       "      <th></th>\n",
       "      <th></th>\n",
       "      <th></th>\n",
       "      <th></th>\n",
       "      <th></th>\n",
       "      <th></th>\n",
       "      <th></th>\n",
       "      <th></th>\n",
       "      <th></th>\n",
       "      <th></th>\n",
       "      <th></th>\n",
       "      <th></th>\n",
       "      <th></th>\n",
       "      <th></th>\n",
       "      <th></th>\n",
       "      <th></th>\n",
       "      <th></th>\n",
       "      <th></th>\n",
       "      <th></th>\n",
       "      <th></th>\n",
       "    </tr>\n",
       "  </thead>\n",
       "  <tbody>\n",
       "    <tr>\n",
       "      <th>3</th>\n",
       "      <td>0.0</td>\n",
       "      <td>0.0</td>\n",
       "      <td>0.0</td>\n",
       "      <td>0.0</td>\n",
       "      <td>0.0</td>\n",
       "      <td>0.0</td>\n",
       "      <td>0.0</td>\n",
       "      <td>0.0</td>\n",
       "      <td>0.0</td>\n",
       "      <td>0.0</td>\n",
       "      <td>...</td>\n",
       "      <td>0.0</td>\n",
       "      <td>0.0</td>\n",
       "      <td>0.0</td>\n",
       "      <td>0.0</td>\n",
       "      <td>0.0</td>\n",
       "      <td>0.0</td>\n",
       "      <td>0.0</td>\n",
       "      <td>0.0</td>\n",
       "      <td>0.0</td>\n",
       "      <td>0.0</td>\n",
       "    </tr>\n",
       "    <tr>\n",
       "      <th>4</th>\n",
       "      <td>0.0</td>\n",
       "      <td>0.0</td>\n",
       "      <td>0.0</td>\n",
       "      <td>0.0</td>\n",
       "      <td>0.0</td>\n",
       "      <td>0.0</td>\n",
       "      <td>0.0</td>\n",
       "      <td>0.0</td>\n",
       "      <td>0.0</td>\n",
       "      <td>0.0</td>\n",
       "      <td>...</td>\n",
       "      <td>0.0</td>\n",
       "      <td>0.0</td>\n",
       "      <td>0.0</td>\n",
       "      <td>0.0</td>\n",
       "      <td>0.0</td>\n",
       "      <td>0.0</td>\n",
       "      <td>0.0</td>\n",
       "      <td>0.0</td>\n",
       "      <td>0.0</td>\n",
       "      <td>0.0</td>\n",
       "    </tr>\n",
       "    <tr>\n",
       "      <th>5</th>\n",
       "      <td>0.0</td>\n",
       "      <td>0.0</td>\n",
       "      <td>0.0</td>\n",
       "      <td>0.0</td>\n",
       "      <td>0.0</td>\n",
       "      <td>0.0</td>\n",
       "      <td>0.0</td>\n",
       "      <td>0.0</td>\n",
       "      <td>0.0</td>\n",
       "      <td>0.0</td>\n",
       "      <td>...</td>\n",
       "      <td>0.0</td>\n",
       "      <td>0.0</td>\n",
       "      <td>0.0</td>\n",
       "      <td>0.0</td>\n",
       "      <td>0.0</td>\n",
       "      <td>0.0</td>\n",
       "      <td>0.0</td>\n",
       "      <td>0.0</td>\n",
       "      <td>0.0</td>\n",
       "      <td>0.0</td>\n",
       "    </tr>\n",
       "    <tr>\n",
       "      <th>6</th>\n",
       "      <td>0.0</td>\n",
       "      <td>0.0</td>\n",
       "      <td>0.0</td>\n",
       "      <td>0.0</td>\n",
       "      <td>0.0</td>\n",
       "      <td>0.0</td>\n",
       "      <td>0.0</td>\n",
       "      <td>0.0</td>\n",
       "      <td>0.0</td>\n",
       "      <td>0.0</td>\n",
       "      <td>...</td>\n",
       "      <td>0.0</td>\n",
       "      <td>0.0</td>\n",
       "      <td>0.0</td>\n",
       "      <td>0.0</td>\n",
       "      <td>0.0</td>\n",
       "      <td>0.0</td>\n",
       "      <td>0.0</td>\n",
       "      <td>0.0</td>\n",
       "      <td>0.0</td>\n",
       "      <td>0.0</td>\n",
       "    </tr>\n",
       "    <tr>\n",
       "      <th>7</th>\n",
       "      <td>0.0</td>\n",
       "      <td>0.0</td>\n",
       "      <td>0.0</td>\n",
       "      <td>0.0</td>\n",
       "      <td>0.0</td>\n",
       "      <td>0.0</td>\n",
       "      <td>0.0</td>\n",
       "      <td>0.0</td>\n",
       "      <td>0.0</td>\n",
       "      <td>0.0</td>\n",
       "      <td>...</td>\n",
       "      <td>0.0</td>\n",
       "      <td>0.0</td>\n",
       "      <td>0.0</td>\n",
       "      <td>0.0</td>\n",
       "      <td>0.0</td>\n",
       "      <td>0.0</td>\n",
       "      <td>0.0</td>\n",
       "      <td>0.0</td>\n",
       "      <td>0.0</td>\n",
       "      <td>0.0</td>\n",
       "    </tr>\n",
       "    <tr>\n",
       "      <th>8</th>\n",
       "      <td>0.0</td>\n",
       "      <td>0.0</td>\n",
       "      <td>0.0</td>\n",
       "      <td>0.0</td>\n",
       "      <td>0.0</td>\n",
       "      <td>0.0</td>\n",
       "      <td>0.0</td>\n",
       "      <td>0.0</td>\n",
       "      <td>0.0</td>\n",
       "      <td>0.0</td>\n",
       "      <td>...</td>\n",
       "      <td>0.0</td>\n",
       "      <td>0.0</td>\n",
       "      <td>0.0</td>\n",
       "      <td>0.0</td>\n",
       "      <td>0.0</td>\n",
       "      <td>0.0</td>\n",
       "      <td>0.0</td>\n",
       "      <td>0.0</td>\n",
       "      <td>0.0</td>\n",
       "      <td>0.0</td>\n",
       "    </tr>\n",
       "    <tr>\n",
       "      <th>9</th>\n",
       "      <td>0.0</td>\n",
       "      <td>0.0</td>\n",
       "      <td>0.0</td>\n",
       "      <td>0.0</td>\n",
       "      <td>0.0</td>\n",
       "      <td>0.0</td>\n",
       "      <td>0.0</td>\n",
       "      <td>0.0</td>\n",
       "      <td>0.0</td>\n",
       "      <td>0.0</td>\n",
       "      <td>...</td>\n",
       "      <td>0.0</td>\n",
       "      <td>0.0</td>\n",
       "      <td>0.0</td>\n",
       "      <td>0.0</td>\n",
       "      <td>0.0</td>\n",
       "      <td>0.0</td>\n",
       "      <td>0.0</td>\n",
       "      <td>0.0</td>\n",
       "      <td>0.0</td>\n",
       "      <td>0.0</td>\n",
       "    </tr>\n",
       "    <tr>\n",
       "      <th>10</th>\n",
       "      <td>0.0</td>\n",
       "      <td>0.0</td>\n",
       "      <td>0.0</td>\n",
       "      <td>0.0</td>\n",
       "      <td>0.0</td>\n",
       "      <td>0.0</td>\n",
       "      <td>0.0</td>\n",
       "      <td>0.0</td>\n",
       "      <td>0.0</td>\n",
       "      <td>0.0</td>\n",
       "      <td>...</td>\n",
       "      <td>0.0</td>\n",
       "      <td>0.0</td>\n",
       "      <td>0.0</td>\n",
       "      <td>0.0</td>\n",
       "      <td>0.0</td>\n",
       "      <td>0.0</td>\n",
       "      <td>0.0</td>\n",
       "      <td>0.0</td>\n",
       "      <td>0.0</td>\n",
       "      <td>0.0</td>\n",
       "    </tr>\n",
       "    <tr>\n",
       "      <th>11</th>\n",
       "      <td>0.0</td>\n",
       "      <td>0.0</td>\n",
       "      <td>0.0</td>\n",
       "      <td>0.0</td>\n",
       "      <td>0.0</td>\n",
       "      <td>0.0</td>\n",
       "      <td>0.0</td>\n",
       "      <td>0.0</td>\n",
       "      <td>0.0</td>\n",
       "      <td>0.0</td>\n",
       "      <td>...</td>\n",
       "      <td>0.0</td>\n",
       "      <td>0.0</td>\n",
       "      <td>0.0</td>\n",
       "      <td>0.0</td>\n",
       "      <td>0.0</td>\n",
       "      <td>0.0</td>\n",
       "      <td>0.0</td>\n",
       "      <td>0.0</td>\n",
       "      <td>0.0</td>\n",
       "      <td>0.0</td>\n",
       "    </tr>\n",
       "    <tr>\n",
       "      <th>13</th>\n",
       "      <td>0.0</td>\n",
       "      <td>0.0</td>\n",
       "      <td>0.0</td>\n",
       "      <td>0.0</td>\n",
       "      <td>0.0</td>\n",
       "      <td>0.0</td>\n",
       "      <td>0.0</td>\n",
       "      <td>0.0</td>\n",
       "      <td>0.0</td>\n",
       "      <td>0.0</td>\n",
       "      <td>...</td>\n",
       "      <td>0.0</td>\n",
       "      <td>0.0</td>\n",
       "      <td>0.0</td>\n",
       "      <td>0.0</td>\n",
       "      <td>0.0</td>\n",
       "      <td>0.0</td>\n",
       "      <td>0.0</td>\n",
       "      <td>0.0</td>\n",
       "      <td>0.0</td>\n",
       "      <td>0.0</td>\n",
       "    </tr>\n",
       "    <tr>\n",
       "      <th>15</th>\n",
       "      <td>0.0</td>\n",
       "      <td>0.0</td>\n",
       "      <td>0.0</td>\n",
       "      <td>0.0</td>\n",
       "      <td>0.0</td>\n",
       "      <td>0.0</td>\n",
       "      <td>0.0</td>\n",
       "      <td>0.0</td>\n",
       "      <td>0.0</td>\n",
       "      <td>0.0</td>\n",
       "      <td>...</td>\n",
       "      <td>0.0</td>\n",
       "      <td>0.0</td>\n",
       "      <td>0.0</td>\n",
       "      <td>0.0</td>\n",
       "      <td>0.0</td>\n",
       "      <td>0.0</td>\n",
       "      <td>0.0</td>\n",
       "      <td>0.0</td>\n",
       "      <td>0.0</td>\n",
       "      <td>0.0</td>\n",
       "    </tr>\n",
       "    <tr>\n",
       "      <th>16</th>\n",
       "      <td>0.0</td>\n",
       "      <td>0.0</td>\n",
       "      <td>0.0</td>\n",
       "      <td>0.0</td>\n",
       "      <td>0.0</td>\n",
       "      <td>0.0</td>\n",
       "      <td>0.0</td>\n",
       "      <td>0.0</td>\n",
       "      <td>0.0</td>\n",
       "      <td>0.0</td>\n",
       "      <td>...</td>\n",
       "      <td>0.0</td>\n",
       "      <td>0.0</td>\n",
       "      <td>0.0</td>\n",
       "      <td>0.0</td>\n",
       "      <td>0.0</td>\n",
       "      <td>0.0</td>\n",
       "      <td>0.0</td>\n",
       "      <td>0.0</td>\n",
       "      <td>0.0</td>\n",
       "      <td>0.0</td>\n",
       "    </tr>\n",
       "    <tr>\n",
       "      <th>17</th>\n",
       "      <td>0.0</td>\n",
       "      <td>0.0</td>\n",
       "      <td>0.0</td>\n",
       "      <td>0.0</td>\n",
       "      <td>0.0</td>\n",
       "      <td>0.0</td>\n",
       "      <td>0.0</td>\n",
       "      <td>0.0</td>\n",
       "      <td>0.0</td>\n",
       "      <td>0.0</td>\n",
       "      <td>...</td>\n",
       "      <td>0.0</td>\n",
       "      <td>0.0</td>\n",
       "      <td>0.0</td>\n",
       "      <td>0.0</td>\n",
       "      <td>0.0</td>\n",
       "      <td>0.0</td>\n",
       "      <td>0.0</td>\n",
       "      <td>0.0</td>\n",
       "      <td>0.0</td>\n",
       "      <td>0.0</td>\n",
       "    </tr>\n",
       "    <tr>\n",
       "      <th>18</th>\n",
       "      <td>0.0</td>\n",
       "      <td>0.0</td>\n",
       "      <td>0.0</td>\n",
       "      <td>0.0</td>\n",
       "      <td>0.0</td>\n",
       "      <td>0.0</td>\n",
       "      <td>0.0</td>\n",
       "      <td>0.0</td>\n",
       "      <td>0.0</td>\n",
       "      <td>0.0</td>\n",
       "      <td>...</td>\n",
       "      <td>0.0</td>\n",
       "      <td>0.0</td>\n",
       "      <td>0.0</td>\n",
       "      <td>0.0</td>\n",
       "      <td>0.0</td>\n",
       "      <td>0.0</td>\n",
       "      <td>0.0</td>\n",
       "      <td>0.0</td>\n",
       "      <td>0.0</td>\n",
       "      <td>0.0</td>\n",
       "    </tr>\n",
       "    <tr>\n",
       "      <th>20</th>\n",
       "      <td>0.0</td>\n",
       "      <td>0.0</td>\n",
       "      <td>0.0</td>\n",
       "      <td>0.0</td>\n",
       "      <td>0.0</td>\n",
       "      <td>0.0</td>\n",
       "      <td>0.0</td>\n",
       "      <td>0.0</td>\n",
       "      <td>0.0</td>\n",
       "      <td>0.0</td>\n",
       "      <td>...</td>\n",
       "      <td>0.0</td>\n",
       "      <td>0.0</td>\n",
       "      <td>0.0</td>\n",
       "      <td>0.0</td>\n",
       "      <td>0.0</td>\n",
       "      <td>0.0</td>\n",
       "      <td>0.0</td>\n",
       "      <td>0.0</td>\n",
       "      <td>0.0</td>\n",
       "      <td>0.0</td>\n",
       "    </tr>\n",
       "    <tr>\n",
       "      <th>21</th>\n",
       "      <td>0.0</td>\n",
       "      <td>0.0</td>\n",
       "      <td>0.0</td>\n",
       "      <td>0.0</td>\n",
       "      <td>0.0</td>\n",
       "      <td>0.0</td>\n",
       "      <td>0.0</td>\n",
       "      <td>0.0</td>\n",
       "      <td>0.0</td>\n",
       "      <td>0.0</td>\n",
       "      <td>...</td>\n",
       "      <td>0.0</td>\n",
       "      <td>0.0</td>\n",
       "      <td>0.0</td>\n",
       "      <td>0.0</td>\n",
       "      <td>0.0</td>\n",
       "      <td>0.0</td>\n",
       "      <td>0.0</td>\n",
       "      <td>0.0</td>\n",
       "      <td>0.0</td>\n",
       "      <td>0.0</td>\n",
       "    </tr>\n",
       "    <tr>\n",
       "      <th>22</th>\n",
       "      <td>0.0</td>\n",
       "      <td>0.0</td>\n",
       "      <td>0.0</td>\n",
       "      <td>0.0</td>\n",
       "      <td>0.0</td>\n",
       "      <td>0.0</td>\n",
       "      <td>0.0</td>\n",
       "      <td>0.0</td>\n",
       "      <td>0.0</td>\n",
       "      <td>0.0</td>\n",
       "      <td>...</td>\n",
       "      <td>0.0</td>\n",
       "      <td>0.0</td>\n",
       "      <td>0.0</td>\n",
       "      <td>0.0</td>\n",
       "      <td>0.0</td>\n",
       "      <td>0.0</td>\n",
       "      <td>0.0</td>\n",
       "      <td>0.0</td>\n",
       "      <td>0.0</td>\n",
       "      <td>0.0</td>\n",
       "    </tr>\n",
       "    <tr>\n",
       "      <th>23</th>\n",
       "      <td>0.0</td>\n",
       "      <td>0.0</td>\n",
       "      <td>0.0</td>\n",
       "      <td>0.0</td>\n",
       "      <td>0.0</td>\n",
       "      <td>0.0</td>\n",
       "      <td>212.0</td>\n",
       "      <td>0.0</td>\n",
       "      <td>0.0</td>\n",
       "      <td>0.0</td>\n",
       "      <td>...</td>\n",
       "      <td>0.0</td>\n",
       "      <td>0.0</td>\n",
       "      <td>0.0</td>\n",
       "      <td>0.0</td>\n",
       "      <td>0.0</td>\n",
       "      <td>0.0</td>\n",
       "      <td>0.0</td>\n",
       "      <td>0.0</td>\n",
       "      <td>0.0</td>\n",
       "      <td>0.0</td>\n",
       "    </tr>\n",
       "    <tr>\n",
       "      <th>24</th>\n",
       "      <td>0.0</td>\n",
       "      <td>0.0</td>\n",
       "      <td>0.0</td>\n",
       "      <td>0.0</td>\n",
       "      <td>0.0</td>\n",
       "      <td>0.0</td>\n",
       "      <td>0.0</td>\n",
       "      <td>0.0</td>\n",
       "      <td>0.0</td>\n",
       "      <td>0.0</td>\n",
       "      <td>...</td>\n",
       "      <td>0.0</td>\n",
       "      <td>0.0</td>\n",
       "      <td>0.0</td>\n",
       "      <td>0.0</td>\n",
       "      <td>0.0</td>\n",
       "      <td>0.0</td>\n",
       "      <td>0.0</td>\n",
       "      <td>0.0</td>\n",
       "      <td>0.0</td>\n",
       "      <td>0.0</td>\n",
       "    </tr>\n",
       "    <tr>\n",
       "      <th>25</th>\n",
       "      <td>0.0</td>\n",
       "      <td>0.0</td>\n",
       "      <td>0.0</td>\n",
       "      <td>0.0</td>\n",
       "      <td>0.0</td>\n",
       "      <td>0.0</td>\n",
       "      <td>0.0</td>\n",
       "      <td>0.0</td>\n",
       "      <td>0.0</td>\n",
       "      <td>0.0</td>\n",
       "      <td>...</td>\n",
       "      <td>0.0</td>\n",
       "      <td>0.0</td>\n",
       "      <td>0.0</td>\n",
       "      <td>0.0</td>\n",
       "      <td>0.0</td>\n",
       "      <td>0.0</td>\n",
       "      <td>0.0</td>\n",
       "      <td>0.0</td>\n",
       "      <td>0.0</td>\n",
       "      <td>0.0</td>\n",
       "    </tr>\n",
       "  </tbody>\n",
       "</table>\n",
       "<p>20 rows × 15544 columns</p>\n",
       "</div>"
      ],
      "text/plain": [
       "artistID  1      2      3      4      5      6      7      8      9      \\\n",
       "userID                                                                    \n",
       "3           0.0    0.0    0.0    0.0    0.0    0.0    0.0    0.0    0.0   \n",
       "4           0.0    0.0    0.0    0.0    0.0    0.0    0.0    0.0    0.0   \n",
       "5           0.0    0.0    0.0    0.0    0.0    0.0    0.0    0.0    0.0   \n",
       "6           0.0    0.0    0.0    0.0    0.0    0.0    0.0    0.0    0.0   \n",
       "7           0.0    0.0    0.0    0.0    0.0    0.0    0.0    0.0    0.0   \n",
       "8           0.0    0.0    0.0    0.0    0.0    0.0    0.0    0.0    0.0   \n",
       "9           0.0    0.0    0.0    0.0    0.0    0.0    0.0    0.0    0.0   \n",
       "10          0.0    0.0    0.0    0.0    0.0    0.0    0.0    0.0    0.0   \n",
       "11          0.0    0.0    0.0    0.0    0.0    0.0    0.0    0.0    0.0   \n",
       "13          0.0    0.0    0.0    0.0    0.0    0.0    0.0    0.0    0.0   \n",
       "15          0.0    0.0    0.0    0.0    0.0    0.0    0.0    0.0    0.0   \n",
       "16          0.0    0.0    0.0    0.0    0.0    0.0    0.0    0.0    0.0   \n",
       "17          0.0    0.0    0.0    0.0    0.0    0.0    0.0    0.0    0.0   \n",
       "18          0.0    0.0    0.0    0.0    0.0    0.0    0.0    0.0    0.0   \n",
       "20          0.0    0.0    0.0    0.0    0.0    0.0    0.0    0.0    0.0   \n",
       "21          0.0    0.0    0.0    0.0    0.0    0.0    0.0    0.0    0.0   \n",
       "22          0.0    0.0    0.0    0.0    0.0    0.0    0.0    0.0    0.0   \n",
       "23          0.0    0.0    0.0    0.0    0.0    0.0  212.0    0.0    0.0   \n",
       "24          0.0    0.0    0.0    0.0    0.0    0.0    0.0    0.0    0.0   \n",
       "25          0.0    0.0    0.0    0.0    0.0    0.0    0.0    0.0    0.0   \n",
       "\n",
       "artistID  10     ...  18729  18730  18738  18739  18740  18741  18742  18743  \\\n",
       "userID           ...                                                           \n",
       "3           0.0  ...    0.0    0.0    0.0    0.0    0.0    0.0    0.0    0.0   \n",
       "4           0.0  ...    0.0    0.0    0.0    0.0    0.0    0.0    0.0    0.0   \n",
       "5           0.0  ...    0.0    0.0    0.0    0.0    0.0    0.0    0.0    0.0   \n",
       "6           0.0  ...    0.0    0.0    0.0    0.0    0.0    0.0    0.0    0.0   \n",
       "7           0.0  ...    0.0    0.0    0.0    0.0    0.0    0.0    0.0    0.0   \n",
       "8           0.0  ...    0.0    0.0    0.0    0.0    0.0    0.0    0.0    0.0   \n",
       "9           0.0  ...    0.0    0.0    0.0    0.0    0.0    0.0    0.0    0.0   \n",
       "10          0.0  ...    0.0    0.0    0.0    0.0    0.0    0.0    0.0    0.0   \n",
       "11          0.0  ...    0.0    0.0    0.0    0.0    0.0    0.0    0.0    0.0   \n",
       "13          0.0  ...    0.0    0.0    0.0    0.0    0.0    0.0    0.0    0.0   \n",
       "15          0.0  ...    0.0    0.0    0.0    0.0    0.0    0.0    0.0    0.0   \n",
       "16          0.0  ...    0.0    0.0    0.0    0.0    0.0    0.0    0.0    0.0   \n",
       "17          0.0  ...    0.0    0.0    0.0    0.0    0.0    0.0    0.0    0.0   \n",
       "18          0.0  ...    0.0    0.0    0.0    0.0    0.0    0.0    0.0    0.0   \n",
       "20          0.0  ...    0.0    0.0    0.0    0.0    0.0    0.0    0.0    0.0   \n",
       "21          0.0  ...    0.0    0.0    0.0    0.0    0.0    0.0    0.0    0.0   \n",
       "22          0.0  ...    0.0    0.0    0.0    0.0    0.0    0.0    0.0    0.0   \n",
       "23          0.0  ...    0.0    0.0    0.0    0.0    0.0    0.0    0.0    0.0   \n",
       "24          0.0  ...    0.0    0.0    0.0    0.0    0.0    0.0    0.0    0.0   \n",
       "25          0.0  ...    0.0    0.0    0.0    0.0    0.0    0.0    0.0    0.0   \n",
       "\n",
       "artistID  18744  18745  \n",
       "userID                  \n",
       "3           0.0    0.0  \n",
       "4           0.0    0.0  \n",
       "5           0.0    0.0  \n",
       "6           0.0    0.0  \n",
       "7           0.0    0.0  \n",
       "8           0.0    0.0  \n",
       "9           0.0    0.0  \n",
       "10          0.0    0.0  \n",
       "11          0.0    0.0  \n",
       "13          0.0    0.0  \n",
       "15          0.0    0.0  \n",
       "16          0.0    0.0  \n",
       "17          0.0    0.0  \n",
       "18          0.0    0.0  \n",
       "20          0.0    0.0  \n",
       "21          0.0    0.0  \n",
       "22          0.0    0.0  \n",
       "23          0.0    0.0  \n",
       "24          0.0    0.0  \n",
       "25          0.0    0.0  \n",
       "\n",
       "[20 rows x 15544 columns]"
      ]
     },
     "execution_count": 36,
     "metadata": {},
     "output_type": "execute_result"
    }
   ],
   "source": [
    "#ArtistasRatings = df1.pivot_table(index=['userID'],columns=['artistID'],values='ratio').fillna(0)\n",
    "\n",
    "ArtistasRatings = df_new.pivot_table(index=['userID'],columns=['artistID'],values='weight').fillna(0)\n",
    "ArtistasRatings.head(20)"
   ]
  },
  {
   "cell_type": "markdown",
   "metadata": {},
   "source": [
    "#### Entrenamiento del algoritmo de recomendación"
   ]
  },
  {
   "cell_type": "code",
   "execution_count": 37,
   "metadata": {},
   "outputs": [],
   "source": [
    "#reader = Reader(rating_scale=(df1.ratio.min(), df1.ratio.max()))\n",
    "reader = Reader(rating_scale=(df_new.weight.min(), df_new.weight.max()))\n",
    "\n",
    "#data = Dataset.load_from_df(df1[[\"userID\", \"artistID\", \"ratio\"]], reader)\n",
    "data = Dataset.load_from_df(df_new[[\"userID\", \"artistID\", \"weight\"]], reader)\n",
    "\n"
   ]
  },
  {
   "cell_type": "code",
   "execution_count": 38,
   "metadata": {},
   "outputs": [
    {
     "name": "stdout",
     "output_type": "stream",
     "text": [
      "Computing the msd similarity matrix...\n",
      "Done computing similarity matrix.\n",
      "RMSE on test: 113.8102\n"
     ]
    }
   ],
   "source": [
    "ratings_train, ratings_test = train_test_split(data, test_size=0.2)\n",
    "model = KNNWithMeans(k=5).fit(ratings_train)\n",
    "predictions = model.test(ratings_test)\n",
    "print(\"RMSE on test: {:.4f}\".format(rmse(predictions, verbose=False)))"
   ]
  },
  {
   "cell_type": "code",
   "execution_count": 39,
   "metadata": {},
   "outputs": [
    {
     "name": "stdout",
     "output_type": "stream",
     "text": [
      "Evaluating RMSE of algorithm KNNWithMeans on 3 split(s).\n",
      "\n",
      "                  Fold 1  Fold 2  Fold 3  Mean    Std     \n",
      "RMSE (testset)    115.8663115.2864115.6144115.58900.2374  \n",
      "Fit time          0.47    0.51    0.41    0.46    0.04    \n",
      "Test time         2.17    2.07    2.20    2.15    0.06    \n"
     ]
    }
   ],
   "source": [
    "model = KNNWithMeans(k=5, verbose=False)\n",
    "cross_validated_metrics = cross_validate(model, data , measures=['RMSE'], cv=3, verbose=True)"
   ]
  },
  {
   "cell_type": "code",
   "execution_count": 40,
   "metadata": {},
   "outputs": [
    {
     "name": "stdout",
     "output_type": "stream",
     "text": [
      "Estimating biases using als...\n",
      "Estimating biases using als...\n",
      "Estimating biases using als...\n",
      "Evaluating RMSE of algorithm BaselineOnly on 3 split(s).\n",
      "\n",
      "                  Fold 1  Fold 2  Fold 3  Mean    Std     \n",
      "RMSE (testset)    100.486698.9491 99.4410 99.6256 0.6411  \n",
      "Fit time          0.21    0.25    0.25    0.24    0.02    \n",
      "Test time         0.30    0.24    0.37    0.30    0.05    \n"
     ]
    }
   ],
   "source": [
    "model2 =BaselineOnly()\n",
    "cross_validated_metrics2 = cross_validate(model2, data, measures=['RMSE'], cv=3, verbose=True)"
   ]
  },
  {
   "cell_type": "code",
   "execution_count": 41,
   "metadata": {},
   "outputs": [
    {
     "name": "stdout",
     "output_type": "stream",
     "text": [
      "Evaluating RMSE of algorithm SVD on 3 split(s).\n",
      "\n",
      "                  Fold 1  Fold 2  Fold 3  Mean    Std     \n",
      "RMSE (testset)    450.3676450.2389449.8013450.13590.2424  \n",
      "Fit time          5.14    4.53    4.67    4.78    0.26    \n",
      "Test time         0.34    0.37    0.27    0.33    0.04    \n",
      "Evaluating RMSE of algorithm SVDpp on 3 split(s).\n",
      "\n",
      "                  Fold 1  Fold 2  Fold 3  Mean    Std     \n",
      "RMSE (testset)    449.2720450.9661450.2639450.16730.6950  \n",
      "Fit time          46.12   52.59   48.84   49.18   2.65    \n",
      "Test time         1.96    1.70    2.02    1.89    0.14    \n",
      "Evaluating RMSE of algorithm SlopeOne on 3 split(s).\n",
      "\n",
      "                  Fold 1  Fold 2  Fold 3  Mean    Std     \n",
      "RMSE (testset)    109.3016108.9830110.3584109.54770.5878  \n",
      "Fit time          9.34    14.32   8.92    10.86   2.45    \n",
      "Test time         1.44    1.52    1.30    1.42    0.09    \n",
      "Evaluating RMSE of algorithm NMF on 3 split(s).\n",
      "\n",
      "                  Fold 1  Fold 2  Fold 3  Mean    Std     \n",
      "RMSE (testset)    216.5442216.2139215.5375216.09860.4190  \n",
      "Fit time          9.42    9.52    9.91    9.62    0.21    \n",
      "Test time         0.39    0.48    0.36    0.41    0.05    \n",
      "Evaluating RMSE of algorithm NormalPredictor on 3 split(s).\n",
      "\n",
      "                  Fold 1  Fold 2  Fold 3  Mean    Std     \n",
      "RMSE (testset)    188.0799187.4490187.7720187.76700.2576  \n",
      "Fit time          0.12    0.19    0.21    0.17    0.04    \n",
      "Test time         0.53    0.51    0.50    0.51    0.01    \n",
      "Estimating biases using als...\n",
      "Computing the msd similarity matrix...\n",
      "Done computing similarity matrix.\n",
      "Estimating biases using als...\n",
      "Computing the msd similarity matrix...\n",
      "Done computing similarity matrix.\n",
      "Estimating biases using als...\n",
      "Computing the msd similarity matrix...\n",
      "Done computing similarity matrix.\n",
      "Evaluating RMSE of algorithm KNNBaseline on 3 split(s).\n",
      "\n",
      "                  Fold 1  Fold 2  Fold 3  Mean    Std     \n",
      "RMSE (testset)    112.6006111.3458113.0205112.32230.7114  \n",
      "Fit time          0.78    0.79    0.59    0.72    0.09    \n",
      "Test time         4.25    4.09    4.45    4.26    0.15    \n",
      "Computing the msd similarity matrix...\n",
      "Done computing similarity matrix.\n",
      "Computing the msd similarity matrix...\n",
      "Done computing similarity matrix.\n",
      "Computing the msd similarity matrix...\n",
      "Done computing similarity matrix.\n",
      "Evaluating RMSE of algorithm KNNBasic on 3 split(s).\n",
      "\n",
      "                  Fold 1  Fold 2  Fold 3  Mean    Std     \n",
      "RMSE (testset)    142.8529142.8829144.4859143.40730.7628  \n",
      "Fit time          0.39    0.50    0.47    0.46    0.04    \n",
      "Test time         3.34    3.34    3.02    3.23    0.15    \n",
      "Computing the msd similarity matrix...\n",
      "Done computing similarity matrix.\n",
      "Computing the msd similarity matrix...\n",
      "Done computing similarity matrix.\n",
      "Computing the msd similarity matrix...\n",
      "Done computing similarity matrix.\n",
      "Evaluating RMSE of algorithm KNNWithMeans on 3 split(s).\n",
      "\n",
      "                  Fold 1  Fold 2  Fold 3  Mean    Std     \n",
      "RMSE (testset)    114.9011113.1098113.8891113.96660.7333  \n",
      "Fit time          0.49    0.51    0.52    0.51    0.01    \n",
      "Test time         3.94    3.28    3.39    3.53    0.29    \n",
      "Computing the msd similarity matrix...\n",
      "Done computing similarity matrix.\n",
      "Computing the msd similarity matrix...\n",
      "Done computing similarity matrix.\n",
      "Computing the msd similarity matrix...\n",
      "Done computing similarity matrix.\n",
      "Evaluating RMSE of algorithm KNNWithZScore on 3 split(s).\n",
      "\n",
      "                  Fold 1  Fold 2  Fold 3  Mean    Std     \n",
      "RMSE (testset)    113.3611113.8734114.8175114.01730.6032  \n",
      "Fit time          0.54    0.60    0.71    0.61    0.07    \n",
      "Test time         3.25    2.84    3.82    3.30    0.41    \n",
      "Estimating biases using als...\n",
      "Estimating biases using als...\n",
      "Estimating biases using als...\n",
      "Evaluating RMSE of algorithm BaselineOnly on 3 split(s).\n",
      "\n",
      "                  Fold 1  Fold 2  Fold 3  Mean    Std     \n",
      "RMSE (testset)    99.0546 99.1543 100.906799.7052 0.8506  \n",
      "Fit time          0.26    0.26    0.28    0.27    0.01    \n",
      "Test time         0.26    0.26    0.27    0.26    0.00    \n",
      "Evaluating RMSE of algorithm CoClustering on 3 split(s).\n",
      "\n",
      "                  Fold 1  Fold 2  Fold 3  Mean    Std     \n",
      "RMSE (testset)    112.9718109.4299113.8550112.08561.9122  \n",
      "Fit time          5.21    5.89    6.46    5.85    0.51    \n",
      "Test time         0.43    0.67    0.32    0.47    0.15    \n"
     ]
    }
   ],
   "source": [
    "benchmark = []\n",
    "# Iterate over all algorithms\n",
    "for algorithm in [SVD(), SVDpp(), SlopeOne(), NMF(), NormalPredictor(), KNNBaseline(), KNNBasic(), KNNWithMeans(), KNNWithZScore(), BaselineOnly(), CoClustering()]:\n",
    "    # Perform cross validation\n",
    "    results = cross_validate(algorithm, data, measures=['RMSE'], cv=3, verbose=True)\n",
    "    \n",
    "    # Get results & append algorithm name\n",
    "    tmp = pd.DataFrame.from_dict(results).mean(axis=0)\n",
    "    tmp = tmp.append(pd.Series([str(algorithm).split(' ')[0].split('.')[-1]], index=['Algorithm']))\n",
    "    benchmark.append(tmp)"
   ]
  },
  {
   "cell_type": "code",
   "execution_count": 42,
   "metadata": {},
   "outputs": [],
   "source": [
    "surprise_results = pd.DataFrame(benchmark).set_index('Algorithm').sort_values('test_rmse')\n"
   ]
  },
  {
   "cell_type": "code",
   "execution_count": 43,
   "metadata": {},
   "outputs": [
    {
     "data": {
      "text/html": [
       "<div>\n",
       "<style scoped>\n",
       "    .dataframe tbody tr th:only-of-type {\n",
       "        vertical-align: middle;\n",
       "    }\n",
       "\n",
       "    .dataframe tbody tr th {\n",
       "        vertical-align: top;\n",
       "    }\n",
       "\n",
       "    .dataframe thead th {\n",
       "        text-align: right;\n",
       "    }\n",
       "</style>\n",
       "<table border=\"1\" class=\"dataframe\">\n",
       "  <thead>\n",
       "    <tr style=\"text-align: right;\">\n",
       "      <th></th>\n",
       "      <th>test_rmse</th>\n",
       "      <th>fit_time</th>\n",
       "      <th>test_time</th>\n",
       "    </tr>\n",
       "    <tr>\n",
       "      <th>Algorithm</th>\n",
       "      <th></th>\n",
       "      <th></th>\n",
       "      <th></th>\n",
       "    </tr>\n",
       "  </thead>\n",
       "  <tbody>\n",
       "    <tr>\n",
       "      <th>BaselineOnly</th>\n",
       "      <td>99.705186</td>\n",
       "      <td>0.266702</td>\n",
       "      <td>0.263955</td>\n",
       "    </tr>\n",
       "    <tr>\n",
       "      <th>SlopeOne</th>\n",
       "      <td>109.547677</td>\n",
       "      <td>10.859446</td>\n",
       "      <td>1.420623</td>\n",
       "    </tr>\n",
       "    <tr>\n",
       "      <th>CoClustering</th>\n",
       "      <td>112.085567</td>\n",
       "      <td>5.853353</td>\n",
       "      <td>0.473540</td>\n",
       "    </tr>\n",
       "    <tr>\n",
       "      <th>KNNBaseline</th>\n",
       "      <td>112.322272</td>\n",
       "      <td>0.717616</td>\n",
       "      <td>4.264624</td>\n",
       "    </tr>\n",
       "    <tr>\n",
       "      <th>KNNWithMeans</th>\n",
       "      <td>113.966636</td>\n",
       "      <td>0.509108</td>\n",
       "      <td>3.534237</td>\n",
       "    </tr>\n",
       "    <tr>\n",
       "      <th>KNNWithZScore</th>\n",
       "      <td>114.017342</td>\n",
       "      <td>0.614514</td>\n",
       "      <td>3.303750</td>\n",
       "    </tr>\n",
       "    <tr>\n",
       "      <th>KNNBasic</th>\n",
       "      <td>143.407258</td>\n",
       "      <td>0.455621</td>\n",
       "      <td>3.231662</td>\n",
       "    </tr>\n",
       "    <tr>\n",
       "      <th>NormalPredictor</th>\n",
       "      <td>187.766974</td>\n",
       "      <td>0.172915</td>\n",
       "      <td>0.514917</td>\n",
       "    </tr>\n",
       "    <tr>\n",
       "      <th>NMF</th>\n",
       "      <td>216.098550</td>\n",
       "      <td>9.616166</td>\n",
       "      <td>0.412044</td>\n",
       "    </tr>\n",
       "    <tr>\n",
       "      <th>SVD</th>\n",
       "      <td>450.135925</td>\n",
       "      <td>4.779369</td>\n",
       "      <td>0.328345</td>\n",
       "    </tr>\n",
       "    <tr>\n",
       "      <th>SVDpp</th>\n",
       "      <td>450.167342</td>\n",
       "      <td>49.183736</td>\n",
       "      <td>1.894458</td>\n",
       "    </tr>\n",
       "  </tbody>\n",
       "</table>\n",
       "</div>"
      ],
      "text/plain": [
       "                  test_rmse   fit_time  test_time\n",
       "Algorithm                                        \n",
       "BaselineOnly      99.705186   0.266702   0.263955\n",
       "SlopeOne         109.547677  10.859446   1.420623\n",
       "CoClustering     112.085567   5.853353   0.473540\n",
       "KNNBaseline      112.322272   0.717616   4.264624\n",
       "KNNWithMeans     113.966636   0.509108   3.534237\n",
       "KNNWithZScore    114.017342   0.614514   3.303750\n",
       "KNNBasic         143.407258   0.455621   3.231662\n",
       "NormalPredictor  187.766974   0.172915   0.514917\n",
       "NMF              216.098550   9.616166   0.412044\n",
       "SVD              450.135925   4.779369   0.328345\n",
       "SVDpp            450.167342  49.183736   1.894458"
      ]
     },
     "execution_count": 43,
     "metadata": {},
     "output_type": "execute_result"
    }
   ],
   "source": [
    "surprise_results"
   ]
  },
  {
   "cell_type": "code",
   "execution_count": 44,
   "metadata": {},
   "outputs": [
    {
     "name": "stdout",
     "output_type": "stream",
     "text": [
      "Using ALS\n",
      "Estimating biases using als...\n",
      "Estimating biases using als...\n",
      "Estimating biases using als...\n"
     ]
    },
    {
     "data": {
      "text/plain": [
       "{'test_rmse': array([98.31083671, 97.87300604, 97.75249817]),\n",
       " 'fit_time': (0.16314697265625, 0.1760084629058838, 0.16028618812561035),\n",
       " 'test_time': (0.1902318000793457, 0.4914991855621338, 0.3393702507019043)}"
      ]
     },
     "execution_count": 44,
     "metadata": {},
     "output_type": "execute_result"
    }
   ],
   "source": [
    "print('Using ALS')\n",
    "bsl_options = {'method': 'als',\n",
    "               'n_epochs': 5,\n",
    "               'reg_u': 12,\n",
    "               'reg_i': 5\n",
    "               }\n",
    "algo = BaselineOnly(bsl_options=bsl_options)\n",
    "cross_validate(algo, data, measures=['RMSE'], cv=3, verbose=False)"
   ]
  },
  {
   "cell_type": "code",
   "execution_count": 45,
   "metadata": {},
   "outputs": [
    {
     "name": "stdout",
     "output_type": "stream",
     "text": [
      "Estimating biases using als...\n",
      "RMSE: 95.8848\n"
     ]
    },
    {
     "data": {
      "text/plain": [
       "95.88482818760268"
      ]
     },
     "execution_count": 45,
     "metadata": {},
     "output_type": "execute_result"
    }
   ],
   "source": [
    "\n",
    "trainset, testset = train_test_split(data, test_size=0.25)\n",
    "algo = BaselineOnly(bsl_options=bsl_options)\n",
    "predictions = algo.fit(trainset).test(testset)\n",
    "accuracy.rmse(predictions)"
   ]
  },
  {
   "cell_type": "code",
   "execution_count": 46,
   "metadata": {},
   "outputs": [],
   "source": [
    "def get_Iu(uid):\n",
    "    \"\"\" return the number of items rated by given user\n",
    "    args: \n",
    "      uid: the id of the user\n",
    "    returns: \n",
    "      the number of items rated by the user\n",
    "    \"\"\"\n",
    "    try:\n",
    "        return len(trainset.ur[trainset.to_inner_uid(uid)])\n",
    "    except ValueError: # user was not part of the trainset\n",
    "        return 0\n",
    "    \n",
    "def get_Ui(iid):\n",
    "    \"\"\" return number of users that have rated given item\n",
    "    args:\n",
    "      iid: the raw id of the item\n",
    "    returns:\n",
    "      the number of users that have rated the item.\n",
    "    \"\"\"\n",
    "    try: \n",
    "        return len(trainset.ir[trainset.to_inner_iid(iid)])\n",
    "    except ValueError:\n",
    "        return 0\n",
    "    \n",
    "df = pd.DataFrame(predictions, columns=['uid', 'iid', 'rui', 'est', 'details'])\n",
    "df['Iu'] = df.uid.apply(get_Iu)\n",
    "df['Ui'] = df.iid.apply(get_Ui)\n",
    "df['err'] = abs(df.est - df.rui)\n"
   ]
  },
  {
   "cell_type": "code",
   "execution_count": 47,
   "metadata": {},
   "outputs": [
    {
     "data": {
      "text/html": [
       "<div>\n",
       "<style scoped>\n",
       "    .dataframe tbody tr th:only-of-type {\n",
       "        vertical-align: middle;\n",
       "    }\n",
       "\n",
       "    .dataframe tbody tr th {\n",
       "        vertical-align: top;\n",
       "    }\n",
       "\n",
       "    .dataframe thead th {\n",
       "        text-align: right;\n",
       "    }\n",
       "</style>\n",
       "<table border=\"1\" class=\"dataframe\">\n",
       "  <thead>\n",
       "    <tr style=\"text-align: right;\">\n",
       "      <th></th>\n",
       "      <th>uid</th>\n",
       "      <th>iid</th>\n",
       "      <th>rui</th>\n",
       "      <th>est</th>\n",
       "      <th>details</th>\n",
       "      <th>Iu</th>\n",
       "      <th>Ui</th>\n",
       "      <th>err</th>\n",
       "    </tr>\n",
       "  </thead>\n",
       "  <tbody>\n",
       "    <tr>\n",
       "      <th>0</th>\n",
       "      <td>343</td>\n",
       "      <td>5902</td>\n",
       "      <td>62.0</td>\n",
       "      <td>188.243189</td>\n",
       "      <td>{'was_impossible': False}</td>\n",
       "      <td>30</td>\n",
       "      <td>1</td>\n",
       "      <td>126.243189</td>\n",
       "    </tr>\n",
       "  </tbody>\n",
       "</table>\n",
       "</div>"
      ],
      "text/plain": [
       "   uid   iid   rui         est                    details  Iu  Ui         err\n",
       "0  343  5902  62.0  188.243189  {'was_impossible': False}  30   1  126.243189"
      ]
     },
     "execution_count": 47,
     "metadata": {},
     "output_type": "execute_result"
    }
   ],
   "source": [
    "df.head(1)"
   ]
  },
  {
   "cell_type": "code",
   "execution_count": 48,
   "metadata": {},
   "outputs": [],
   "source": [
    "best_predictions = df.sort_values(by='err')[:10]\n",
    "worst_predictions = df.sort_values(by='err')[-10:]"
   ]
  },
  {
   "cell_type": "code",
   "execution_count": 49,
   "metadata": {},
   "outputs": [
    {
     "data": {
      "text/html": [
       "<div>\n",
       "<style scoped>\n",
       "    .dataframe tbody tr th:only-of-type {\n",
       "        vertical-align: middle;\n",
       "    }\n",
       "\n",
       "    .dataframe tbody tr th {\n",
       "        vertical-align: top;\n",
       "    }\n",
       "\n",
       "    .dataframe thead th {\n",
       "        text-align: right;\n",
       "    }\n",
       "</style>\n",
       "<table border=\"1\" class=\"dataframe\">\n",
       "  <thead>\n",
       "    <tr style=\"text-align: right;\">\n",
       "      <th></th>\n",
       "      <th>uid</th>\n",
       "      <th>iid</th>\n",
       "      <th>rui</th>\n",
       "      <th>est</th>\n",
       "      <th>details</th>\n",
       "      <th>Iu</th>\n",
       "      <th>Ui</th>\n",
       "      <th>err</th>\n",
       "    </tr>\n",
       "  </thead>\n",
       "  <tbody>\n",
       "    <tr>\n",
       "      <th>5579</th>\n",
       "      <td>494</td>\n",
       "      <td>4704</td>\n",
       "      <td>208.0</td>\n",
       "      <td>207.994040</td>\n",
       "      <td>{'was_impossible': False}</td>\n",
       "      <td>20</td>\n",
       "      <td>19</td>\n",
       "      <td>0.005960</td>\n",
       "    </tr>\n",
       "    <tr>\n",
       "      <th>11220</th>\n",
       "      <td>1366</td>\n",
       "      <td>907</td>\n",
       "      <td>142.0</td>\n",
       "      <td>141.989303</td>\n",
       "      <td>{'was_impossible': False}</td>\n",
       "      <td>37</td>\n",
       "      <td>62</td>\n",
       "      <td>0.010697</td>\n",
       "    </tr>\n",
       "    <tr>\n",
       "      <th>3178</th>\n",
       "      <td>816</td>\n",
       "      <td>545</td>\n",
       "      <td>17.0</td>\n",
       "      <td>17.012148</td>\n",
       "      <td>{'was_impossible': False}</td>\n",
       "      <td>37</td>\n",
       "      <td>23</td>\n",
       "      <td>0.012148</td>\n",
       "    </tr>\n",
       "    <tr>\n",
       "      <th>11011</th>\n",
       "      <td>314</td>\n",
       "      <td>486</td>\n",
       "      <td>225.0</td>\n",
       "      <td>224.979479</td>\n",
       "      <td>{'was_impossible': False}</td>\n",
       "      <td>33</td>\n",
       "      <td>107</td>\n",
       "      <td>0.020521</td>\n",
       "    </tr>\n",
       "    <tr>\n",
       "      <th>1609</th>\n",
       "      <td>657</td>\n",
       "      <td>9003</td>\n",
       "      <td>247.0</td>\n",
       "      <td>246.970888</td>\n",
       "      <td>{'was_impossible': False}</td>\n",
       "      <td>26</td>\n",
       "      <td>0</td>\n",
       "      <td>0.029112</td>\n",
       "    </tr>\n",
       "    <tr>\n",
       "      <th>6444</th>\n",
       "      <td>37</td>\n",
       "      <td>1224</td>\n",
       "      <td>253.0</td>\n",
       "      <td>253.058338</td>\n",
       "      <td>{'was_impossible': False}</td>\n",
       "      <td>38</td>\n",
       "      <td>0</td>\n",
       "      <td>0.058338</td>\n",
       "    </tr>\n",
       "    <tr>\n",
       "      <th>3856</th>\n",
       "      <td>977</td>\n",
       "      <td>11504</td>\n",
       "      <td>80.0</td>\n",
       "      <td>79.937690</td>\n",
       "      <td>{'was_impossible': False}</td>\n",
       "      <td>33</td>\n",
       "      <td>0</td>\n",
       "      <td>0.062310</td>\n",
       "    </tr>\n",
       "    <tr>\n",
       "      <th>15227</th>\n",
       "      <td>114</td>\n",
       "      <td>1803</td>\n",
       "      <td>94.0</td>\n",
       "      <td>94.073203</td>\n",
       "      <td>{'was_impossible': False}</td>\n",
       "      <td>33</td>\n",
       "      <td>29</td>\n",
       "      <td>0.073203</td>\n",
       "    </tr>\n",
       "    <tr>\n",
       "      <th>11313</th>\n",
       "      <td>1254</td>\n",
       "      <td>512</td>\n",
       "      <td>310.0</td>\n",
       "      <td>309.889836</td>\n",
       "      <td>{'was_impossible': False}</td>\n",
       "      <td>26</td>\n",
       "      <td>23</td>\n",
       "      <td>0.110164</td>\n",
       "    </tr>\n",
       "    <tr>\n",
       "      <th>13304</th>\n",
       "      <td>1074</td>\n",
       "      <td>1767</td>\n",
       "      <td>201.0</td>\n",
       "      <td>200.887402</td>\n",
       "      <td>{'was_impossible': False}</td>\n",
       "      <td>34</td>\n",
       "      <td>9</td>\n",
       "      <td>0.112598</td>\n",
       "    </tr>\n",
       "  </tbody>\n",
       "</table>\n",
       "</div>"
      ],
      "text/plain": [
       "        uid    iid    rui         est                    details  Iu   Ui  \\\n",
       "5579    494   4704  208.0  207.994040  {'was_impossible': False}  20   19   \n",
       "11220  1366    907  142.0  141.989303  {'was_impossible': False}  37   62   \n",
       "3178    816    545   17.0   17.012148  {'was_impossible': False}  37   23   \n",
       "11011   314    486  225.0  224.979479  {'was_impossible': False}  33  107   \n",
       "1609    657   9003  247.0  246.970888  {'was_impossible': False}  26    0   \n",
       "6444     37   1224  253.0  253.058338  {'was_impossible': False}  38    0   \n",
       "3856    977  11504   80.0   79.937690  {'was_impossible': False}  33    0   \n",
       "15227   114   1803   94.0   94.073203  {'was_impossible': False}  33   29   \n",
       "11313  1254    512  310.0  309.889836  {'was_impossible': False}  26   23   \n",
       "13304  1074   1767  201.0  200.887402  {'was_impossible': False}  34    9   \n",
       "\n",
       "            err  \n",
       "5579   0.005960  \n",
       "11220  0.010697  \n",
       "3178   0.012148  \n",
       "11011  0.020521  \n",
       "1609   0.029112  \n",
       "6444   0.058338  \n",
       "3856   0.062310  \n",
       "15227  0.073203  \n",
       "11313  0.110164  \n",
       "13304  0.112598  "
      ]
     },
     "execution_count": 49,
     "metadata": {},
     "output_type": "execute_result"
    }
   ],
   "source": [
    "best_predictions\n"
   ]
  },
  {
   "cell_type": "code",
   "execution_count": 50,
   "metadata": {},
   "outputs": [
    {
     "data": {
      "text/html": [
       "<div>\n",
       "<style scoped>\n",
       "    .dataframe tbody tr th:only-of-type {\n",
       "        vertical-align: middle;\n",
       "    }\n",
       "\n",
       "    .dataframe tbody tr th {\n",
       "        vertical-align: top;\n",
       "    }\n",
       "\n",
       "    .dataframe thead th {\n",
       "        text-align: right;\n",
       "    }\n",
       "</style>\n",
       "<table border=\"1\" class=\"dataframe\">\n",
       "  <thead>\n",
       "    <tr style=\"text-align: right;\">\n",
       "      <th></th>\n",
       "      <th>uid</th>\n",
       "      <th>iid</th>\n",
       "      <th>rui</th>\n",
       "      <th>est</th>\n",
       "      <th>details</th>\n",
       "      <th>Iu</th>\n",
       "      <th>Ui</th>\n",
       "      <th>err</th>\n",
       "    </tr>\n",
       "  </thead>\n",
       "  <tbody>\n",
       "    <tr>\n",
       "      <th>10988</th>\n",
       "      <td>1882</td>\n",
       "      <td>17335</td>\n",
       "      <td>570.0</td>\n",
       "      <td>178.832182</td>\n",
       "      <td>{'was_impossible': False}</td>\n",
       "      <td>27</td>\n",
       "      <td>0</td>\n",
       "      <td>391.167818</td>\n",
       "    </tr>\n",
       "    <tr>\n",
       "      <th>407</th>\n",
       "      <td>48</td>\n",
       "      <td>1466</td>\n",
       "      <td>486.0</td>\n",
       "      <td>91.962139</td>\n",
       "      <td>{'was_impossible': False}</td>\n",
       "      <td>33</td>\n",
       "      <td>0</td>\n",
       "      <td>394.037861</td>\n",
       "    </tr>\n",
       "    <tr>\n",
       "      <th>40</th>\n",
       "      <td>125</td>\n",
       "      <td>3058</td>\n",
       "      <td>532.0</td>\n",
       "      <td>135.148974</td>\n",
       "      <td>{'was_impossible': False}</td>\n",
       "      <td>30</td>\n",
       "      <td>3</td>\n",
       "      <td>396.851026</td>\n",
       "    </tr>\n",
       "    <tr>\n",
       "      <th>7126</th>\n",
       "      <td>841</td>\n",
       "      <td>538</td>\n",
       "      <td>473.0</td>\n",
       "      <td>72.975812</td>\n",
       "      <td>{'was_impossible': False}</td>\n",
       "      <td>33</td>\n",
       "      <td>75</td>\n",
       "      <td>400.024188</td>\n",
       "    </tr>\n",
       "    <tr>\n",
       "      <th>10664</th>\n",
       "      <td>656</td>\n",
       "      <td>601</td>\n",
       "      <td>473.0</td>\n",
       "      <td>72.433306</td>\n",
       "      <td>{'was_impossible': False}</td>\n",
       "      <td>32</td>\n",
       "      <td>15</td>\n",
       "      <td>400.566694</td>\n",
       "    </tr>\n",
       "    <tr>\n",
       "      <th>10997</th>\n",
       "      <td>728</td>\n",
       "      <td>869</td>\n",
       "      <td>580.0</td>\n",
       "      <td>176.114117</td>\n",
       "      <td>{'was_impossible': False}</td>\n",
       "      <td>0</td>\n",
       "      <td>3</td>\n",
       "      <td>403.885883</td>\n",
       "    </tr>\n",
       "    <tr>\n",
       "      <th>10072</th>\n",
       "      <td>1046</td>\n",
       "      <td>288</td>\n",
       "      <td>615.0</td>\n",
       "      <td>193.727141</td>\n",
       "      <td>{'was_impossible': False}</td>\n",
       "      <td>33</td>\n",
       "      <td>169</td>\n",
       "      <td>421.272859</td>\n",
       "    </tr>\n",
       "    <tr>\n",
       "      <th>14615</th>\n",
       "      <td>1278</td>\n",
       "      <td>545</td>\n",
       "      <td>559.0</td>\n",
       "      <td>127.565234</td>\n",
       "      <td>{'was_impossible': False}</td>\n",
       "      <td>26</td>\n",
       "      <td>23</td>\n",
       "      <td>431.434766</td>\n",
       "    </tr>\n",
       "    <tr>\n",
       "      <th>14274</th>\n",
       "      <td>946</td>\n",
       "      <td>1198</td>\n",
       "      <td>615.0</td>\n",
       "      <td>173.628729</td>\n",
       "      <td>{'was_impossible': False}</td>\n",
       "      <td>18</td>\n",
       "      <td>21</td>\n",
       "      <td>441.371271</td>\n",
       "    </tr>\n",
       "    <tr>\n",
       "      <th>10846</th>\n",
       "      <td>1621</td>\n",
       "      <td>12315</td>\n",
       "      <td>557.0</td>\n",
       "      <td>94.192449</td>\n",
       "      <td>{'was_impossible': False}</td>\n",
       "      <td>37</td>\n",
       "      <td>2</td>\n",
       "      <td>462.807551</td>\n",
       "    </tr>\n",
       "  </tbody>\n",
       "</table>\n",
       "</div>"
      ],
      "text/plain": [
       "        uid    iid    rui         est                    details  Iu   Ui  \\\n",
       "10988  1882  17335  570.0  178.832182  {'was_impossible': False}  27    0   \n",
       "407      48   1466  486.0   91.962139  {'was_impossible': False}  33    0   \n",
       "40      125   3058  532.0  135.148974  {'was_impossible': False}  30    3   \n",
       "7126    841    538  473.0   72.975812  {'was_impossible': False}  33   75   \n",
       "10664   656    601  473.0   72.433306  {'was_impossible': False}  32   15   \n",
       "10997   728    869  580.0  176.114117  {'was_impossible': False}   0    3   \n",
       "10072  1046    288  615.0  193.727141  {'was_impossible': False}  33  169   \n",
       "14615  1278    545  559.0  127.565234  {'was_impossible': False}  26   23   \n",
       "14274   946   1198  615.0  173.628729  {'was_impossible': False}  18   21   \n",
       "10846  1621  12315  557.0   94.192449  {'was_impossible': False}  37    2   \n",
       "\n",
       "              err  \n",
       "10988  391.167818  \n",
       "407    394.037861  \n",
       "40     396.851026  \n",
       "7126   400.024188  \n",
       "10664  400.566694  \n",
       "10997  403.885883  \n",
       "10072  421.272859  \n",
       "14615  431.434766  \n",
       "14274  441.371271  \n",
       "10846  462.807551  "
      ]
     },
     "execution_count": 50,
     "metadata": {},
     "output_type": "execute_result"
    }
   ],
   "source": [
    "worst_predictions"
   ]
  },
  {
   "cell_type": "markdown",
   "metadata": {},
   "source": [
    "#### Sistema de recomendación:"
   ]
  },
  {
   "cell_type": "code",
   "execution_count": 51,
   "metadata": {},
   "outputs": [
    {
     "data": {
      "text/html": [
       "<div>\n",
       "<style scoped>\n",
       "    .dataframe tbody tr th:only-of-type {\n",
       "        vertical-align: middle;\n",
       "    }\n",
       "\n",
       "    .dataframe tbody tr th {\n",
       "        vertical-align: top;\n",
       "    }\n",
       "\n",
       "    .dataframe thead th {\n",
       "        text-align: right;\n",
       "    }\n",
       "</style>\n",
       "<table border=\"1\" class=\"dataframe\">\n",
       "  <thead>\n",
       "    <tr style=\"text-align: right;\">\n",
       "      <th></th>\n",
       "      <th>userID</th>\n",
       "      <th>artistID</th>\n",
       "      <th>weight</th>\n",
       "    </tr>\n",
       "  </thead>\n",
       "  <tbody>\n",
       "    <tr>\n",
       "      <th>0</th>\n",
       "      <td>2</td>\n",
       "      <td>51</td>\n",
       "      <td>13883</td>\n",
       "    </tr>\n",
       "    <tr>\n",
       "      <th>1</th>\n",
       "      <td>2</td>\n",
       "      <td>52</td>\n",
       "      <td>11690</td>\n",
       "    </tr>\n",
       "  </tbody>\n",
       "</table>\n",
       "</div>"
      ],
      "text/plain": [
       "   userID  artistID  weight\n",
       "0       2        51   13883\n",
       "1       2        52   11690"
      ]
     },
     "execution_count": 51,
     "metadata": {},
     "output_type": "execute_result"
    }
   ],
   "source": [
    "df2 = user_artist_plays\n",
    "df2.head(2)"
   ]
  },
  {
   "cell_type": "code",
   "execution_count": 54,
   "metadata": {},
   "outputs": [],
   "source": [
    "from scipy.sparse import csr_matrix\n",
    "\n",
    "def create_X(df2):\n",
    "    \"\"\"\n",
    "    Generates a sparse matrix from ratings dataframe.\n",
    "    \n",
    "    Args:\n",
    "        df: pandas dataframe containing 3 columns (userId, movieId, rating)\n",
    "    \n",
    "    Returns:\n",
    "        X: sparse matrix\n",
    "        user_mapper: dict that maps user id's to user indices\n",
    "        user_inv_mapper: dict that maps user indices to user id's\n",
    "        movie_mapper: dict that maps movie id's to movie indices\n",
    "        movie_inv_mapper: dict that maps movie indices to movie id's\n",
    "    \"\"\"\n",
    "    M = df2['userID'].nunique()\n",
    "    N = df2['artistID'].nunique()\n",
    "\n",
    "    user_mapper = dict(zip(np.unique(df2[\"userID\"]), list(range(M))))\n",
    "    artist_mapper = dict(zip(np.unique(df2[\"artistID\"]), list(range(N))))\n",
    "    \n",
    "    user_inv_mapper = dict(zip(list(range(M)), np.unique(df2[\"userID\"])))\n",
    "    artist_inv_mapper = dict(zip(list(range(N)), np.unique(df2[\"artistID\"])))\n",
    "    \n",
    "    user_index = [user_mapper[i] for i in df2['userID']]\n",
    "    item_index = [artist_mapper[i] for i in df2['artistID']]\n",
    "\n",
    "    X = csr_matrix((df2[\"weight\"], (user_index,item_index)), shape=(M,N))\n",
    "    \n",
    "    return X, user_mapper, artist_mapper, user_inv_mapper, artist_inv_mapper\n",
    "\n",
    "X, user_mapper, artist_mapper, user_inv_mapper, artist_inv_mapper = create_X(df2)"
   ]
  },
  {
   "cell_type": "code",
   "execution_count": 55,
   "metadata": {},
   "outputs": [
    {
     "name": "stdout",
     "output_type": "stream",
     "text": [
      "Matrix sparsity: 0.28%\n"
     ]
    }
   ],
   "source": [
    "n_total = X.shape[0]*X.shape[1]\n",
    "n_ratings = X.nnz\n",
    "sparsity = n_ratings/n_total\n",
    "print(f\"Matrix sparsity: {round(sparsity*100,2)}%\")"
   ]
  },
  {
   "cell_type": "code",
   "execution_count": 56,
   "metadata": {},
   "outputs": [
    {
     "name": "stdout",
     "output_type": "stream",
     "text": [
      "Most active user rated 50 artist.\n",
      "Least active user rated 1 artist.\n"
     ]
    }
   ],
   "source": [
    "n_ratings_per_user = X.getnnz(axis=1)\n",
    "\n",
    "print(f\"Most active user rated {n_ratings_per_user.max()} artist.\")\n",
    "print(f\"Least active user rated {n_ratings_per_user.min()} artist.\")"
   ]
  },
  {
   "cell_type": "code",
   "execution_count": 57,
   "metadata": {},
   "outputs": [
    {
     "name": "stdout",
     "output_type": "stream",
     "text": [
      "Most rated artist has 611 ratings.\n",
      "Least rated artist has 1 ratings.\n"
     ]
    }
   ],
   "source": [
    "n_ratings_per_artist = X.getnnz(axis=0)\n",
    "\n",
    "print(f\"Most rated artist has {n_ratings_per_artist.max()} ratings.\")\n",
    "print(f\"Least rated artist has {n_ratings_per_artist.min()} ratings.\")"
   ]
  },
  {
   "cell_type": "code",
   "execution_count": 58,
   "metadata": {},
   "outputs": [
    {
     "name": "stderr",
     "output_type": "stream",
     "text": [
      "C:\\Users\\CristianSalgado\\anaconda3\\lib\\site-packages\\seaborn\\distributions.py:369: UserWarning: Default bandwidth for data is 0; skipping density estimation.\n",
      "  warnings.warn(msg, UserWarning)\n"
     ]
    },
    {
     "data": {
      "image/png": "[encoded data removed]",
      "text/plain": [
       "<Figure size 1152x288 with 2 Axes>"
      ]
     },
     "metadata": {},
     "output_type": "display_data"
    }
   ],
   "source": [
    "plt.figure(figsize=(16,4))\n",
    "plt.subplot(1,2,1)\n",
    "sns.kdeplot(n_ratings_per_user, shade=True)\n",
    "plt.xlim(0)\n",
    "plt.title(\"Number of Ratings Per User\", fontsize=14)\n",
    "plt.xlabel(\"Number of ratings per user\")\n",
    "plt.ylabel(\"density\")\n",
    "plt.subplot(1,2,2)\n",
    "sns.kdeplot(n_ratings_per_artist, shade=True)\n",
    "plt.xlim(0)\n",
    "plt.title(\"Number of Ratings Per artist\", fontsize=14)\n",
    "plt.xlabel(\"number of ratings per artist\")\n",
    "plt.ylabel(\"density\")\n",
    "plt.show()"
   ]
  },
  {
   "cell_type": "code",
   "execution_count": 59,
   "metadata": {},
   "outputs": [],
   "source": [
    "sum_ratings_per_artist = X.sum(axis=0)\n",
    "mean_rating_per_artist = sum_ratings_per_artist/n_ratings_per_artist"
   ]
  },
  {
   "cell_type": "code",
   "execution_count": 60,
   "metadata": {},
   "outputs": [],
   "source": [
    "X_mean_artist = np.tile(mean_rating_per_artist, (X.shape[0],1))"
   ]
  },
  {
   "cell_type": "code",
   "execution_count": 61,
   "metadata": {},
   "outputs": [
    {
     "data": {
      "text/plain": [
       "(1892, 17632)"
      ]
     },
     "execution_count": 61,
     "metadata": {},
     "output_type": "execute_result"
    }
   ],
   "source": [
    "X_mean_artist.shape"
   ]
  },
  {
   "cell_type": "code",
   "execution_count": 62,
   "metadata": {},
   "outputs": [],
   "source": [
    "X_norm = X - csr_matrix(X_mean_artist)"
   ]
  },
  {
   "cell_type": "code",
   "execution_count": 63,
   "metadata": {},
   "outputs": [],
   "source": [
    "from sklearn.neighbors import NearestNeighbors\n",
    "\n",
    "def find_similar_artist(artist_id, X, artist_mapper, artist_inv_mapper, k, metric='cosine'):\n",
    "    \"\"\"\n",
    "    Finds k-nearest neighbours for a given movie id.\n",
    "    \n",
    "    Args:\n",
    "        movie_id: id of the movie of interest\n",
    "        X: user-item utility matrix\n",
    "        k: number of similar movies to retrieve\n",
    "        metric: distance metric for kNN calculations\n",
    "    \n",
    "    Output: returns list of k similar movie ID's\n",
    "    \"\"\"\n",
    "    X = X.T\n",
    "    neighbour_ids = []\n",
    "    \n",
    "    artist_ind = artist_mapper[artist_id]\n",
    "    artist_vec = X[artist_ind]\n",
    "    if isinstance(artist_vec, (np.ndarray)):\n",
    "        artist_vec = artist_vec.reshape(1,-1)\n",
    "    # use k+1 since kNN output includes the movieId of interest\n",
    "    \n",
    "   # model2 =BaselineOnly()\n",
    "   # cross_validated_metrics2 = cross_validate(model2, data, measures=['RMSE'], cv=3, verbose=True)\n",
    "    \n",
    "    kNN = NearestNeighbors(n_neighbors=k+1, algorithm=\"brute\", metric=metric)\n",
    "    kNN.fit(X)\n",
    "    neighbour = kNN.kneighbors(artist_vec, return_distance=False)\n",
    "    for i in range(0,k):\n",
    "        n = neighbour.item(i)\n",
    "        neighbour_ids.append(artist_inv_mapper[n])\n",
    "    neighbour_ids.pop(0)\n",
    "    return neighbour_ids"
   ]
  },
  {
   "cell_type": "code",
   "execution_count": 64,
   "metadata": {},
   "outputs": [
    {
     "data": {
      "text/plain": [
       "[5077, 5085, 5086, 5090, 5091, 5092, 5095, 5096, 5078]"
      ]
     },
     "execution_count": 64,
     "metadata": {},
     "output_type": "execute_result"
    }
   ],
   "source": [
    "similar_artist = find_similar_artist(1, X_norm,artist_mapper, artist_inv_mapper, k=10)\n",
    "similar_artist"
   ]
  },
  {
   "cell_type": "code",
   "execution_count": 65,
   "metadata": {},
   "outputs": [
    {
     "data": {
      "text/html": [
       "<div>\n",
       "<style scoped>\n",
       "    .dataframe tbody tr th:only-of-type {\n",
       "        vertical-align: middle;\n",
       "    }\n",
       "\n",
       "    .dataframe tbody tr th {\n",
       "        vertical-align: top;\n",
       "    }\n",
       "\n",
       "    .dataframe thead th {\n",
       "        text-align: right;\n",
       "    }\n",
       "</style>\n",
       "<table border=\"1\" class=\"dataframe\">\n",
       "  <thead>\n",
       "    <tr style=\"text-align: right;\">\n",
       "      <th></th>\n",
       "      <th>id</th>\n",
       "      <th>name</th>\n",
       "      <th>url</th>\n",
       "      <th>pictureURL</th>\n",
       "    </tr>\n",
       "  </thead>\n",
       "  <tbody>\n",
       "    <tr>\n",
       "      <th>61</th>\n",
       "      <td>67</td>\n",
       "      <td>Madonna</td>\n",
       "      <td>http://www.last.fm/music/Madonna</td>\n",
       "      <td>http://userserve-ak.last.fm/serve/252/340387.jpg</td>\n",
       "    </tr>\n",
       "  </tbody>\n",
       "</table>\n",
       "</div>"
      ],
      "text/plain": [
       "    id     name                               url  \\\n",
       "61  67  Madonna  http://www.last.fm/music/Madonna   \n",
       "\n",
       "                                          pictureURL  \n",
       "61  http://userserve-ak.last.fm/serve/252/340387.jpg  "
      ]
     },
     "execution_count": 65,
     "metadata": {},
     "output_type": "execute_result"
    }
   ],
   "source": [
    "#artist_data[artist_data['name']== 'Britney Spears']\n",
    "#artist_data[artist_data['name']== 'Depeche Mode']\n",
    "#artist_data[artist_data['name']== 'Shakira']\n",
    "artist_data[artist_data['name']== 'Madonna']\n",
    "#artist_data[artist_data['name']== 'Enrique Iglesias']\n",
    "#artist_data[artist_data['name']== 'Eminem']"
   ]
  },
  {
   "cell_type": "code",
   "execution_count": 66,
   "metadata": {},
   "outputs": [
    {
     "name": "stdout",
     "output_type": "stream",
     "text": [
      "Por que escuchaste Shakira:\n",
      "Enrique Iglesias\n",
      "Black Eyed Peas\n",
      "Beyoncé\n",
      "Ke$ha\n",
      "Michael Jackson\n",
      "Bruno Mars\n",
      "Eminem\n",
      "Katy Perry\n",
      "Gwen Stefani\n"
     ]
    }
   ],
   "source": [
    "artist_titles = dict(zip(artist_data['id'], artist_data['name']))\n",
    "\n",
    "artist_id = 701\n",
    "#artist_data= 'Shakira'\n",
    "\n",
    "similar_artist = find_similar_artist(artist_id, X_norm, artist_mapper, artist_inv_mapper, metric='cosine', k=10)\n",
    "artist_title = artist_titles[artist_id]\n",
    "\n",
    "print(f\"Por que escuchaste {artist_title}:\")\n",
    "for i in similar_artist:\n",
    "    print(artist_titles[i])"
   ]
  },
  {
   "cell_type": "code",
   "execution_count": 67,
   "metadata": {},
   "outputs": [
    {
     "name": "stdout",
     "output_type": "stream",
     "text": [
      "Por que escuchaste Madonna:\n",
      "Janet Jackson\n",
      "Kylie Minogue\n",
      "Missy Elliott\n",
      "The Go-Go's\n",
      "Blake Lewis\n",
      "MBrother\n",
      "Esthero\n",
      "TLC\n",
      "Klaus Badelt\n"
     ]
    }
   ],
   "source": [
    "artist_id = 67\n",
    "\n",
    "similar_artist = find_similar_artist(artist_id, X_norm, artist_mapper, artist_inv_mapper, metric='euclidean', k=10)\n",
    "artist_title = artist_titles[artist_id]\n",
    "\n",
    "print(f\"Por que escuchaste {artist_title}:\")\n",
    "for i in similar_artist:\n",
    "    print(artist_titles[i])"
   ]
  },
  {
   "cell_type": "markdown",
   "metadata": {},
   "source": [
    "### Ejercicio 2b - Sistemas de Recomendación Avanzados\n",
    "\n",
    "Este ejercicio lo deberán completar quienes hayan realizado ambas partes de la materia pues requiere de los conocimientos adquiridos en las segundas dos clases. En este caso, utilizarán no sólo la información de la matriz de usuario-contenido, sino que deberán hacer uso de otra información para poder lidiar con el problema del \"Cold Start\", i.e. que es lo que ocurre cuando tengo nuevos usuarios o artistas. Tener en cuenta los siguientes pasos:\n",
    "1. **Evaluación sobre cold start**: Para evaluar como funciona el sistema con el problema del \"cold start\", deberán tomar ciertos artistas y \"dejarlos fuera\", i.e. remover cualquier participación del artista en el sistema. Esos serán los artistas que se evaluarán como \"cold start\".\n",
    "2. **Vectores de contenido**: Deberán generar vectores de contenido para los artistas, basados en los tags que los usuarios les dan (ver los archivos `user_taggedartists.dat` y `tags.dat`).\n",
    "3. **Sistema de recomendación**: Deberán crear un sistema de recomendación que tomará como parámetros la información del artista (i.e. nombre y tags). Con dicha información, deberán disponer de un sistema de recomendación híbrido (utilizando cualquiera de las técnicas vistas en clase) que devuelva artistas similares. El sistema de recomendación deberá utilizar toda la información proporcionada para dar una mejor respuesta.\n",
    "4. **Evaluación del sistema**: Deberán evaluar \"a mano\" el sistema sobre artistas que conozca y artistas que no conozca (i.e. que fueron dejados afuera), y hacer un análisis de lo que el sistema está devolviendo."
   ]
  },
  {
   "cell_type": "markdown",
   "metadata": {},
   "source": [
    "####  Evaluacion sobre cold start"
   ]
  },
  {
   "cell_type": "code",
   "execution_count": 68,
   "metadata": {},
   "outputs": [
    {
     "data": {
      "text/html": [
       "<div>\n",
       "<style scoped>\n",
       "    .dataframe tbody tr th:only-of-type {\n",
       "        vertical-align: middle;\n",
       "    }\n",
       "\n",
       "    .dataframe tbody tr th {\n",
       "        vertical-align: top;\n",
       "    }\n",
       "\n",
       "    .dataframe thead th {\n",
       "        text-align: right;\n",
       "    }\n",
       "</style>\n",
       "<table border=\"1\" class=\"dataframe\">\n",
       "  <thead>\n",
       "    <tr style=\"text-align: right;\">\n",
       "      <th></th>\n",
       "      <th>id</th>\n",
       "      <th>name</th>\n",
       "      <th>url</th>\n",
       "      <th>pictureURL</th>\n",
       "    </tr>\n",
       "  </thead>\n",
       "  <tbody>\n",
       "    <tr>\n",
       "      <th>0</th>\n",
       "      <td>1</td>\n",
       "      <td>MALICE MIZER</td>\n",
       "      <td>http://www.last.fm/music/MALICE+MIZER</td>\n",
       "      <td>http://userserve-ak.last.fm/serve/252/10808.jpg</td>\n",
       "    </tr>\n",
       "  </tbody>\n",
       "</table>\n",
       "</div>"
      ],
      "text/plain": [
       "   id          name                                    url  \\\n",
       "0   1  MALICE MIZER  http://www.last.fm/music/MALICE+MIZER   \n",
       "\n",
       "                                        pictureURL  \n",
       "0  http://userserve-ak.last.fm/serve/252/10808.jpg  "
      ]
     },
     "execution_count": 68,
     "metadata": {},
     "output_type": "execute_result"
    }
   ],
   "source": [
    "artist_data.head(1)"
   ]
  },
  {
   "cell_type": "code",
   "execution_count": 69,
   "metadata": {},
   "outputs": [],
   "source": [
    "#Dejo afuero a los siguientes Artistas\n",
    "#artist_data[artist_data['name']== 'Britney Spears']   #289\n",
    "#artist_data[artist_data['name']== 'Depeche Mode']     #72\n",
    "#artist_data[artist_data['name']== 'Shakira']           #701\n",
    "#artist_data[artist_data['name']== 'Madonna']    # 67\n",
    "#artist_data[artist_data['name']== 'Enrique Iglesias']         #161\n",
    "#artist_data[artist_data['name']== 'Eminem']                      #475\n",
    "\n",
    "Afuera = [475,161,67,701,72,289] \n",
    "artistas_Sin = artist_data[~artist_data['id'].isin(Afuera)]"
   ]
  },
  {
   "cell_type": "code",
   "execution_count": 70,
   "metadata": {},
   "outputs": [
    {
     "data": {
      "text/html": [
       "<div>\n",
       "<style scoped>\n",
       "    .dataframe tbody tr th:only-of-type {\n",
       "        vertical-align: middle;\n",
       "    }\n",
       "\n",
       "    .dataframe tbody tr th {\n",
       "        vertical-align: top;\n",
       "    }\n",
       "\n",
       "    .dataframe thead th {\n",
       "        text-align: right;\n",
       "    }\n",
       "</style>\n",
       "<table border=\"1\" class=\"dataframe\">\n",
       "  <thead>\n",
       "    <tr style=\"text-align: right;\">\n",
       "      <th></th>\n",
       "      <th>id</th>\n",
       "      <th>name</th>\n",
       "      <th>url</th>\n",
       "      <th>pictureURL</th>\n",
       "    </tr>\n",
       "  </thead>\n",
       "  <tbody>\n",
       "  </tbody>\n",
       "</table>\n",
       "</div>"
      ],
      "text/plain": [
       "Empty DataFrame\n",
       "Columns: [id, name, url, pictureURL]\n",
       "Index: []"
      ]
     },
     "execution_count": 70,
     "metadata": {},
     "output_type": "execute_result"
    }
   ],
   "source": [
    "artistas_Sin[artistas_Sin['id']==161]"
   ]
  },
  {
   "cell_type": "code",
   "execution_count": 71,
   "metadata": {},
   "outputs": [
    {
     "data": {
      "text/html": [
       "<div>\n",
       "<style scoped>\n",
       "    .dataframe tbody tr th:only-of-type {\n",
       "        vertical-align: middle;\n",
       "    }\n",
       "\n",
       "    .dataframe tbody tr th {\n",
       "        vertical-align: top;\n",
       "    }\n",
       "\n",
       "    .dataframe thead th {\n",
       "        text-align: right;\n",
       "    }\n",
       "</style>\n",
       "<table border=\"1\" class=\"dataframe\">\n",
       "  <thead>\n",
       "    <tr style=\"text-align: right;\">\n",
       "      <th></th>\n",
       "      <th>userID</th>\n",
       "      <th>artistID</th>\n",
       "      <th>tagID</th>\n",
       "      <th>day</th>\n",
       "      <th>month</th>\n",
       "      <th>year</th>\n",
       "    </tr>\n",
       "  </thead>\n",
       "  <tbody>\n",
       "    <tr>\n",
       "      <th>0</th>\n",
       "      <td>2</td>\n",
       "      <td>52</td>\n",
       "      <td>13</td>\n",
       "      <td>1</td>\n",
       "      <td>4</td>\n",
       "      <td>2009</td>\n",
       "    </tr>\n",
       "  </tbody>\n",
       "</table>\n",
       "</div>"
      ],
      "text/plain": [
       "   userID  artistID  tagID  day  month  year\n",
       "0       2        52     13    1      4  2009"
      ]
     },
     "execution_count": 71,
     "metadata": {},
     "output_type": "execute_result"
    }
   ],
   "source": [
    "user_taggedartists.head(1)"
   ]
  },
  {
   "cell_type": "code",
   "execution_count": 72,
   "metadata": {},
   "outputs": [],
   "source": [
    "user_taggedartists_Sin = user_taggedartists[~user_taggedartists.artistID.isin(Afuera)]"
   ]
  },
  {
   "cell_type": "code",
   "execution_count": 73,
   "metadata": {},
   "outputs": [
    {
     "data": {
      "text/html": [
       "<div>\n",
       "<style scoped>\n",
       "    .dataframe tbody tr th:only-of-type {\n",
       "        vertical-align: middle;\n",
       "    }\n",
       "\n",
       "    .dataframe tbody tr th {\n",
       "        vertical-align: top;\n",
       "    }\n",
       "\n",
       "    .dataframe thead th {\n",
       "        text-align: right;\n",
       "    }\n",
       "</style>\n",
       "<table border=\"1\" class=\"dataframe\">\n",
       "  <thead>\n",
       "    <tr style=\"text-align: right;\">\n",
       "      <th></th>\n",
       "      <th>userID</th>\n",
       "      <th>artistID</th>\n",
       "      <th>tagID</th>\n",
       "      <th>day</th>\n",
       "      <th>month</th>\n",
       "      <th>year</th>\n",
       "    </tr>\n",
       "  </thead>\n",
       "  <tbody>\n",
       "  </tbody>\n",
       "</table>\n",
       "</div>"
      ],
      "text/plain": [
       "Empty DataFrame\n",
       "Columns: [userID, artistID, tagID, day, month, year]\n",
       "Index: []"
      ]
     },
     "execution_count": 73,
     "metadata": {},
     "output_type": "execute_result"
    }
   ],
   "source": [
    "user_taggedartists_Sin[user_taggedartists_Sin['artistID']==161]"
   ]
  },
  {
   "cell_type": "code",
   "execution_count": 74,
   "metadata": {},
   "outputs": [
    {
     "data": {
      "text/html": [
       "<div>\n",
       "<style scoped>\n",
       "    .dataframe tbody tr th:only-of-type {\n",
       "        vertical-align: middle;\n",
       "    }\n",
       "\n",
       "    .dataframe tbody tr th {\n",
       "        vertical-align: top;\n",
       "    }\n",
       "\n",
       "    .dataframe thead th {\n",
       "        text-align: right;\n",
       "    }\n",
       "</style>\n",
       "<table border=\"1\" class=\"dataframe\">\n",
       "  <thead>\n",
       "    <tr style=\"text-align: right;\">\n",
       "      <th></th>\n",
       "      <th>userID</th>\n",
       "      <th>artistID</th>\n",
       "      <th>weight</th>\n",
       "    </tr>\n",
       "  </thead>\n",
       "  <tbody>\n",
       "    <tr>\n",
       "      <th>0</th>\n",
       "      <td>2</td>\n",
       "      <td>51</td>\n",
       "      <td>13883</td>\n",
       "    </tr>\n",
       "  </tbody>\n",
       "</table>\n",
       "</div>"
      ],
      "text/plain": [
       "   userID  artistID  weight\n",
       "0       2        51   13883"
      ]
     },
     "execution_count": 74,
     "metadata": {},
     "output_type": "execute_result"
    }
   ],
   "source": [
    "user_artist_plays.head(1)"
   ]
  },
  {
   "cell_type": "code",
   "execution_count": 75,
   "metadata": {},
   "outputs": [],
   "source": [
    "User_sin = user_artist_plays[~user_artist_plays.artistID.isin(Afuera)]"
   ]
  },
  {
   "cell_type": "code",
   "execution_count": 76,
   "metadata": {},
   "outputs": [
    {
     "data": {
      "text/html": [
       "<div>\n",
       "<style scoped>\n",
       "    .dataframe tbody tr th:only-of-type {\n",
       "        vertical-align: middle;\n",
       "    }\n",
       "\n",
       "    .dataframe tbody tr th {\n",
       "        vertical-align: top;\n",
       "    }\n",
       "\n",
       "    .dataframe thead th {\n",
       "        text-align: right;\n",
       "    }\n",
       "</style>\n",
       "<table border=\"1\" class=\"dataframe\">\n",
       "  <thead>\n",
       "    <tr style=\"text-align: right;\">\n",
       "      <th></th>\n",
       "      <th>userID</th>\n",
       "      <th>artistID</th>\n",
       "      <th>weight</th>\n",
       "    </tr>\n",
       "  </thead>\n",
       "  <tbody>\n",
       "  </tbody>\n",
       "</table>\n",
       "</div>"
      ],
      "text/plain": [
       "Empty DataFrame\n",
       "Columns: [userID, artistID, weight]\n",
       "Index: []"
      ]
     },
     "execution_count": 76,
     "metadata": {},
     "output_type": "execute_result"
    }
   ],
   "source": [
    "User_sin[User_sin['artistID']==161]"
   ]
  },
  {
   "cell_type": "code",
   "execution_count": 77,
   "metadata": {},
   "outputs": [
    {
     "data": {
      "text/html": [
       "<div>\n",
       "<style scoped>\n",
       "    .dataframe tbody tr th:only-of-type {\n",
       "        vertical-align: middle;\n",
       "    }\n",
       "\n",
       "    .dataframe tbody tr th {\n",
       "        vertical-align: top;\n",
       "    }\n",
       "\n",
       "    .dataframe thead th {\n",
       "        text-align: right;\n",
       "    }\n",
       "</style>\n",
       "<table border=\"1\" class=\"dataframe\">\n",
       "  <thead>\n",
       "    <tr style=\"text-align: right;\">\n",
       "      <th></th>\n",
       "      <th>tagID</th>\n",
       "      <th>tagValue</th>\n",
       "    </tr>\n",
       "  </thead>\n",
       "  <tbody>\n",
       "    <tr>\n",
       "      <th>2999</th>\n",
       "      <td>3049</td>\n",
       "      <td>favorite tracks</td>\n",
       "    </tr>\n",
       "    <tr>\n",
       "      <th>7792</th>\n",
       "      <td>8141</td>\n",
       "      <td>the velvet underground</td>\n",
       "    </tr>\n",
       "    <tr>\n",
       "      <th>11121</th>\n",
       "      <td>11752</td>\n",
       "      <td>makes you dance</td>\n",
       "    </tr>\n",
       "    <tr>\n",
       "      <th>9475</th>\n",
       "      <td>9996</td>\n",
       "      <td>im breaking dishes up in here all night</td>\n",
       "    </tr>\n",
       "    <tr>\n",
       "      <th>666</th>\n",
       "      <td>673</td>\n",
       "      <td>supersonic</td>\n",
       "    </tr>\n",
       "  </tbody>\n",
       "</table>\n",
       "</div>"
      ],
      "text/plain": [
       "       tagID                                 tagValue\n",
       "2999    3049                          favorite tracks\n",
       "7792    8141                   the velvet underground\n",
       "11121  11752                          makes you dance\n",
       "9475    9996  im breaking dishes up in here all night\n",
       "666      673                               supersonic"
      ]
     },
     "execution_count": 77,
     "metadata": {},
     "output_type": "execute_result"
    }
   ],
   "source": [
    "tags.sample(5)"
   ]
  },
  {
   "cell_type": "code",
   "execution_count": 78,
   "metadata": {},
   "outputs": [],
   "source": [
    "#Hago merge por TagID\n",
    "user_artist_tag = pd.merge(tags, user_taggedartists_Sin, on=[\"tagID\"])"
   ]
  },
  {
   "cell_type": "code",
   "execution_count": 79,
   "metadata": {},
   "outputs": [
    {
     "data": {
      "text/html": [
       "<div>\n",
       "<style scoped>\n",
       "    .dataframe tbody tr th:only-of-type {\n",
       "        vertical-align: middle;\n",
       "    }\n",
       "\n",
       "    .dataframe tbody tr th {\n",
       "        vertical-align: top;\n",
       "    }\n",
       "\n",
       "    .dataframe thead th {\n",
       "        text-align: right;\n",
       "    }\n",
       "</style>\n",
       "<table border=\"1\" class=\"dataframe\">\n",
       "  <thead>\n",
       "    <tr style=\"text-align: right;\">\n",
       "      <th></th>\n",
       "      <th>tagID</th>\n",
       "      <th>tagValue</th>\n",
       "      <th>userID</th>\n",
       "      <th>artistID</th>\n",
       "      <th>day</th>\n",
       "      <th>month</th>\n",
       "      <th>year</th>\n",
       "    </tr>\n",
       "  </thead>\n",
       "  <tbody>\n",
       "    <tr>\n",
       "      <th>0</th>\n",
       "      <td>1</td>\n",
       "      <td>metal</td>\n",
       "      <td>4</td>\n",
       "      <td>918</td>\n",
       "      <td>1</td>\n",
       "      <td>5</td>\n",
       "      <td>2008</td>\n",
       "    </tr>\n",
       "  </tbody>\n",
       "</table>\n",
       "</div>"
      ],
      "text/plain": [
       "   tagID tagValue  userID  artistID  day  month  year\n",
       "0      1    metal       4       918    1      5  2008"
      ]
     },
     "execution_count": 79,
     "metadata": {},
     "output_type": "execute_result"
    }
   ],
   "source": [
    "user_artist_tag.head(1)"
   ]
  },
  {
   "cell_type": "code",
   "execution_count": 80,
   "metadata": {},
   "outputs": [
    {
     "data": {
      "text/html": [
       "<div>\n",
       "<style scoped>\n",
       "    .dataframe tbody tr th:only-of-type {\n",
       "        vertical-align: middle;\n",
       "    }\n",
       "\n",
       "    .dataframe tbody tr th {\n",
       "        vertical-align: top;\n",
       "    }\n",
       "\n",
       "    .dataframe thead th {\n",
       "        text-align: right;\n",
       "    }\n",
       "</style>\n",
       "<table border=\"1\" class=\"dataframe\">\n",
       "  <thead>\n",
       "    <tr style=\"text-align: right;\">\n",
       "      <th></th>\n",
       "      <th>id</th>\n",
       "      <th>name</th>\n",
       "      <th>url</th>\n",
       "      <th>pictureURL</th>\n",
       "    </tr>\n",
       "  </thead>\n",
       "  <tbody>\n",
       "    <tr>\n",
       "      <th>0</th>\n",
       "      <td>1</td>\n",
       "      <td>MALICE MIZER</td>\n",
       "      <td>http://www.last.fm/music/MALICE+MIZER</td>\n",
       "      <td>http://userserve-ak.last.fm/serve/252/10808.jpg</td>\n",
       "    </tr>\n",
       "  </tbody>\n",
       "</table>\n",
       "</div>"
      ],
      "text/plain": [
       "   id          name                                    url  \\\n",
       "0   1  MALICE MIZER  http://www.last.fm/music/MALICE+MIZER   \n",
       "\n",
       "                                        pictureURL  \n",
       "0  http://userserve-ak.last.fm/serve/252/10808.jpg  "
      ]
     },
     "execution_count": 80,
     "metadata": {},
     "output_type": "execute_result"
    }
   ],
   "source": [
    "artist_data.head(1)"
   ]
  },
  {
   "cell_type": "code",
   "execution_count": 81,
   "metadata": {},
   "outputs": [],
   "source": [
    "artist_data = artist_data.rename(columns={\"id\" : 'artistID'})"
   ]
  },
  {
   "cell_type": "code",
   "execution_count": 82,
   "metadata": {},
   "outputs": [],
   "source": [
    "#Hago merge por artist\n",
    "user_artist_tag = pd.merge(user_artist_tag, artist_data, how='inner', on=[\"artistID\"])\n"
   ]
  },
  {
   "cell_type": "code",
   "execution_count": 83,
   "metadata": {},
   "outputs": [
    {
     "data": {
      "text/html": [
       "<div>\n",
       "<style scoped>\n",
       "    .dataframe tbody tr th:only-of-type {\n",
       "        vertical-align: middle;\n",
       "    }\n",
       "\n",
       "    .dataframe tbody tr th {\n",
       "        vertical-align: top;\n",
       "    }\n",
       "\n",
       "    .dataframe thead th {\n",
       "        text-align: right;\n",
       "    }\n",
       "</style>\n",
       "<table border=\"1\" class=\"dataframe\">\n",
       "  <thead>\n",
       "    <tr style=\"text-align: right;\">\n",
       "      <th></th>\n",
       "      <th>userID</th>\n",
       "      <th>artistID</th>\n",
       "      <th>weight</th>\n",
       "    </tr>\n",
       "  </thead>\n",
       "  <tbody>\n",
       "    <tr>\n",
       "      <th>0</th>\n",
       "      <td>2</td>\n",
       "      <td>51</td>\n",
       "      <td>13883</td>\n",
       "    </tr>\n",
       "  </tbody>\n",
       "</table>\n",
       "</div>"
      ],
      "text/plain": [
       "   userID  artistID  weight\n",
       "0       2        51   13883"
      ]
     },
     "execution_count": 83,
     "metadata": {},
     "output_type": "execute_result"
    }
   ],
   "source": [
    "User_sin.head(1)"
   ]
  },
  {
   "cell_type": "code",
   "execution_count": 84,
   "metadata": {},
   "outputs": [],
   "source": [
    "#uno artistID y userid para quedarme con una ultima df\n",
    "user_artist_tag = pd.merge(User_sin, user_artist_tag, on=[\"artistID\",\"userID\"]) "
   ]
  },
  {
   "cell_type": "code",
   "execution_count": 85,
   "metadata": {},
   "outputs": [
    {
     "data": {
      "text/html": [
       "<div>\n",
       "<style scoped>\n",
       "    .dataframe tbody tr th:only-of-type {\n",
       "        vertical-align: middle;\n",
       "    }\n",
       "\n",
       "    .dataframe tbody tr th {\n",
       "        vertical-align: top;\n",
       "    }\n",
       "\n",
       "    .dataframe thead th {\n",
       "        text-align: right;\n",
       "    }\n",
       "</style>\n",
       "<table border=\"1\" class=\"dataframe\">\n",
       "  <thead>\n",
       "    <tr style=\"text-align: right;\">\n",
       "      <th></th>\n",
       "      <th>userID</th>\n",
       "      <th>artistID</th>\n",
       "      <th>weight</th>\n",
       "      <th>tagID</th>\n",
       "      <th>tagValue</th>\n",
       "      <th>day</th>\n",
       "      <th>month</th>\n",
       "      <th>year</th>\n",
       "      <th>name</th>\n",
       "      <th>url</th>\n",
       "      <th>pictureURL</th>\n",
       "    </tr>\n",
       "  </thead>\n",
       "  <tbody>\n",
       "    <tr>\n",
       "      <th>51801</th>\n",
       "      <td>1560</td>\n",
       "      <td>3317</td>\n",
       "      <td>1845</td>\n",
       "      <td>9862</td>\n",
       "      <td>young money</td>\n",
       "      <td>1</td>\n",
       "      <td>11</td>\n",
       "      <td>2010</td>\n",
       "      <td>Drake</td>\n",
       "      <td>http://www.last.fm/music/Drake</td>\n",
       "      <td>http://userserve-ak.last.fm/serve/252/31573727...</td>\n",
       "    </tr>\n",
       "    <tr>\n",
       "      <th>2447</th>\n",
       "      <td>59</td>\n",
       "      <td>1534</td>\n",
       "      <td>574</td>\n",
       "      <td>793</td>\n",
       "      <td>fucking awesome</td>\n",
       "      <td>1</td>\n",
       "      <td>11</td>\n",
       "      <td>2008</td>\n",
       "      <td>The Sisters of Mercy</td>\n",
       "      <td>http://www.last.fm/music/The+Sisters+of+Mercy</td>\n",
       "      <td>http://userserve-ak.last.fm/serve/252/13119153...</td>\n",
       "    </tr>\n",
       "  </tbody>\n",
       "</table>\n",
       "</div>"
      ],
      "text/plain": [
       "       userID  artistID  weight  tagID         tagValue  day  month  year  \\\n",
       "51801    1560      3317    1845   9862      young money    1     11  2010   \n",
       "2447       59      1534     574    793  fucking awesome    1     11  2008   \n",
       "\n",
       "                       name                                            url  \\\n",
       "51801                 Drake                 http://www.last.fm/music/Drake   \n",
       "2447   The Sisters of Mercy  http://www.last.fm/music/The+Sisters+of+Mercy   \n",
       "\n",
       "                                              pictureURL  \n",
       "51801  http://userserve-ak.last.fm/serve/252/31573727...  \n",
       "2447   http://userserve-ak.last.fm/serve/252/13119153...  "
      ]
     },
     "execution_count": 85,
     "metadata": {},
     "output_type": "execute_result"
    }
   ],
   "source": [
    "user_artist_tag.sample(2)"
   ]
  },
  {
   "cell_type": "markdown",
   "metadata": {},
   "source": [
    "####  EVectores de contenido"
   ]
  },
  {
   "cell_type": "code",
   "execution_count": 86,
   "metadata": {},
   "outputs": [
    {
     "data": {
      "text/html": [
       "<div>\n",
       "<style scoped>\n",
       "    .dataframe tbody tr th:only-of-type {\n",
       "        vertical-align: middle;\n",
       "    }\n",
       "\n",
       "    .dataframe tbody tr th {\n",
       "        vertical-align: top;\n",
       "    }\n",
       "\n",
       "    .dataframe thead th {\n",
       "        text-align: right;\n",
       "    }\n",
       "</style>\n",
       "<table border=\"1\" class=\"dataframe\">\n",
       "  <thead>\n",
       "    <tr style=\"text-align: right;\">\n",
       "      <th></th>\n",
       "      <th>userID</th>\n",
       "      <th>name</th>\n",
       "      <th>weight</th>\n",
       "    </tr>\n",
       "  </thead>\n",
       "  <tbody>\n",
       "    <tr>\n",
       "      <th>0</th>\n",
       "      <td>2</td>\n",
       "      <td>Café Del Mar</td>\n",
       "      <td>20672</td>\n",
       "    </tr>\n",
       "    <tr>\n",
       "      <th>1</th>\n",
       "      <td>2</td>\n",
       "      <td>Enigma</td>\n",
       "      <td>14940</td>\n",
       "    </tr>\n",
       "    <tr>\n",
       "      <th>2</th>\n",
       "      <td>2</td>\n",
       "      <td>Fleetwood Mac</td>\n",
       "      <td>2684</td>\n",
       "    </tr>\n",
       "    <tr>\n",
       "      <th>3</th>\n",
       "      <td>2</td>\n",
       "      <td>Ministry of Sound</td>\n",
       "      <td>10984</td>\n",
       "    </tr>\n",
       "    <tr>\n",
       "      <th>4</th>\n",
       "      <td>2</td>\n",
       "      <td>Morcheeba</td>\n",
       "      <td>58450</td>\n",
       "    </tr>\n",
       "  </tbody>\n",
       "</table>\n",
       "</div>"
      ],
      "text/plain": [
       "   userID               name  weight\n",
       "0       2       Café Del Mar   20672\n",
       "1       2             Enigma   14940\n",
       "2       2      Fleetwood Mac    2684\n",
       "3       2  Ministry of Sound   10984\n",
       "4       2          Morcheeba   58450"
      ]
     },
     "execution_count": 86,
     "metadata": {},
     "output_type": "execute_result"
    }
   ],
   "source": [
    "## 2.b.2\n",
    "user_arti = user_artist_tag.groupby(['userID','name'])['weight'].sum().reset_index()\n",
    "user_arti.head(5)"
   ]
  },
  {
   "cell_type": "code",
   "execution_count": 87,
   "metadata": {},
   "outputs": [
    {
     "data": {
      "text/html": [
       "<div>\n",
       "<style scoped>\n",
       "    .dataframe tbody tr th:only-of-type {\n",
       "        vertical-align: middle;\n",
       "    }\n",
       "\n",
       "    .dataframe tbody tr th {\n",
       "        vertical-align: top;\n",
       "    }\n",
       "\n",
       "    .dataframe thead th {\n",
       "        text-align: right;\n",
       "    }\n",
       "</style>\n",
       "<table border=\"1\" class=\"dataframe\">\n",
       "  <thead>\n",
       "    <tr style=\"text-align: right;\">\n",
       "      <th></th>\n",
       "      <th>artistID</th>\n",
       "      <th>name</th>\n",
       "      <th>weight</th>\n",
       "    </tr>\n",
       "  </thead>\n",
       "  <tbody>\n",
       "    <tr>\n",
       "      <th>0</th>\n",
       "      <td>1</td>\n",
       "      <td>MALICE MIZER</td>\n",
       "      <td>559</td>\n",
       "    </tr>\n",
       "    <tr>\n",
       "      <th>1</th>\n",
       "      <td>2</td>\n",
       "      <td>Diary of Dreams</td>\n",
       "      <td>12738</td>\n",
       "    </tr>\n",
       "    <tr>\n",
       "      <th>2</th>\n",
       "      <td>3</td>\n",
       "      <td>Carpathian Forest</td>\n",
       "      <td>185</td>\n",
       "    </tr>\n",
       "    <tr>\n",
       "      <th>3</th>\n",
       "      <td>4</td>\n",
       "      <td>Moi dix Mois</td>\n",
       "      <td>1124</td>\n",
       "    </tr>\n",
       "    <tr>\n",
       "      <th>4</th>\n",
       "      <td>5</td>\n",
       "      <td>Bella Morte</td>\n",
       "      <td>780</td>\n",
       "    </tr>\n",
       "  </tbody>\n",
       "</table>\n",
       "</div>"
      ],
      "text/plain": [
       "   artistID               name  weight\n",
       "0         1       MALICE MIZER     559\n",
       "1         2    Diary of Dreams   12738\n",
       "2         3  Carpathian Forest     185\n",
       "3         4       Moi dix Mois    1124\n",
       "4         5        Bella Morte     780"
      ]
     },
     "execution_count": 87,
     "metadata": {},
     "output_type": "execute_result"
    }
   ],
   "source": [
    "artists = user_artist_tag.groupby(['artistID','name'])['weight'].sum().reset_index()\n",
    "artists.head(5)"
   ]
  },
  {
   "cell_type": "code",
   "execution_count": 88,
   "metadata": {},
   "outputs": [
    {
     "data": {
      "text/html": [
       "<div>\n",
       "<style scoped>\n",
       "    .dataframe tbody tr th:only-of-type {\n",
       "        vertical-align: middle;\n",
       "    }\n",
       "\n",
       "    .dataframe tbody tr th {\n",
       "        vertical-align: top;\n",
       "    }\n",
       "\n",
       "    .dataframe thead th {\n",
       "        text-align: right;\n",
       "    }\n",
       "</style>\n",
       "<table border=\"1\" class=\"dataframe\">\n",
       "  <thead>\n",
       "    <tr style=\"text-align: right;\">\n",
       "      <th></th>\n",
       "      <th>artistID</th>\n",
       "      <th>tagValue</th>\n",
       "      <th>weight</th>\n",
       "    </tr>\n",
       "  </thead>\n",
       "  <tbody>\n",
       "    <tr>\n",
       "      <th>0</th>\n",
       "      <td>1</td>\n",
       "      <td>better than lady gaga</td>\n",
       "      <td>76</td>\n",
       "    </tr>\n",
       "    <tr>\n",
       "      <th>1</th>\n",
       "      <td>1</td>\n",
       "      <td>jrock</td>\n",
       "      <td>483</td>\n",
       "    </tr>\n",
       "    <tr>\n",
       "      <th>2</th>\n",
       "      <td>2</td>\n",
       "      <td>darkwave</td>\n",
       "      <td>4895</td>\n",
       "    </tr>\n",
       "    <tr>\n",
       "      <th>3</th>\n",
       "      <td>2</td>\n",
       "      <td>german</td>\n",
       "      <td>3627</td>\n",
       "    </tr>\n",
       "    <tr>\n",
       "      <th>4</th>\n",
       "      <td>2</td>\n",
       "      <td>gothic</td>\n",
       "      <td>4055</td>\n",
       "    </tr>\n",
       "  </tbody>\n",
       "</table>\n",
       "</div>"
      ],
      "text/plain": [
       "   artistID               tagValue  weight\n",
       "0         1  better than lady gaga      76\n",
       "1         1                  jrock     483\n",
       "2         2               darkwave    4895\n",
       "3         2                 german    3627\n",
       "4         2                 gothic    4055"
      ]
     },
     "execution_count": 88,
     "metadata": {},
     "output_type": "execute_result"
    }
   ],
   "source": [
    "artist_tag = user_artist_tag.groupby(['artistID','tagValue'])['weight'].sum().reset_index()\n",
    "artist_tag.head(5)"
   ]
  },
  {
   "cell_type": "code",
   "execution_count": 89,
   "metadata": {},
   "outputs": [
    {
     "data": {
      "text/html": [
       "<div>\n",
       "<style scoped>\n",
       "    .dataframe tbody tr th:only-of-type {\n",
       "        vertical-align: middle;\n",
       "    }\n",
       "\n",
       "    .dataframe tbody tr th {\n",
       "        vertical-align: top;\n",
       "    }\n",
       "\n",
       "    .dataframe thead th {\n",
       "        text-align: right;\n",
       "    }\n",
       "</style>\n",
       "<table border=\"1\" class=\"dataframe\">\n",
       "  <thead>\n",
       "    <tr style=\"text-align: right;\">\n",
       "      <th></th>\n",
       "      <th>artistID</th>\n",
       "      <th>name</th>\n",
       "      <th>weight</th>\n",
       "      <th>Lista</th>\n",
       "    </tr>\n",
       "  </thead>\n",
       "  <tbody>\n",
       "    <tr>\n",
       "      <th>3908</th>\n",
       "      <td>7559</td>\n",
       "      <td>Manu Dibango</td>\n",
       "      <td>60</td>\n",
       "      <td>NaN</td>\n",
       "    </tr>\n",
       "    <tr>\n",
       "      <th>301</th>\n",
       "      <td>409</td>\n",
       "      <td>G-Dragon</td>\n",
       "      <td>20130</td>\n",
       "      <td>NaN</td>\n",
       "    </tr>\n",
       "    <tr>\n",
       "      <th>1403</th>\n",
       "      <td>1948</td>\n",
       "      <td>Quasimoto</td>\n",
       "      <td>714</td>\n",
       "      <td>NaN</td>\n",
       "    </tr>\n",
       "    <tr>\n",
       "      <th>3706</th>\n",
       "      <td>6957</td>\n",
       "      <td>Steve Vai</td>\n",
       "      <td>1968</td>\n",
       "      <td>NaN</td>\n",
       "    </tr>\n",
       "    <tr>\n",
       "      <th>5086</th>\n",
       "      <td>11402</td>\n",
       "      <td>drake and lil wayne</td>\n",
       "      <td>40</td>\n",
       "      <td>NaN</td>\n",
       "    </tr>\n",
       "    <tr>\n",
       "      <th>5775</th>\n",
       "      <td>14269</td>\n",
       "      <td>Versant</td>\n",
       "      <td>165</td>\n",
       "      <td>NaN</td>\n",
       "    </tr>\n",
       "    <tr>\n",
       "      <th>3692</th>\n",
       "      <td>6905</td>\n",
       "      <td>Freeway</td>\n",
       "      <td>6066</td>\n",
       "      <td>NaN</td>\n",
       "    </tr>\n",
       "    <tr>\n",
       "      <th>6689</th>\n",
       "      <td>18081</td>\n",
       "      <td>Wintersleep</td>\n",
       "      <td>19</td>\n",
       "      <td>NaN</td>\n",
       "    </tr>\n",
       "    <tr>\n",
       "      <th>946</th>\n",
       "      <td>1261</td>\n",
       "      <td>Sodom</td>\n",
       "      <td>5906</td>\n",
       "      <td>NaN</td>\n",
       "    </tr>\n",
       "    <tr>\n",
       "      <th>6358</th>\n",
       "      <td>17014</td>\n",
       "      <td>Slipper</td>\n",
       "      <td>32</td>\n",
       "      <td>NaN</td>\n",
       "    </tr>\n",
       "  </tbody>\n",
       "</table>\n",
       "</div>"
      ],
      "text/plain": [
       "      artistID                 name  weight  Lista\n",
       "3908      7559         Manu Dibango      60    NaN\n",
       "301        409             G-Dragon   20130    NaN\n",
       "1403      1948            Quasimoto     714    NaN\n",
       "3706      6957            Steve Vai    1968    NaN\n",
       "5086     11402  drake and lil wayne      40    NaN\n",
       "5775     14269              Versant     165    NaN\n",
       "3692      6905              Freeway    6066    NaN\n",
       "6689     18081          Wintersleep      19    NaN\n",
       "946       1261                Sodom    5906    NaN\n",
       "6358     17014              Slipper      32    NaN"
      ]
     },
     "execution_count": 89,
     "metadata": {},
     "output_type": "execute_result"
    }
   ],
   "source": [
    "import numpy as np\n",
    "artists[\"Lista\"] = np.nan\n",
    "artists.sample(10)"
   ]
  },
  {
   "cell_type": "code",
   "execution_count": 90,
   "metadata": {},
   "outputs": [
    {
     "name": "stderr",
     "output_type": "stream",
     "text": [
      "<ipython-input-90-0c9e19150b92>:4: SettingWithCopyWarning: \n",
      "A value is trying to be set on a copy of a slice from a DataFrame\n",
      "\n",
      "See the caveats in the documentation: https://pandas.pydata.org/pandas-docs/stable/user_guide/indexing.html#returning-a-view-versus-a-copy\n",
      "  artists[\"Lista\"][i] = TList\n",
      "C:\\Users\\CristianSalgado\\anaconda3\\lib\\site-packages\\pandas\\core\\indexing.py:671: SettingWithCopyWarning: \n",
      "A value is trying to be set on a copy of a slice from a DataFrame\n",
      "\n",
      "See the caveats in the documentation: https://pandas.pydata.org/pandas-docs/stable/user_guide/indexing.html#returning-a-view-versus-a-copy\n",
      "  self._setitem_with_indexer(indexer, value)\n"
     ]
    }
   ],
   "source": [
    "for i in artists.index:\n",
    "    tags = artist_tag[artist_tag[\"artistID\"] == artists[\"artistID\"][i]][\"tagValue\"]\n",
    "    TList = tags.values.tolist()\n",
    "    artists[\"Lista\"][i] = TList\n",
    "   "
   ]
  },
  {
   "cell_type": "code",
   "execution_count": 91,
   "metadata": {},
   "outputs": [
    {
     "data": {
      "text/html": [
       "<div>\n",
       "<style scoped>\n",
       "    .dataframe tbody tr th:only-of-type {\n",
       "        vertical-align: middle;\n",
       "    }\n",
       "\n",
       "    .dataframe tbody tr th {\n",
       "        vertical-align: top;\n",
       "    }\n",
       "\n",
       "    .dataframe thead th {\n",
       "        text-align: right;\n",
       "    }\n",
       "</style>\n",
       "<table border=\"1\" class=\"dataframe\">\n",
       "  <thead>\n",
       "    <tr style=\"text-align: right;\">\n",
       "      <th></th>\n",
       "      <th>artistID</th>\n",
       "      <th>name</th>\n",
       "      <th>weight</th>\n",
       "      <th>Lista</th>\n",
       "    </tr>\n",
       "  </thead>\n",
       "  <tbody>\n",
       "    <tr>\n",
       "      <th>2088</th>\n",
       "      <td>3239</td>\n",
       "      <td>Otep</td>\n",
       "      <td>4421</td>\n",
       "      <td>[alternative metal, awesome covers, experiment...</td>\n",
       "    </tr>\n",
       "    <tr>\n",
       "      <th>6298</th>\n",
       "      <td>16678</td>\n",
       "      <td>Pernice Brothers</td>\n",
       "      <td>3532</td>\n",
       "      <td>[favourites, indie indi]</td>\n",
       "    </tr>\n",
       "  </tbody>\n",
       "</table>\n",
       "</div>"
      ],
      "text/plain": [
       "      artistID              name  weight  \\\n",
       "2088      3239              Otep    4421   \n",
       "6298     16678  Pernice Brothers    3532   \n",
       "\n",
       "                                                  Lista  \n",
       "2088  [alternative metal, awesome covers, experiment...  \n",
       "6298                           [favourites, indie indi]  "
      ]
     },
     "execution_count": 91,
     "metadata": {},
     "output_type": "execute_result"
    }
   ],
   "source": [
    "artists.sample(2)"
   ]
  },
  {
   "cell_type": "code",
   "execution_count": 92,
   "metadata": {},
   "outputs": [
    {
     "data": {
      "text/plain": [
       "Index(['artistID', 'name', 'weight', 'Lista'], dtype='object')"
      ]
     },
     "execution_count": 92,
     "metadata": {},
     "output_type": "execute_result"
    }
   ],
   "source": [
    "artists.columns"
   ]
  },
  {
   "cell_type": "code",
   "execution_count": 93,
   "metadata": {},
   "outputs": [
    {
     "data": {
      "text/html": [
       "<div>\n",
       "<style scoped>\n",
       "    .dataframe tbody tr th:only-of-type {\n",
       "        vertical-align: middle;\n",
       "    }\n",
       "\n",
       "    .dataframe tbody tr th {\n",
       "        vertical-align: top;\n",
       "    }\n",
       "\n",
       "    .dataframe thead th {\n",
       "        text-align: right;\n",
       "    }\n",
       "</style>\n",
       "<table border=\"1\" class=\"dataframe\">\n",
       "  <thead>\n",
       "    <tr style=\"text-align: right;\">\n",
       "      <th></th>\n",
       "      <th>artistID</th>\n",
       "      <th>name</th>\n",
       "      <th>Lista</th>\n",
       "    </tr>\n",
       "  </thead>\n",
       "  <tbody>\n",
       "    <tr>\n",
       "      <th>0</th>\n",
       "      <td>1</td>\n",
       "      <td>MALICE MIZER</td>\n",
       "      <td>[better than lady gaga, jrock]</td>\n",
       "    </tr>\n",
       "    <tr>\n",
       "      <th>1</th>\n",
       "      <td>2</td>\n",
       "      <td>Diary of Dreams</td>\n",
       "      <td>[darkwave, german, gothic, gothic rock]</td>\n",
       "    </tr>\n",
       "    <tr>\n",
       "      <th>2</th>\n",
       "      <td>3</td>\n",
       "      <td>Carpathian Forest</td>\n",
       "      <td>[black metal, norsk arysk metal, norwegian bla...</td>\n",
       "    </tr>\n",
       "    <tr>\n",
       "      <th>3</th>\n",
       "      <td>4</td>\n",
       "      <td>Moi dix Mois</td>\n",
       "      <td>[j-rock, visual kei]</td>\n",
       "    </tr>\n",
       "    <tr>\n",
       "      <th>4</th>\n",
       "      <td>5</td>\n",
       "      <td>Bella Morte</td>\n",
       "      <td>[darkwave, gothic, gothic rock]</td>\n",
       "    </tr>\n",
       "    <tr>\n",
       "      <th>...</th>\n",
       "      <td>...</td>\n",
       "      <td>...</td>\n",
       "      <td>...</td>\n",
       "    </tr>\n",
       "    <tr>\n",
       "      <th>6843</th>\n",
       "      <td>18734</td>\n",
       "      <td>The Young Gods</td>\n",
       "      <td>[alternative, electronica]</td>\n",
       "    </tr>\n",
       "    <tr>\n",
       "      <th>6844</th>\n",
       "      <td>18735</td>\n",
       "      <td>Wiseblood</td>\n",
       "      <td>[alternative]</td>\n",
       "    </tr>\n",
       "    <tr>\n",
       "      <th>6845</th>\n",
       "      <td>18736</td>\n",
       "      <td>LOSTFREEQ</td>\n",
       "      <td>[-pearl fashion music, ambient, aphex twin, at...</td>\n",
       "    </tr>\n",
       "    <tr>\n",
       "      <th>6846</th>\n",
       "      <td>18737</td>\n",
       "      <td>Ciccone Youth</td>\n",
       "      <td>[alternative, electronica, trip beat]</td>\n",
       "    </tr>\n",
       "    <tr>\n",
       "      <th>6847</th>\n",
       "      <td>18744</td>\n",
       "      <td>Oz Alchemist</td>\n",
       "      <td>[-pearl fashion music, alternative, ambient, a...</td>\n",
       "    </tr>\n",
       "  </tbody>\n",
       "</table>\n",
       "<p>6848 rows × 3 columns</p>\n",
       "</div>"
      ],
      "text/plain": [
       "      artistID               name  \\\n",
       "0            1       MALICE MIZER   \n",
       "1            2    Diary of Dreams   \n",
       "2            3  Carpathian Forest   \n",
       "3            4       Moi dix Mois   \n",
       "4            5        Bella Morte   \n",
       "...        ...                ...   \n",
       "6843     18734     The Young Gods   \n",
       "6844     18735          Wiseblood   \n",
       "6845     18736          LOSTFREEQ   \n",
       "6846     18737      Ciccone Youth   \n",
       "6847     18744       Oz Alchemist   \n",
       "\n",
       "                                                  Lista  \n",
       "0                        [better than lady gaga, jrock]  \n",
       "1               [darkwave, german, gothic, gothic rock]  \n",
       "2     [black metal, norsk arysk metal, norwegian bla...  \n",
       "3                                  [j-rock, visual kei]  \n",
       "4                       [darkwave, gothic, gothic rock]  \n",
       "...                                                 ...  \n",
       "6843                         [alternative, electronica]  \n",
       "6844                                      [alternative]  \n",
       "6845  [-pearl fashion music, ambient, aphex twin, at...  \n",
       "6846              [alternative, electronica, trip beat]  \n",
       "6847  [-pearl fashion music, alternative, ambient, a...  \n",
       "\n",
       "[6848 rows x 3 columns]"
      ]
     },
     "execution_count": 93,
     "metadata": {},
     "output_type": "execute_result"
    }
   ],
   "source": [
    "artists.drop(columns=['weight'])"
   ]
  },
  {
   "cell_type": "code",
   "execution_count": 94,
   "metadata": {},
   "outputs": [
    {
     "data": {
      "text/html": [
       "<div>\n",
       "<style scoped>\n",
       "    .dataframe tbody tr th:only-of-type {\n",
       "        vertical-align: middle;\n",
       "    }\n",
       "\n",
       "    .dataframe tbody tr th {\n",
       "        vertical-align: top;\n",
       "    }\n",
       "\n",
       "    .dataframe thead th {\n",
       "        text-align: right;\n",
       "    }\n",
       "</style>\n",
       "<table border=\"1\" class=\"dataframe\">\n",
       "  <thead>\n",
       "    <tr style=\"text-align: right;\">\n",
       "      <th></th>\n",
       "      <th>artistID</th>\n",
       "      <th>name</th>\n",
       "      <th>weight</th>\n",
       "      <th>Lista</th>\n",
       "    </tr>\n",
       "  </thead>\n",
       "  <tbody>\n",
       "    <tr>\n",
       "      <th>0</th>\n",
       "      <td>1</td>\n",
       "      <td>MALICE MIZER</td>\n",
       "      <td>559</td>\n",
       "      <td>[better than lady gaga, jrock]</td>\n",
       "    </tr>\n",
       "  </tbody>\n",
       "</table>\n",
       "</div>"
      ],
      "text/plain": [
       "   artistID          name  weight                           Lista\n",
       "0         1  MALICE MIZER     559  [better than lady gaga, jrock]"
      ]
     },
     "execution_count": 94,
     "metadata": {},
     "output_type": "execute_result"
    }
   ],
   "source": [
    "artists.head(1)"
   ]
  },
  {
   "cell_type": "markdown",
   "metadata": {},
   "source": [
    "####  Sistema de Recomendacion"
   ]
  },
  {
   "cell_type": "code",
   "execution_count": 95,
   "metadata": {},
   "outputs": [],
   "source": [
    "import pandas as pd\n",
    "import numpy as np\n",
    "from sklearn.metrics.pairwise import cosine_similarity\n",
    "\n",
    "class GenresBasedFilter(object):\n",
    "    def __init__(self, artists, k=5):\n",
    "        self.artist_to_idx = {row[\"name\"]: idx for idx, row in artists.iterrows()}\n",
    "        self.idx_to_artist = {idx: artist for artist, idx in self.artist_to_idx.items()}\n",
    "        self.k = k\n",
    "\n",
    "        tagres = set(g for G in artists['Lista'] for g in G)\n",
    "        for g in tagres:\n",
    "            artists[g] = artists.Lista.transform(lambda x: int(g in x))\n",
    "\n",
    "        self.artist_tagres = artists.drop(columns=['artistID', 'name', 'Lista'])\n",
    "\n",
    "    def fit(self, usr_ratings):\n",
    "        self.artist_cosine_sim_ = cosine_similarity(self.artist_tagres, self.artist_tagres)\n",
    "\n",
    "        self.user_ratings_ = {}\n",
    "        for (userID, name, weight_rank) in usr_ratings.build_testset():\n",
    "            if userID not in self.user_ratings_:\n",
    "                self.user_ratings_[userID] = {}\n",
    "            self.user_ratings_[userID][name] = weight_rank\n",
    "\n",
    "        return self\n",
    "\n",
    "    def predict(self, userID, artist):\n",
    "        if not userID in self.user_ratings_ or not artist in self.artist_to_idx:\n",
    "            global_mean = np.mean([\n",
    "                usr_ratings for artist in self.user_ratings_.values() for usr_ratings in artist.values()\n",
    "            ])\n",
    "            return global_mean\n",
    "\n",
    "        artist_idx = self.artist_to_idx[artist]\n",
    "        sim_scores = list(enumerate(self.artist_cosine_sim_[artist_idx]))\n",
    "        sim_scores = sorted(sim_scores, key=lambda x: x[1], reverse=True)\n",
    "        sim_scores = sim_scores[1:]\n",
    "\n",
    "        sims = []\n",
    "\n",
    "        for artist, score in sim_scores:\n",
    "            if self.idx_to_artist[artist] in self.user_ratings_[userID]:\n",
    "                sims.append((self.user_ratings_[userID][self.idx_to_artist[artist]], score))\n",
    "                if len(sims) >= self.k:\n",
    "                    break\n",
    "\n",
    "        user_mean = np.mean(list(self.user_ratings_[userID].values()))\n",
    "\n",
    "        pred = 0\n",
    "        sim_sum = 0\n",
    "\n",
    "        for rating, score in sims:\n",
    "            pred += score * (rating - user_mean)\n",
    "            sim_sum += score\n",
    "\n",
    "        if sim_sum == 0:\n",
    "            return user_mean\n",
    "\n",
    "        return user_mean + pred / sim_sum"
   ]
  },
  {
   "cell_type": "code",
   "execution_count": 96,
   "metadata": {},
   "outputs": [],
   "source": [
    "Model_2 = GenresBasedFilter(artists).fit(ratings_train)"
   ]
  },
  {
   "cell_type": "code",
   "execution_count": 97,
   "metadata": {},
   "outputs": [
    {
     "name": "stderr",
     "output_type": "stream",
     "text": [
      "<ipython-input-97-c293eea60b0a>:5: TqdmDeprecationWarning: This function will be removed in tqdm==5.0.0\n",
      "Please use `tqdm.notebook.tqdm` instead of `tqdm.tqdm_notebook`\n",
      "  for u, m, r in tqdm_notebook(ratings_train.build_testset()):\n"
     ]
    },
    {
     "data": {
      "application/vnd.jupyter.widget-view+json": {
       "model_id": "c2bf5d242a9445a8bf1c84c266cfe515",
       "version_major": 2,
       "version_minor": 0
      },
      "text/plain": [
       "HBox(children=(FloatProgress(value=0.0, max=51937.0), HTML(value='')))"
      ]
     },
     "metadata": {},
     "output_type": "display_data"
    },
    {
     "name": "stdout",
     "output_type": "stream",
     "text": [
      "\n"
     ]
    }
   ],
   "source": [
    "from tqdm import tqdm_notebook  # libreria para ver como va corriendo el modelo\n",
    "\n",
    "transformed_ratings_train = []\n",
    "\n",
    "for u, m, r in tqdm_notebook(ratings_train.build_testset()):\n",
    "    transformed_ratings_train.append({\n",
    "        \"userID\": u,\n",
    "        \"name\": m,\n",
    "        \"cb_rating\": Model_2.predict(u, m),\n",
    "        \"cf_rating\": algo.predict(u, m).est,\n",
    "        \"weight\": r\n",
    "    })\n",
    "\n",
    "transformed_ratings_train = pd.DataFrame(transformed_ratings_train)"
   ]
  },
  {
   "cell_type": "code",
   "execution_count": 98,
   "metadata": {},
   "outputs": [
    {
     "data": {
      "text/html": [
       "<div>\n",
       "<style scoped>\n",
       "    .dataframe tbody tr th:only-of-type {\n",
       "        vertical-align: middle;\n",
       "    }\n",
       "\n",
       "    .dataframe tbody tr th {\n",
       "        vertical-align: top;\n",
       "    }\n",
       "\n",
       "    .dataframe thead th {\n",
       "        text-align: right;\n",
       "    }\n",
       "</style>\n",
       "<table border=\"1\" class=\"dataframe\">\n",
       "  <thead>\n",
       "    <tr style=\"text-align: right;\">\n",
       "      <th></th>\n",
       "      <th>userID</th>\n",
       "      <th>name</th>\n",
       "      <th>cb_rating</th>\n",
       "      <th>cf_rating</th>\n",
       "      <th>weight</th>\n",
       "    </tr>\n",
       "  </thead>\n",
       "  <tbody>\n",
       "    <tr>\n",
       "      <th>0</th>\n",
       "      <td>1757</td>\n",
       "      <td>430</td>\n",
       "      <td>186.504688</td>\n",
       "      <td>125.550498</td>\n",
       "      <td>62.0</td>\n",
       "    </tr>\n",
       "    <tr>\n",
       "      <th>1</th>\n",
       "      <td>1757</td>\n",
       "      <td>1026</td>\n",
       "      <td>186.504688</td>\n",
       "      <td>116.197788</td>\n",
       "      <td>130.0</td>\n",
       "    </tr>\n",
       "    <tr>\n",
       "      <th>2</th>\n",
       "      <td>1757</td>\n",
       "      <td>306</td>\n",
       "      <td>186.504688</td>\n",
       "      <td>127.889199</td>\n",
       "      <td>97.0</td>\n",
       "    </tr>\n",
       "    <tr>\n",
       "      <th>3</th>\n",
       "      <td>1757</td>\n",
       "      <td>498</td>\n",
       "      <td>186.504688</td>\n",
       "      <td>159.092433</td>\n",
       "      <td>48.0</td>\n",
       "    </tr>\n",
       "    <tr>\n",
       "      <th>4</th>\n",
       "      <td>1757</td>\n",
       "      <td>292</td>\n",
       "      <td>186.504688</td>\n",
       "      <td>180.875885</td>\n",
       "      <td>191.0</td>\n",
       "    </tr>\n",
       "  </tbody>\n",
       "</table>\n",
       "</div>"
      ],
      "text/plain": [
       "   userID  name   cb_rating   cf_rating  weight\n",
       "0    1757   430  186.504688  125.550498    62.0\n",
       "1    1757  1026  186.504688  116.197788   130.0\n",
       "2    1757   306  186.504688  127.889199    97.0\n",
       "3    1757   498  186.504688  159.092433    48.0\n",
       "4    1757   292  186.504688  180.875885   191.0"
      ]
     },
     "execution_count": 98,
     "metadata": {},
     "output_type": "execute_result"
    }
   ],
   "source": [
    "transformed_ratings_train.head(5)"
   ]
  },
  {
   "cell_type": "code",
   "execution_count": 99,
   "metadata": {},
   "outputs": [],
   "source": [
    "#Funciones de Atributos\n",
    "\n",
    "from collections import defaultdict\n",
    "\n",
    "user_mean_rating = defaultdict(\n",
    "    lambda: transformed_ratings_train[\"weight\"].sum(),\n",
    "    transformed_ratings_train.groupby(\"userID\")[\"weight\"].sum().to_dict()\n",
    ")\n",
    "user_num_rating = defaultdict(\n",
    "    lambda: 0,\n",
    "    transformed_ratings_train.groupby(\"userID\").size().to_dict()\n",
    ")\n",
    "\n",
    "def feature_function_constant():\n",
    "    return 1\n",
    "\n",
    "def feature_function_mean(user_id): # Media de rating que devuelve el usuario\n",
    "    return user_mean_rating[user_id]\n",
    "\n",
    "def feature_function_over(user_id, min_ratings=2): # Si el usuario puntuo más de 2 ratings\n",
    "    return int(user_num_rating[user_id] >= min_ratings)"
   ]
  },
  {
   "cell_type": "code",
   "execution_count": 100,
   "metadata": {},
   "outputs": [],
   "source": [
    "for base_model in [\"cb\", \"cf\"]:\n",
    "    transformed_ratings_train[\"{}_rating_fc\".format(base_model)] =\\\n",
    "        transformed_ratings_train.apply(\n",
    "            lambda row: row[\"{}_rating\".format(base_model)] * feature_function_constant(),\n",
    "            axis=1\n",
    "        )\n",
    "    transformed_ratings_train[\"{}_rating_fm\".format(base_model)] =\\\n",
    "        transformed_ratings_train.apply(\n",
    "            lambda row: row[\"{}_rating\".format(base_model)] * feature_function_mean(row[\"userID\"]),\n",
    "            axis=1\n",
    "        )\n",
    "    transformed_ratings_train[\"{}_rating_fo\".format(base_model)] =\\\n",
    "        transformed_ratings_train.apply(\n",
    "            lambda row: row[\"{}_rating\".format(base_model)] * feature_function_over(row[\"userID\"]),\n",
    "            axis=1\n",
    "        )\n",
    " "
   ]
  },
  {
   "cell_type": "code",
   "execution_count": 101,
   "metadata": {},
   "outputs": [
    {
     "data": {
      "text/plain": [
       "LinearRegression()"
      ]
     },
     "execution_count": 101,
     "metadata": {},
     "output_type": "execute_result"
    }
   ],
   "source": [
    "from sklearn.linear_model import LinearRegression\n",
    "\n",
    "fwls_model = LinearRegression()\n",
    "\n",
    "feature_cols = [\"{}_rating_{}\".format(fm, ff) for fm in [\"cb\", \"cf\"] for ff in [\"fc\", \"fo\", \"fm\"]]\n",
    "\n",
    "fwls_model.fit(\n",
    "    transformed_ratings_train[feature_cols],\n",
    "    transformed_ratings_train[\"weight\"]\n",
    ")"
   ]
  },
  {
   "cell_type": "code",
   "execution_count": 102,
   "metadata": {},
   "outputs": [
    {
     "name": "stdout",
     "output_type": "stream",
     "text": [
      "RMSE for cf model: 90.199490\n",
      "RMSE for cb model: 138.317649\n"
     ]
    }
   ],
   "source": [
    "from sklearn.metrics import mean_squared_error\n",
    "\n",
    "for model in [\"cf\", \"cb\"]:\n",
    "    rmse = np.sqrt(\n",
    "        mean_squared_error(\n",
    "            transformed_ratings_train[\"weight\"],\n",
    "            transformed_ratings_train[\"{}_rating\".format(model)]\n",
    "        )\n",
    "    )\n",
    "    \n",
    "    print(\"RMSE for {} model: {:03f}\".format(model, rmse))"
   ]
  },
  {
   "cell_type": "code",
   "execution_count": null,
   "metadata": {},
   "outputs": [],
   "source": []
  },
  {
   "cell_type": "markdown",
   "metadata": {},
   "source": [
    "#### Evaluacion del Sistema"
   ]
  },
  {
   "cell_type": "code",
   "execution_count": 103,
   "metadata": {},
   "outputs": [
    {
     "name": "stderr",
     "output_type": "stream",
     "text": [
      "<ipython-input-103-6c4193b532dd>:4: TqdmDeprecationWarning: This function will be removed in tqdm==5.0.0\n",
      "Please use `tqdm.notebook.tqdm` instead of `tqdm.tqdm_notebook`\n",
      "  for u, m, r in tqdm_notebook(ratings_test):\n"
     ]
    },
    {
     "data": {
      "application/vnd.jupyter.widget-view+json": {
       "model_id": "ffa0c548b8c34b26be1fe7690372d917",
       "version_major": 2,
       "version_minor": 0
      },
      "text/plain": [
       "HBox(children=(FloatProgress(value=0.0, max=12985.0), HTML(value='')))"
      ]
     },
     "metadata": {},
     "output_type": "display_data"
    },
    {
     "name": "stdout",
     "output_type": "stream",
     "text": [
      "\n"
     ]
    }
   ],
   "source": [
    "#Pruebo el modelo en test\n",
    "transformed_ratings_test = []\n",
    "\n",
    "for u, m, r in tqdm_notebook(ratings_test):\n",
    "    transformed_ratings_test.append({\n",
    "        \"userID\": u,\n",
    "        \"name\": m,\n",
    "        \"cb_rating\": Model_2.predict(u, m),\n",
    "        \"cf_rating\": algo.predict(u, m).est,\n",
    "        \"weight\": r\n",
    "    })\n",
    "\n",
    "transformed_ratings_test = pd.DataFrame(transformed_ratings_test)"
   ]
  },
  {
   "cell_type": "code",
   "execution_count": 104,
   "metadata": {},
   "outputs": [],
   "source": [
    "for base_model in [\"cb\", \"cf\"]:\n",
    "    transformed_ratings_test[\"{}_rating_fc\".format(base_model)] =\\\n",
    "        transformed_ratings_test.apply(\n",
    "            lambda row: row[\"{}_rating\".format(base_model)] * feature_function_constant(),\n",
    "            axis=1\n",
    "        )\n",
    "    transformed_ratings_test[\"{}_rating_fm\".format(base_model)] =\\\n",
    "        transformed_ratings_test.apply(\n",
    "            lambda row: row[\"{}_rating\".format(base_model)] * feature_function_mean(row[\"userID\"]),\n",
    "            axis=1\n",
    "        )\n",
    "    transformed_ratings_test[\"{}_rating_fo\".format(base_model)] =\\\n",
    "        transformed_ratings_test.apply(\n",
    "            lambda row: row[\"{}_rating\".format(base_model)] * feature_function_over(row[\"userID\"]),\n",
    "            axis=1\n",
    "        )\n",
    "\n",
    "\n"
   ]
  },
  {
   "cell_type": "code",
   "execution_count": 105,
   "metadata": {},
   "outputs": [
    {
     "name": "stdout",
     "output_type": "stream",
     "text": [
      "RMSE for cf model: 90.344080\n",
      "RMSE for cb model: 139.074211\n"
     ]
    }
   ],
   "source": [
    "from sklearn.metrics import mean_squared_error\n",
    "\n",
    "for model in [\"cf\", \"cb\"]:\n",
    "    rmse = np.sqrt(\n",
    "        mean_squared_error(\n",
    "            transformed_ratings_test[\"weight\"],\n",
    "            transformed_ratings_test[\"{}_rating\".format(model)]\n",
    "        )\n",
    "    )\n",
    "    \n",
    "    print(\"RMSE for {} model: {:03f}\".format(model, rmse))"
   ]
  },
  {
   "cell_type": "markdown",
   "metadata": {},
   "source": [
    "Me quedo con el modelo cf"
   ]
  },
  {
   "cell_type": "code",
   "execution_count": 106,
   "metadata": {},
   "outputs": [
    {
     "data": {
      "text/html": [
       "<div>\n",
       "<style scoped>\n",
       "    .dataframe tbody tr th:only-of-type {\n",
       "        vertical-align: middle;\n",
       "    }\n",
       "\n",
       "    .dataframe tbody tr th {\n",
       "        vertical-align: top;\n",
       "    }\n",
       "\n",
       "    .dataframe thead th {\n",
       "        text-align: right;\n",
       "    }\n",
       "</style>\n",
       "<table border=\"1\" class=\"dataframe\">\n",
       "  <thead>\n",
       "    <tr style=\"text-align: right;\">\n",
       "      <th></th>\n",
       "      <th>userID</th>\n",
       "      <th>name</th>\n",
       "      <th>cb_rating</th>\n",
       "      <th>cf_rating</th>\n",
       "      <th>weight</th>\n",
       "      <th>cb_rating_fc</th>\n",
       "      <th>cb_rating_fm</th>\n",
       "      <th>cb_rating_fo</th>\n",
       "      <th>cf_rating_fc</th>\n",
       "      <th>cf_rating_fm</th>\n",
       "      <th>cf_rating_fo</th>\n",
       "    </tr>\n",
       "  </thead>\n",
       "  <tbody>\n",
       "    <tr>\n",
       "      <th>0</th>\n",
       "      <td>1292</td>\n",
       "      <td>681</td>\n",
       "      <td>186.504688</td>\n",
       "      <td>90.305392</td>\n",
       "      <td>96.0</td>\n",
       "      <td>186.504688</td>\n",
       "      <td>160580.536689</td>\n",
       "      <td>186.504688</td>\n",
       "      <td>90.305392</td>\n",
       "      <td>77752.942637</td>\n",
       "      <td>90.305392</td>\n",
       "    </tr>\n",
       "  </tbody>\n",
       "</table>\n",
       "</div>"
      ],
      "text/plain": [
       "   userID  name   cb_rating  cf_rating  weight  cb_rating_fc   cb_rating_fm  \\\n",
       "0    1292   681  186.504688  90.305392    96.0    186.504688  160580.536689   \n",
       "\n",
       "   cb_rating_fo  cf_rating_fc  cf_rating_fm  cf_rating_fo  \n",
       "0    186.504688     90.305392  77752.942637     90.305392  "
      ]
     },
     "execution_count": 106,
     "metadata": {},
     "output_type": "execute_result"
    }
   ],
   "source": [
    "transformed_ratings_test.head(1)"
   ]
  },
  {
   "cell_type": "code",
   "execution_count": 107,
   "metadata": {},
   "outputs": [],
   "source": [
    "# avg ratings and rating counts\n",
    "avg_rating = transformed_ratings_test.groupby(\"name\")[\"cf_rating\"].mean()\n",
    "num_ratings = transformed_ratings_test.groupby(\"name\")[\"cf_rating\"].count()\n",
    "# getting counts and average ratings\n",
    "cf_ratings_counts = pd.DataFrame({\"avg_rating\": avg_rating,\n",
    "                               \"num_of_ratings\": num_ratings})\n",
    "# joining the new values to movie data\n",
    "full_artist_data_cf = pd.merge(transformed_ratings_test, cf_ratings_counts, left_on=\"name\", right_index=True)"
   ]
  },
  {
   "cell_type": "code",
   "execution_count": 108,
   "metadata": {},
   "outputs": [],
   "source": [
    "full_artist_data_cf = full_artist_data_cf.rename(columns = {'name': 'artistID'}, inplace = False)"
   ]
  },
  {
   "cell_type": "code",
   "execution_count": 109,
   "metadata": {},
   "outputs": [],
   "source": [
    "transformed_ratings_test = transformed_ratings_test.rename(columns = {'name': 'artistID'}, inplace = False)"
   ]
  },
  {
   "cell_type": "code",
   "execution_count": 110,
   "metadata": {},
   "outputs": [],
   "source": [
    "artist_pivot_cf = transformed_ratings_test.pivot_table(index='userID', \n",
    "                            columns='artistID', values='cf_rating').fillna(0)"
   ]
  },
  {
   "cell_type": "code",
   "execution_count": 111,
   "metadata": {},
   "outputs": [
    {
     "data": {
      "text/html": [
       "<div>\n",
       "<style scoped>\n",
       "    .dataframe tbody tr th:only-of-type {\n",
       "        vertical-align: middle;\n",
       "    }\n",
       "\n",
       "    .dataframe tbody tr th {\n",
       "        vertical-align: top;\n",
       "    }\n",
       "\n",
       "    .dataframe thead th {\n",
       "        text-align: right;\n",
       "    }\n",
       "</style>\n",
       "<table border=\"1\" class=\"dataframe\">\n",
       "  <thead>\n",
       "    <tr style=\"text-align: right;\">\n",
       "      <th></th>\n",
       "      <th>userID</th>\n",
       "      <th>artistID</th>\n",
       "      <th>cb_rating</th>\n",
       "      <th>cf_rating</th>\n",
       "      <th>weight</th>\n",
       "      <th>cb_rating_fc</th>\n",
       "      <th>cb_rating_fm</th>\n",
       "      <th>cb_rating_fo</th>\n",
       "      <th>cf_rating_fc</th>\n",
       "      <th>cf_rating_fm</th>\n",
       "      <th>cf_rating_fo</th>\n",
       "      <th>avg_rating</th>\n",
       "      <th>num_of_ratings</th>\n",
       "    </tr>\n",
       "  </thead>\n",
       "  <tbody>\n",
       "    <tr>\n",
       "      <th>0</th>\n",
       "      <td>1292</td>\n",
       "      <td>681</td>\n",
       "      <td>186.504688</td>\n",
       "      <td>90.305392</td>\n",
       "      <td>96.0</td>\n",
       "      <td>186.504688</td>\n",
       "      <td>160580.536689</td>\n",
       "      <td>186.504688</td>\n",
       "      <td>90.305392</td>\n",
       "      <td>77752.942637</td>\n",
       "      <td>90.305392</td>\n",
       "      <td>181.693288</td>\n",
       "      <td>18</td>\n",
       "    </tr>\n",
       "  </tbody>\n",
       "</table>\n",
       "</div>"
      ],
      "text/plain": [
       "   userID  artistID   cb_rating  cf_rating  weight  cb_rating_fc  \\\n",
       "0    1292       681  186.504688  90.305392    96.0    186.504688   \n",
       "\n",
       "    cb_rating_fm  cb_rating_fo  cf_rating_fc  cf_rating_fm  cf_rating_fo  \\\n",
       "0  160580.536689    186.504688     90.305392  77752.942637     90.305392   \n",
       "\n",
       "   avg_rating  num_of_ratings  \n",
       "0  181.693288              18  "
      ]
     },
     "execution_count": 111,
     "metadata": {},
     "output_type": "execute_result"
    }
   ],
   "source": [
    "full_artist_data_cf.head(1)"
   ]
  },
  {
   "cell_type": "code",
   "execution_count": 112,
   "metadata": {},
   "outputs": [
    {
     "data": {
      "text/plain": [
       "(1713, 5402)"
      ]
     },
     "execution_count": 112,
     "metadata": {},
     "output_type": "execute_result"
    }
   ],
   "source": [
    "artist_pivot_cf.shape"
   ]
  },
  {
   "cell_type": "code",
   "execution_count": 114,
   "metadata": {},
   "outputs": [
    {
     "name": "stdout",
     "output_type": "stream",
     "text": [
      "Por que escuchaste Eminem:\n",
      "Akon\n",
      "Lil' Wayne\n",
      "Kanye West\n",
      "DMX\n",
      "Flo Rida\n",
      "Alexandra Stan\n",
      "Nelly\n",
      "Ice Cube\n",
      "\\Eminem f_ Rihanna\n"
     ]
    }
   ],
   "source": [
    "artist_id = 475 #eminem\n",
    "# crear funcion para pasar el dataset nuevo*\n",
    "similar_artist = find_similar_artist(artist_id, X_norm, artist_mapper, artist_inv_mapper, metric='euclidean', k=10)\n",
    "artist_title = artist_titles[artist_id]\n",
    "\n",
    "print(f\"Por que escuchaste {artist_title}:\")\n",
    "for i in similar_artist:\n",
    "    print(artist_titles[i])"
   ]
  }
 ],
 "metadata": {
  "kernelspec": {
   "display_name": "Python 3",
   "language": "python",
   "name": "python3"
  },
  "language_info": {
   "codemirror_mode": {
    "name": "ipython",
    "version": 3
   },
   "file_extension": ".py",
   "mimetype": "text/x-python",
   "name": "python",
   "nbconvert_exporter": "python",
   "pygments_lexer": "ipython3",
   "version": "3.8.3"
  },
  "rise": {
   "scroll": true
  },
  "toc": {
   "base_numbering": 1,
   "nav_menu": {},
   "number_sections": true,
   "sideBar": true,
   "skip_h1_title": false,
   "title_cell": "Table of Contents",
   "title_sidebar": "Contents",
   "toc_cell": true,
   "toc_position": {
    "height": "calc(100% - 180px)",
    "left": "10px",
    "top": "150px",
    "width": "303.535px"
   },
   "toc_section_display": true,
   "toc_window_display": true
  },
  "varInspector": {
   "cols": {
    "lenName": 16,
    "lenType": 16,
    "lenVar": 40
   },
   "kernels_config": {
    "python": {
     "delete_cmd_postfix": "",
     "delete_cmd_prefix": "del ",
     "library": "var_list.py",
     "varRefreshCmd": "print(var_dic_list())"
    },
    "r": {
     "delete_cmd_postfix": ") ",
     "delete_cmd_prefix": "rm(",
     "library": "var_list.r",
     "varRefreshCmd": "cat(var_dic_list()) "
    }
   },
   "types_to_exclude": [
    "module",
    "function",
    "builtin_function_or_method",
    "instance",
    "_Feature"
   ],
   "window_display": false
  }
 },
 "nbformat": 4,
 "nbformat_minor": 2
}
