{
 "cells": [
  {
   "cell_type": "markdown",
   "metadata": {
    "toc": true
   },
   "source": [
    "<h1>Table of Contents<span class=\"tocSkip\"></span></h1>\n",
    "<div class=\"toc\"><ul class=\"toc-item\"><li><span><a href=\"#Sistemas-de-Recomendación---Clase-II\" data-toc-modified-id=\"Sistemas-de-Recomendación---Clase-II-1\"><span class=\"toc-item-num\">1&nbsp;&nbsp;</span>Sistemas de Recomendación - Clase II</a></span></li><li><span><a href=\"#Contenido\" data-toc-modified-id=\"Contenido-2\"><span class=\"toc-item-num\">2&nbsp;&nbsp;</span>Contenido</a></span></li><li><span><a href=\"#Ratings\" data-toc-modified-id=\"Ratings-3\"><span class=\"toc-item-num\">3&nbsp;&nbsp;</span>Ratings</a></span><ul class=\"toc-item\"><li><span><a href=\"#¿Qué-es-un-rating?\" data-toc-modified-id=\"¿Qué-es-un-rating?-3.1\"><span class=\"toc-item-num\">3.1&nbsp;&nbsp;</span>¿Qué es un rating?</a></span></li><li><span><a href=\"#Matriz-de-Usuario-Contenido\" data-toc-modified-id=\"Matriz-de-Usuario-Contenido-3.2\"><span class=\"toc-item-num\">3.2&nbsp;&nbsp;</span>Matriz de Usuario-Contenido</a></span></li><li><span><a href=\"#Matriz-de-Usuario-Contenido:-Ejemplo\" data-toc-modified-id=\"Matriz-de-Usuario-Contenido:-Ejemplo-3.3\"><span class=\"toc-item-num\">3.3&nbsp;&nbsp;</span>Matriz de Usuario-Contenido: Ejemplo</a></span></li><li><span><a href=\"#Matriz-de-Usuario-Contenido:-Problemas-de-Dispersión\" data-toc-modified-id=\"Matriz-de-Usuario-Contenido:-Problemas-de-Dispersión-3.4\"><span class=\"toc-item-num\">3.4&nbsp;&nbsp;</span>Matriz de Usuario-Contenido: Problemas de Dispersión</a></span></li><li><span><a href=\"#Ratings-explícitos-vs.-ratings-implícitos.\" data-toc-modified-id=\"Ratings-explícitos-vs.-ratings-implícitos.-3.5\"><span class=\"toc-item-num\">3.5&nbsp;&nbsp;</span>Ratings explícitos vs. ratings implícitos.</a></span></li><li><span><a href=\"#Ratings-explícitos\" data-toc-modified-id=\"Ratings-explícitos-3.6\"><span class=\"toc-item-num\">3.6&nbsp;&nbsp;</span>Ratings explícitos</a></span></li><li><span><a href=\"#Ratings-implícitos\" data-toc-modified-id=\"Ratings-implícitos-3.7\"><span class=\"toc-item-num\">3.7&nbsp;&nbsp;</span>Ratings implícitos</a></span></li><li><span><a href=\"#Cálculo-de-ratings-implícitos\" data-toc-modified-id=\"Cálculo-de-ratings-implícitos-3.8\"><span class=\"toc-item-num\">3.8&nbsp;&nbsp;</span>Cálculo de ratings implícitos</a></span></li><li><span><a href=\"#Cálculo-de-ratings-implícitos:-fórmula\" data-toc-modified-id=\"Cálculo-de-ratings-implícitos:-fórmula-3.9\"><span class=\"toc-item-num\">3.9&nbsp;&nbsp;</span>Cálculo de ratings implícitos: fórmula</a></span></li><li><span><a href=\"#Items-poco-frecuentes\" data-toc-modified-id=\"Items-poco-frecuentes-3.10\"><span class=\"toc-item-num\">3.10&nbsp;&nbsp;</span>Items poco frecuentes</a></span></li></ul></li><li><span><a href=\"#Similitud-entre-usuarios-y-contenido\" data-toc-modified-id=\"Similitud-entre-usuarios-y-contenido-4\"><span class=\"toc-item-num\">4&nbsp;&nbsp;</span>Similitud entre usuarios y contenido</a></span><ul class=\"toc-item\"><li><span><a href=\"#Métricas-de-similitud\" data-toc-modified-id=\"Métricas-de-similitud-4.1\"><span class=\"toc-item-num\">4.1&nbsp;&nbsp;</span>Métricas de similitud</a></span></li><li><span><a href=\"#Similitud-de-Jaccard\" data-toc-modified-id=\"Similitud-de-Jaccard-4.2\"><span class=\"toc-item-num\">4.2&nbsp;&nbsp;</span>Similitud de Jaccard</a></span></li><li><span><a href=\"#Distancia-Manhattan\" data-toc-modified-id=\"Distancia-Manhattan-4.3\"><span class=\"toc-item-num\">4.3&nbsp;&nbsp;</span>Distancia Manhattan</a></span></li><li><span><a href=\"#Distancia-Euclídea\" data-toc-modified-id=\"Distancia-Euclídea-4.4\"><span class=\"toc-item-num\">4.4&nbsp;&nbsp;</span>Distancia Euclídea</a></span></li><li><span><a href=\"#Similitud-Coseno\" data-toc-modified-id=\"Similitud-Coseno-4.5\"><span class=\"toc-item-num\">4.5&nbsp;&nbsp;</span>Similitud Coseno</a></span></li><li><span><a href=\"#Coeficiente-de-correlación-de-Pearson\" data-toc-modified-id=\"Coeficiente-de-correlación-de-Pearson-4.6\"><span class=\"toc-item-num\">4.6&nbsp;&nbsp;</span>Coeficiente de correlación de Pearson</a></span></li><li><span><a href=\"#Clustering\" data-toc-modified-id=\"Clustering-4.7\"><span class=\"toc-item-num\">4.7&nbsp;&nbsp;</span>Clustering</a></span></li></ul></li><li><span><a href=\"#Algoritmos-de-recomendación\" data-toc-modified-id=\"Algoritmos-de-recomendación-5\"><span class=\"toc-item-num\">5&nbsp;&nbsp;</span>Algoritmos de recomendación</a></span><ul class=\"toc-item\"><li><span><a href=\"#Filtrado-colaborativo\" data-toc-modified-id=\"Filtrado-colaborativo-5.1\"><span class=\"toc-item-num\">5.1&nbsp;&nbsp;</span>Filtrado colaborativo</a></span><ul class=\"toc-item\"><li><span><a href=\"#Filtrado-basado-en-usuarios-vs-items\" data-toc-modified-id=\"Filtrado-basado-en-usuarios-vs-items-5.1.1\"><span class=\"toc-item-num\">5.1.1&nbsp;&nbsp;</span>Filtrado basado en usuarios vs items</a></span></li><li><span><a href=\"#Pipeline-de-filtrado-colaborativo\" data-toc-modified-id=\"Pipeline-de-filtrado-colaborativo-5.1.2\"><span class=\"toc-item-num\">5.1.2&nbsp;&nbsp;</span>Pipeline de filtrado colaborativo</a></span></li><li><span><a href=\"#Vecindario-para-calcular-predicción\" data-toc-modified-id=\"Vecindario-para-calcular-predicción-5.1.3\"><span class=\"toc-item-num\">5.1.3&nbsp;&nbsp;</span>Vecindario para calcular predicción</a></span></li><li><span><a href=\"#Cálculo-de-la-predicción\" data-toc-modified-id=\"Cálculo-de-la-predicción-5.1.4\"><span class=\"toc-item-num\">5.1.4&nbsp;&nbsp;</span>Cálculo de la predicción</a></span></li><li><span><a href=\"#Surpr!se\" data-toc-modified-id=\"Surpr!se-5.1.5\"><span class=\"toc-item-num\">5.1.5&nbsp;&nbsp;</span>Surpr!se</a></span></li><li><span><a href=\"#Surpr!se:-Cross-Validation\" data-toc-modified-id=\"Surpr!se:-Cross-Validation-5.1.6\"><span class=\"toc-item-num\">5.1.6&nbsp;&nbsp;</span>Surpr!se: Cross Validation</a></span></li></ul></li><li><span><a href=\"#Filtrado-basado-en-contenido\" data-toc-modified-id=\"Filtrado-basado-en-contenido-5.2\"><span class=\"toc-item-num\">5.2&nbsp;&nbsp;</span>Filtrado basado en contenido</a></span><ul class=\"toc-item\"><li><span><a href=\"#Analizador-de-contenido\" data-toc-modified-id=\"Analizador-de-contenido-5.2.1\"><span class=\"toc-item-num\">5.2.1&nbsp;&nbsp;</span>Analizador de contenido</a></span></li><li><span><a href=\"#Vector-del-contenido\" data-toc-modified-id=\"Vector-del-contenido-5.2.2\"><span class=\"toc-item-num\">5.2.2&nbsp;&nbsp;</span>Vector del contenido</a></span></li><li><span><a href=\"#Vector-del-contenido:-uso-del-texto\" data-toc-modified-id=\"Vector-del-contenido:-uso-del-texto-5.2.3\"><span class=\"toc-item-num\">5.2.3&nbsp;&nbsp;</span>Vector del contenido: uso del texto</a></span></li><li><span><a href=\"#Vector-del-contenido:-TF-IDF\" data-toc-modified-id=\"Vector-del-contenido:-TF-IDF-5.2.4\"><span class=\"toc-item-num\">5.2.4&nbsp;&nbsp;</span>Vector del contenido: TF-IDF</a></span></li><li><span><a href=\"#Otras-técnicas:-LDA,-LSA,-word2vec\" data-toc-modified-id=\"Otras-técnicas:-LDA,-LSA,-word2vec-5.2.5\"><span class=\"toc-item-num\">5.2.5&nbsp;&nbsp;</span>Otras técnicas: LDA, LSA, word2vec</a></span></li><li><span><a href=\"#Matriz-de-contenido:-Ejemplo\" data-toc-modified-id=\"Matriz-de-contenido:-Ejemplo-5.2.6\"><span class=\"toc-item-num\">5.2.6&nbsp;&nbsp;</span>Matriz de contenido: Ejemplo</a></span></li><li><span><a href=\"#Crear-el-perfil-de-usuario\" data-toc-modified-id=\"Crear-el-perfil-de-usuario-5.2.7\"><span class=\"toc-item-num\">5.2.7&nbsp;&nbsp;</span>Crear el perfil de usuario</a></span></li><li><span><a href=\"#Perfil-de-usuario:-Ejemplo\" data-toc-modified-id=\"Perfil-de-usuario:-Ejemplo-5.2.8\"><span class=\"toc-item-num\">5.2.8&nbsp;&nbsp;</span>Perfil de usuario: Ejemplo</a></span></li><li><span><a href=\"#Ejemplo:-Géneros-de-películas\" data-toc-modified-id=\"Ejemplo:-Géneros-de-películas-5.2.9\"><span class=\"toc-item-num\">5.2.9&nbsp;&nbsp;</span>Ejemplo: Géneros de películas</a></span></li><li><span><a href=\"#Ejemplo:-Géneros-de-películas---Vector-de-contenido\" data-toc-modified-id=\"Ejemplo:-Géneros-de-películas---Vector-de-contenido-5.2.10\"><span class=\"toc-item-num\">5.2.10&nbsp;&nbsp;</span>Ejemplo: Géneros de películas - Vector de contenido</a></span></li><li><span><a href=\"#Ejemplo:-Géneros-de-película---Similitud-entre-géneros\" data-toc-modified-id=\"Ejemplo:-Géneros-de-película---Similitud-entre-géneros-5.2.11\"><span class=\"toc-item-num\">5.2.11&nbsp;&nbsp;</span>Ejemplo: Géneros de película - Similitud entre géneros</a></span></li><li><span><a href=\"#Ejemplo:-Géneros-de-película---Sistema-de-recomendación\" data-toc-modified-id=\"Ejemplo:-Géneros-de-película---Sistema-de-recomendación-5.2.12\"><span class=\"toc-item-num\">5.2.12&nbsp;&nbsp;</span>Ejemplo: Géneros de película - Sistema de recomendación</a></span></li></ul></li><li><span><a href=\"#Factorización-de-matrices\" data-toc-modified-id=\"Factorización-de-matrices-5.3\"><span class=\"toc-item-num\">5.3&nbsp;&nbsp;</span>Factorización de matrices</a></span><ul class=\"toc-item\"><li><span><a href=\"#Algoritmo-de-SVD\" data-toc-modified-id=\"Algoritmo-de-SVD-5.3.1\"><span class=\"toc-item-num\">5.3.1&nbsp;&nbsp;</span>Algoritmo de SVD</a></span></li><li><span><a href=\"#Algoritmo-de-SVD\" data-toc-modified-id=\"Algoritmo-de-SVD-5.3.2\"><span class=\"toc-item-num\">5.3.2&nbsp;&nbsp;</span>Algoritmo de SVD</a></span></li><li><span><a href=\"#Algoritmo-de-SVD\" data-toc-modified-id=\"Algoritmo-de-SVD-5.3.3\"><span class=\"toc-item-num\">5.3.3&nbsp;&nbsp;</span>Algoritmo de SVD</a></span></li><li><span><a href=\"#Ejemplo:-Películas\" data-toc-modified-id=\"Ejemplo:-Películas-5.3.4\"><span class=\"toc-item-num\">5.3.4&nbsp;&nbsp;</span>Ejemplo: Películas</a></span></li><li><span><a href=\"#Ejemplo:-Películas\" data-toc-modified-id=\"Ejemplo:-Películas-5.3.5\"><span class=\"toc-item-num\">5.3.5&nbsp;&nbsp;</span>Ejemplo: Películas</a></span></li><li><span><a href=\"#Ejemplo:-Películas\" data-toc-modified-id=\"Ejemplo:-Películas-5.3.6\"><span class=\"toc-item-num\">5.3.6&nbsp;&nbsp;</span>Ejemplo: Películas</a></span></li><li><span><a href=\"#Algoritmo-de-Simon-Funk\" data-toc-modified-id=\"Algoritmo-de-Simon-Funk-5.3.7\"><span class=\"toc-item-num\">5.3.7&nbsp;&nbsp;</span>Algoritmo de Simon Funk</a></span></li><li><span><a href=\"#Algoritmo-de-Simon-Funk:-Hipótesis\" data-toc-modified-id=\"Algoritmo-de-Simon-Funk:-Hipótesis-5.3.8\"><span class=\"toc-item-num\">5.3.8&nbsp;&nbsp;</span>Algoritmo de Simon Funk: Hipótesis</a></span></li><li><span><a href=\"#Algoritmo-de-Simon-Funk:-Función-de-costo\" data-toc-modified-id=\"Algoritmo-de-Simon-Funk:-Función-de-costo-5.3.9\"><span class=\"toc-item-num\">5.3.9&nbsp;&nbsp;</span>Algoritmo de Simon Funk: Función de costo</a></span></li><li><span><a href=\"#Surpr!se\" data-toc-modified-id=\"Surpr!se-5.3.10\"><span class=\"toc-item-num\">5.3.10&nbsp;&nbsp;</span>Surpr!se</a></span></li><li><span><a href=\"#Otros-algoritmos-de-factorización\" data-toc-modified-id=\"Otros-algoritmos-de-factorización-5.3.11\"><span class=\"toc-item-num\">5.3.11&nbsp;&nbsp;</span>Otros algoritmos de factorización</a></span></li></ul></li></ul></li><li><span><a href=\"#Problemas-con-sistemas-de-recomendación\" data-toc-modified-id=\"Problemas-con-sistemas-de-recomendación-6\"><span class=\"toc-item-num\">6&nbsp;&nbsp;</span>Problemas con sistemas de recomendación</a></span><ul class=\"toc-item\"><li><span><a href=\"#Problema-de-&quot;Cold-Start&quot;\" data-toc-modified-id=\"Problema-de-&quot;Cold-Start&quot;-6.1\"><span class=\"toc-item-num\">6.1&nbsp;&nbsp;</span>Problema de \"Cold Start\"</a></span><ul class=\"toc-item\"><li><span><a href=\"#Problema-de-&quot;Cold-Start&quot;:-Algunas-soluciones\" data-toc-modified-id=\"Problema-de-&quot;Cold-Start&quot;:-Algunas-soluciones-6.1.1\"><span class=\"toc-item-num\">6.1.1&nbsp;&nbsp;</span>Problema de \"Cold Start\": Algunas soluciones</a></span></li><li><span><a href=\"#Problema-de-&quot;Cold-Start&quot;:-Sesionización\" data-toc-modified-id=\"Problema-de-&quot;Cold-Start&quot;:-Sesionización-6.1.2\"><span class=\"toc-item-num\">6.1.2&nbsp;&nbsp;</span>Problema de \"Cold Start\": Sesionización</a></span></li></ul></li><li><span><a href=\"#Problema-de-Sesgo\" data-toc-modified-id=\"Problema-de-Sesgo-6.2\"><span class=\"toc-item-num\">6.2&nbsp;&nbsp;</span>Problema de Sesgo</a></span></li></ul></li></ul></div>"
   ]
  },
  {
   "cell_type": "markdown",
   "metadata": {
    "slideshow": {
     "slide_type": "slide"
    }
   },
   "source": [
    "<h1 style=\"font-size:2.5em;text-align:center;\">Sistemas de Recomendación - Clase II</h1>"
   ]
  },
  {
   "cell_type": "markdown",
   "metadata": {
    "slideshow": {
     "slide_type": "slide"
    }
   },
   "source": [
    "# Contenido\n",
    "\n",
    "1. [Ratings](#Ratings)\n",
    "1. [Similitud entre usuarios y contenido](#Similitud-entre-usuarios-y-contenido)\n",
    "1. [Algoritmos de recomendación](#Algoritmos-de-recomendación)\n",
    "1. [Problemas con sistemas de recomendación](#Problemas-con-sistemas-de-recomendación)"
   ]
  },
  {
   "cell_type": "markdown",
   "metadata": {
    "slideshow": {
     "slide_type": "slide"
    }
   },
   "source": [
    "# Ratings"
   ]
  },
  {
   "cell_type": "markdown",
   "metadata": {
    "slideshow": {
     "slide_type": "subslide"
    }
   },
   "source": [
    "## ¿Qué es un rating?\n",
    "\n",
    "- Es una herramienta que establece el sentimiento de un **usuario** sobre el **contenido** que está consumiendo.\n",
    "- Se representa internamente como **un número en una escala** (e.g. de 0 a 5). \n",
    "    - Se busca que ese número pueda ser traducido a una representación gráfica para el usuario.\n",
    "- Pueden ser **explícitos** (dados directamente por el usuario) o **implícitos** (dados por las interacciones que realiza el usuario en una página).\n",
    "- Ejemplos: estrellas de Amazon, reputación de un vendedor en Mercado Libre, la cantidad de veces que uno reproduce una película en Netflix o una canción en Spotify."
   ]
  },
  {
   "cell_type": "markdown",
   "metadata": {
    "slideshow": {
     "slide_type": "subslide"
    }
   },
   "source": [
    "## Matriz de Usuario-Contenido\n",
    "\n",
    "- Es una matriz (tabla) con **una fila por cada usuario** y **una columna por cada item** de contenido (o visceversa).\n",
    "- El **contenido** de la matriz es el **rating** (explícito o implícito) que le asigna un usuario a cierto item de contenido.\n",
    "    - Desafío en el diseño de un sistema de recomendación: ¿Qué tipo de información utilizar para rellenar el contenido de la matriz?.\n",
    "- Es el punto de entrada para entrenar la mayoría de los algoritmos de recomendación.\n",
    "- El objetivo de los algoritmos de recomendación es **llenar huecos** en la matriz de usuario-contenido."
   ]
  },
  {
   "cell_type": "markdown",
   "metadata": {
    "slideshow": {
     "slide_type": "subslide"
    }
   },
   "source": [
    "## Matriz de Usuario-Contenido: Ejemplo\n",
    "\n",
    "<img alt=\"User Item Matrix\" src=\"./img/user-item-matrix.png\" style=\"width:80%;margin:auto;\"/>"
   ]
  },
  {
   "cell_type": "markdown",
   "metadata": {
    "slideshow": {
     "slide_type": "subslide"
    }
   },
   "source": [
    "## Matriz de Usuario-Contenido: Problemas de Dispersión\n",
    "\n",
    "- Las matrices de usuario-contenido tienden a ser **altamente dispersas**.\n",
    "- Las plataformas suelen tener **muchos usuarios e items**. \n",
    "    - Es raro encontrar a usuarios que interactúen con todos los items.\n",
    "- Deben poblarse con ratings (implícitos o explícitos), en caso contrario no brindan suficiente información a los algoritmos de recomendación."
   ]
  },
  {
   "cell_type": "markdown",
   "metadata": {
    "slideshow": {
     "slide_type": "subslide"
    }
   },
   "source": [
    "## Ratings explícitos vs. ratings implícitos.\n",
    "\n",
    "- Los datos para generar una matriz de usuario-contenido se obtienen de las **interacciones que el usuario hace con el sitio**.\n",
    "- Los **ratings explícitos** se consiguen a través de un **sistema específicamente diseñado**.\n",
    "    - El usuario nos provee su apreciación de un item.\n",
    "- Los **ratings implícitos** se consiguen a través de datos recolectados a partir del **comportamiento del usuario**.\n",
    "    - Se tiene que registrar lo que hace el usuario dentro del sitio. Desde compras hasta historial de revisión.\n",
    "- Sitios distintos tienen **distintas formas de capturar la información**. \n",
    "- No todas las aplicaciones se benefician de sistemas explícitos."
   ]
  },
  {
   "cell_type": "markdown",
   "metadata": {
    "slideshow": {
     "slide_type": "subslide"
    }
   },
   "source": [
    "## Ratings explícitos\n",
    "\n",
    "- Son la **forma más directa** de llenar la matriz de usuario-contenido.\n",
    "- Dependen de la **voluntad del usuario**.\n",
    "- ¿Qué tan **seguro está el usuario** de lo que le gusta?\n",
    "    - ¿Qué cosa en particular no le gusta? E.g. canción vs. género musical, artículo vs. tema de una noticia.\n",
    "- ¿Son confiables los sistemas de reputación?\n",
    "\n",
    "<img alt=\"User Item Matrix\" src=\"./img/yelp-hotel-review.jpg\" style=\"margin:auto;\"/>"
   ]
  },
  {
   "cell_type": "markdown",
   "metadata": {
    "slideshow": {
     "slide_type": "subslide"
    }
   },
   "source": [
    "## Ratings implícitos\n",
    "\n",
    "- Se basan en el **monitoreo** de lo que hace el usuario.\n",
    "    - Dar un bajo rating a una película, pero reveerla una y otra vez.\n",
    "- Se busca encontrar un **número que defina la conformidad** de un usuario con un item.\n",
    "    - Cantidad de reproducciones de una canción, historial de navegación, compras, etc.\n",
    "- **No todo** lo que hace un usuario **es sinónimo de conformidad**. \n",
    "    - Traducir comportamiento en ratings es una tarea subjetiva, depende mucho del contexto.\n",
    "- El **tiempo es relevante**.\n",
    "    - No es lo mismo recomendar un bar de cerveza a las 9 a.m. que a las 9 p.m.\n",
    "    - Comprar algo que recién sale al mercado es más valioso que comprar algo más viejo."
   ]
  },
  {
   "cell_type": "markdown",
   "metadata": {
    "slideshow": {
     "slide_type": "subslide"
    }
   },
   "source": [
    "## Cálculo de ratings implícitos\n",
    "\n",
    "- Registramos las **acciones del usuario**.\n",
    "- Distintos **eventos** dan distintos **valores**.\n",
    "    - Buscar item.\n",
    "    - Entrar en los detalles de un item (o items de categoría similar).\n",
    "    - Averiguar medios de pago/envío.\n",
    "    - Preguntar.\n",
    "    - Comprar.\n",
    "- Buscamos llegar al rating máximo (e.g. comprar). \n",
    "    - Puede ser un valor continúo (e.g. porcentaje de una canción/video que el usuario reproduce)"
   ]
  },
  {
   "cell_type": "markdown",
   "metadata": {
    "slideshow": {
     "slide_type": "subslide"
    }
   },
   "source": [
    "## Cálculo de ratings implícitos: fórmula\n",
    "\n",
    "$$\n",
    "    IR_{i,u} = w_1 \\times \\#event_1 + w_2 \\times \\#event_2 + \\dots + w_n \\times \\#event_n\n",
    "$$\n",
    "\n",
    "- $IR_{i,u}$: Rating implícito entre usuario *u* e item *i*.\n",
    "- $\\#event_i$: Número de veces que un evento ocurre.\n",
    "    - Pueden estar **acotados por un valor máximo**.\n",
    "    - Se pueden **pesar por el tiempo** desde que ocurrió el evento.\n",
    "- $w_1, \\dots, w_n$: Pesos que se les da a los distintos eventos (basados en análisis).\n",
    "    - Estos pueden **calcularse mediante análisis o como parámetros de un clasificador** binario que busca encontrar la probabilidad de comprar un item."
   ]
  },
  {
   "cell_type": "markdown",
   "metadata": {
    "slideshow": {
     "slide_type": "subslide"
    }
   },
   "source": [
    "## Items poco frecuentes\n",
    "\n",
    "- Muchas veces los **eventos raros** nos dicen más sobre el usuario que cualquier otro evento.\n",
    "    - No es lo mismo comprar un DVD del \"Señor de los Anillos\" que comprar una edición de coleccionista con un poster.\n",
    "- Los eventos raros hacen **subgrupos de usuarios** más específicos.\n",
    "- Podemos **reponderar el rating** de un item (implícito o explícito) mediante esta información.\n",
    "\n",
    "$$\n",
    "    R^{(final)}_{i,u} = R_{i,u} \\times \\log\\Big(\\frac{N}{1+n}\\Big)\n",
    "$$\n",
    "\n",
    "- $R_{i,u}$: Rating calculado originalmente (explícito o implícito)\n",
    "- $N$: Número total de usuarios.\n",
    "- $n$: Número de usuarios que compraron el item *i*.\n",
    "- $R^{(final)}_{i,u}$: Rating reponderado."
   ]
  },
  {
   "cell_type": "markdown",
   "metadata": {
    "slideshow": {
     "slide_type": "slide"
    }
   },
   "source": [
    "# Similitud entre usuarios y contenido"
   ]
  },
  {
   "cell_type": "markdown",
   "metadata": {
    "slideshow": {
     "slide_type": "subslide"
    }
   },
   "source": [
    "## Métricas de similitud\n",
    "\n",
    "- Buscamos ver que tan **cercanos están dos elementos**.\n",
    "- Se busca **recomendar contenido entre usuarios similares**.\n",
    "- Una **función (o métrica) de similitud** busca comparar dos elementos.\n",
    "    - $\\text{sim}(i_1, i_2) = 1$ implica igualdad.\n",
    "    - $\\text{sim}(i_1, i_2) = 0$ implica dos elementos completamente opuestos.\n",
    "- Las métricas de similitud **dependen del conjunto de datos**. Algunas funcionan mejor que otras."
   ]
  },
  {
   "cell_type": "markdown",
   "metadata": {
    "slideshow": {
     "slide_type": "subslide"
    }
   },
   "source": [
    "## Similitud de Jaccard\n",
    "\n",
    "- Se define **entre dos conjuntos**.\n",
    "- Suelen ser mejor aplicadas sobre datos binarios (e.g. un usuario compró o no un item).\n",
    "- Evalúa **cantidad de interacciones** en común vs. independientes.\n",
    "- La distancia entre dos elementos $i$ y $j$, se define formalmente como:\n",
    "\n",
    "$$\n",
    "    \\text{Jaccard}(i, j) = \\frac{|\\{u:~u~\\text{compró}~i \\land j\\}|}{|\\{u:~u~\\text{compró}~i \\lor j\\}|}\n",
    "$$\n",
    "\n",
    "- El término \"compró\" puede cambiarse por cualquier interacción que se busque modelar."
   ]
  },
  {
   "cell_type": "markdown",
   "metadata": {
    "slideshow": {
     "slide_type": "subslide"
    }
   },
   "source": [
    "## Distancia Manhattan\n",
    "\n",
    "- Se define entre **valores cuantitativos**.\n",
    "- Conocida también como norma $L_1$.\n",
    "- La distancia Manhattan se piensa como la **cantidad de cuadras que hay que hacer para llegar de un punto al otro** en Manhattan.\n",
    "- Se define formalmente entre dos elementos $i$ y $j$ como:\n",
    "\n",
    "$$\n",
    "    \\text{Manhattan}(i, j) = \\sum_{u=1}^{n}|r_{i,u} - r_{j,u}|\n",
    "$$"
   ]
  },
  {
   "cell_type": "markdown",
   "metadata": {
    "slideshow": {
     "slide_type": "subslide"
    }
   },
   "source": [
    "## Distancia Euclídea\n",
    "\n",
    "- Se define entre **valores cuantitativos**.\n",
    "- Conocida también como norma $L_2$.\n",
    "- Es la **distancia recta más corta entre dos puntos**. Proviene del teorema de Pitágoras.\n",
    "- Se define formalmente entre dos elementos $i$ y $j$ como:\n",
    "\n",
    "$$\n",
    "    \\text{Euclidean}(i, j) = \\sqrt{\\sum_{u=1}^{n}(r_{i,u} - r_{j,u})^2}\n",
    "$$"
   ]
  },
  {
   "cell_type": "markdown",
   "metadata": {
    "slideshow": {
     "slide_type": "subslide"
    }
   },
   "source": [
    "## Similitud Coseno\n",
    "\n",
    "- Se define entre **valores cuantitativos**.\n",
    "- Mide el **ángulo entre vectores** que representen nuestros datos.\n",
    "- Se define formalmente entre dos elementos $i$ y $j$ como:\n",
    "\n",
    "$$\n",
    "    \\text{Cosine}(i, j) = \\frac{\\sum_{u=1}^{n}r_{i,u}r_{j,u}}{\\sqrt{\\sum_{u=1}^{n}r_{i,u}^2}\\sqrt{\\sum_{u=1}^{n}r_{j,u}^2}}\n",
    "$$\n",
    "\n",
    "- En general **se normaliza utilizando promedios** (parecido a lo que se hace con el coeficiente de Pearson).\n",
    "    - La idea es eliminar el sesgo de los usuarios."
   ]
  },
  {
   "cell_type": "markdown",
   "metadata": {
    "slideshow": {
     "slide_type": "subslide"
    }
   },
   "source": [
    "## Coeficiente de correlación de Pearson\n",
    "\n",
    "- Mide que tan **correlacionadas están las puntuaciones** entre dos elementos (pueden ser usuarios o items).\n",
    "- Compara los **elementos contra el promedio** y evalúa que tan diferentes son.\n",
    "- Se define formalmente entre dos elementos $i$ y $j$ como:\n",
    "\n",
    "$$\n",
    "    \\text{Pearson}(i, j) = \\frac{\\sum_{u=1}^{n}(r_{i,u}-\\bar{r_i})(r_{j,u}-\\bar{r_j})}{\\sqrt{\\sum_{u=1}^{n}(r_{i,u}-\\bar{r_{i}})^2}\\sqrt{\\sum_{u=1}^{n}(r_{j,u}-\\bar{r_{j}})^2}}\n",
    "$$"
   ]
  },
  {
   "cell_type": "markdown",
   "metadata": {
    "slideshow": {
     "slide_type": "subslide"
    }
   },
   "source": [
    "## Clustering\n",
    "\n",
    "- Definidas las métricas de similitud (o distancia) podemos hacer uso de **algoritmos de clustering**.\n",
    "- La idea es **buscar usuarios o items cercanos y agruparlos**.\n",
    "- Técnicas clásicas de clustering sirven: K-Means, Jerárquico, Expectation-Maximization."
   ]
  },
  {
   "cell_type": "markdown",
   "metadata": {
    "slideshow": {
     "slide_type": "slide"
    }
   },
   "source": [
    "# Algoritmos de recomendación"
   ]
  },
  {
   "cell_type": "markdown",
   "metadata": {
    "slideshow": {
     "slide_type": "subslide"
    }
   },
   "source": [
    "## Filtrado colaborativo\n",
    "\n",
    "- Es uno de los modelos de recomendación más básicos pero **muy robusto**.\n",
    "- Se basa en la idea **asociar usuarios similares de acuerdo a sus gustos**, expresados en los ratings.\n",
    "- Puede aplicarse sobre **usuarios** (user-based collaborative filtering).\n",
    "    - Dados dos usuarios similares $u$ y $v$, recomendamos el item $i$ al usuario $u$ que adquirió el usuario $v$ y todavía no fue consumido por $u$.\n",
    "- Puede aplicarse sobre **items** (item-based collaborative filtering).\n",
    "    - Dados dos items similares $i$ y $j$ y un usuario $u$ que adquirió $i$, le recomendamos $j$."
   ]
  },
  {
   "cell_type": "markdown",
   "metadata": {
    "slideshow": {
     "slide_type": "subslide"
    }
   },
   "source": [
    "### Filtrado basado en usuarios vs items\n",
    "\n",
    "- Los items se consideran **más estables**.\n",
    "- Un sistema puede tener **pocas interacciones para cada usuario**.\n",
    "- **Depende de la cantidad** de usuarios o items en el sistema y **su variabilidad**.\n",
    "- Los items proveen menos posibilidad de variación. Se **estancan rápido**.\n",
    "- Los **usuarios evolucionan**, las **recomendaciones pueden ser más dinámicas**."
   ]
  },
  {
   "cell_type": "markdown",
   "metadata": {
    "slideshow": {
     "slide_type": "subslide"
    }
   },
   "source": [
    "### Pipeline de filtrado colaborativo\n",
    "\n",
    "- Partimos de la **matriz de usuario-contenido**.\n",
    "- Calculamos la **similitud entre los elementos**.\n",
    "- Ordenamos los **elementos que más se parecen** al elemento actual.\n",
    "- Elegimos un **vecindario sobre el cuál calcular** la predicción.\n",
    "- Utilizamos los **ratings del usuario y su vecindario** para calcular el rating actual."
   ]
  },
  {
   "cell_type": "markdown",
   "metadata": {
    "slideshow": {
     "slide_type": "subslide"
    }
   },
   "source": [
    "### Vecindario para calcular predicción\n",
    "\n",
    "- A la hora de calcular un rating es necesario elegir aquellos **elementos que sean los más similares**.\n",
    "- La opción de **clustering** nos da un vecindario en el cluster de un elemento.\n",
    "- Los **K** vecinos más cercanos da un número fijo de vecinos.\n",
    "    - Siempre nos brinda valores con los que calcular.\n",
    "- Un **umbral** en los ratings más cercanos dá un número variable de vecinos.\n",
    "    - Puede dejar el algoritmo sin datos para calcular la predicción.\n",
    "- El **análisis de datos y la tolerancia** sobre las predicciones nos dan idea de qué método utilizar."
   ]
  },
  {
   "cell_type": "markdown",
   "metadata": {
    "slideshow": {
     "slide_type": "subslide"
    }
   },
   "source": [
    "### Cálculo de la predicción\n",
    "\n",
    "- A partir de los datos de ratings de un usuarios, las similitudes, y el vecindario, **completamos las matriz de usuario-contenido** con el cálculo de nuevos ratings:\n",
    "\n",
    "$$\n",
    "    r^{(p)}_{i,u} = \\bar{r_u} + \\frac{\\sum_{j \\in N}\\text{sim}(i,j)(r_{u,j}-\\bar{r_j})}{\\sum_{j \\in N}\\text{sim}(i,j)}\n",
    "$$\n",
    "\n",
    "- $r^{(p)}_{i,u}$: Es el valor predicho para el rating del item $i$ por el usuario $u$.\n",
    "- $\\bar{r_u}$: Es la media de ratings dada por el usuario $u$ a todos los items que puntuó.\n",
    "- $j \\in N$: Son todos los items $j$ del vecindario $N$.\n",
    "- $\\bar{r_j}$: Es el rating medio del item $j$ (es opcional).\n",
    "- $\\text{sim}(i,j)$: Es la métrica de similitud entre los items $i$ y $j$."
   ]
  },
  {
   "cell_type": "markdown",
   "metadata": {
    "slideshow": {
     "slide_type": "subslide"
    }
   },
   "source": [
    "### Surpr!se"
   ]
  },
  {
   "cell_type": "code",
   "execution_count": 13,
   "metadata": {
    "slideshow": {
     "slide_type": "-"
    }
   },
   "outputs": [],
   "source": [
    "import pandas as pd\n",
    "\n",
    "from surprise import Dataset, Reader, KNNWithMeans\n",
    "from surprise.accuracy import rmse\n",
    "from surprise.model_selection import cross_validate, train_test_split"
   ]
  },
  {
   "cell_type": "code",
   "execution_count": 2,
   "metadata": {},
   "outputs": [
    {
     "data": {
      "text/plain": [
       "'C:\\\\Users\\\\CristianSalgado\\\\OneDrive - Pi Data Strategy & Consulting\\\\Desafio Pi\\\\SISTEMAS DE RECOMENDACION\\\\SistemasDeRecomendacion\\\\teorico'"
      ]
     },
     "execution_count": 2,
     "metadata": {},
     "output_type": "execute_result"
    }
   ],
   "source": [
    "import os \n",
    "os.getcwd()"
   ]
  },
  {
   "cell_type": "code",
   "execution_count": 14,
   "metadata": {
    "slideshow": {
     "slide_type": "-"
    }
   },
   "outputs": [],
   "source": [
    "ratings = pd.read_csv(r\"C:\\Users\\CristianSalgado\\OneDrive - Pi Data Strategy & Consulting\\Desafio Pi\\SISTEMAS DE RECOMENDACION\\SistemasDeRecomendacion\\teorico\\data\\ml-latest-small\\ml-latest-small/ratings.csv\")\n",
    "\n"
   ]
  },
  {
   "cell_type": "code",
   "execution_count": 4,
   "metadata": {},
   "outputs": [
    {
     "data": {
      "text/html": [
       "<div>\n",
       "<style scoped>\n",
       "    .dataframe tbody tr th:only-of-type {\n",
       "        vertical-align: middle;\n",
       "    }\n",
       "\n",
       "    .dataframe tbody tr th {\n",
       "        vertical-align: top;\n",
       "    }\n",
       "\n",
       "    .dataframe thead th {\n",
       "        text-align: right;\n",
       "    }\n",
       "</style>\n",
       "<table border=\"1\" class=\"dataframe\">\n",
       "  <thead>\n",
       "    <tr style=\"text-align: right;\">\n",
       "      <th></th>\n",
       "      <th>userId</th>\n",
       "      <th>movieId</th>\n",
       "      <th>rating</th>\n",
       "      <th>timestamp</th>\n",
       "    </tr>\n",
       "  </thead>\n",
       "  <tbody>\n",
       "    <tr>\n",
       "      <th>0</th>\n",
       "      <td>1</td>\n",
       "      <td>1</td>\n",
       "      <td>4.0</td>\n",
       "      <td>964982703</td>\n",
       "    </tr>\n",
       "    <tr>\n",
       "      <th>1</th>\n",
       "      <td>1</td>\n",
       "      <td>3</td>\n",
       "      <td>4.0</td>\n",
       "      <td>964981247</td>\n",
       "    </tr>\n",
       "    <tr>\n",
       "      <th>2</th>\n",
       "      <td>1</td>\n",
       "      <td>6</td>\n",
       "      <td>4.0</td>\n",
       "      <td>964982224</td>\n",
       "    </tr>\n",
       "    <tr>\n",
       "      <th>3</th>\n",
       "      <td>1</td>\n",
       "      <td>47</td>\n",
       "      <td>5.0</td>\n",
       "      <td>964983815</td>\n",
       "    </tr>\n",
       "    <tr>\n",
       "      <th>4</th>\n",
       "      <td>1</td>\n",
       "      <td>50</td>\n",
       "      <td>5.0</td>\n",
       "      <td>964982931</td>\n",
       "    </tr>\n",
       "  </tbody>\n",
       "</table>\n",
       "</div>"
      ],
      "text/plain": [
       "   userId  movieId  rating  timestamp\n",
       "0       1        1     4.0  964982703\n",
       "1       1        3     4.0  964981247\n",
       "2       1        6     4.0  964982224\n",
       "3       1       47     5.0  964983815\n",
       "4       1       50     5.0  964982931"
      ]
     },
     "execution_count": 4,
     "metadata": {},
     "output_type": "execute_result"
    }
   ],
   "source": [
    "ratings.head(5)"
   ]
  },
  {
   "cell_type": "code",
   "execution_count": 15,
   "metadata": {},
   "outputs": [],
   "source": [
    "reader = Reader(rating_scale=(ratings.rating.min(), ratings.rating.max()))\n",
    "\n",
    "ratings = Dataset.load_from_df(ratings[[\"userId\", \"movieId\", \"rating\"]], reader)"
   ]
  },
  {
   "cell_type": "code",
   "execution_count": 16,
   "metadata": {
    "slideshow": {
     "slide_type": "-"
    }
   },
   "outputs": [
    {
     "name": "stdout",
     "output_type": "stream",
     "text": [
      "Computing the msd similarity matrix...\n",
      "Done computing similarity matrix.\n",
      "RMSE on test: 0.9313\n"
     ]
    }
   ],
   "source": [
    "ratings_train, ratings_test = train_test_split(ratings, test_size=0.2)\n",
    "model = KNNWithMeans(k=5).fit(ratings_train)\n",
    "predictions = model.test(ratings_test)\n",
    "print(\"RMSE on test: {:.4f}\".format(rmse(predictions, verbose=False)))"
   ]
  },
  {
   "cell_type": "code",
   "execution_count": null,
   "metadata": {},
   "outputs": [],
   "source": []
  },
  {
   "cell_type": "markdown",
   "metadata": {
    "slideshow": {
     "slide_type": "subslide"
    }
   },
   "source": [
    "### Surpr!se: Cross Validation"
   ]
  },
  {
   "cell_type": "code",
   "execution_count": 17,
   "metadata": {
    "slideshow": {
     "slide_type": "-"
    }
   },
   "outputs": [
    {
     "name": "stdout",
     "output_type": "stream",
     "text": [
      "Evaluating RMSE, MAE of algorithm KNNWithMeans on 5 split(s).\n",
      "\n",
      "                  Fold 1  Fold 2  Fold 3  Fold 4  Fold 5  Mean    Std     \n",
      "RMSE (testset)    0.9313  0.9296  0.9272  0.9295  0.9269  0.9289  0.0016  \n",
      "MAE (testset)     0.7156  0.7143  0.7152  0.7168  0.7148  0.7153  0.0008  \n",
      "Fit time          0.48    0.52    0.51    0.51    0.53    0.51    0.02    \n",
      "Test time         2.66    2.71    2.66    2.50    2.61    2.63    0.07    \n"
     ]
    }
   ],
   "source": [
    "model = KNNWithMeans(k=5, verbose=False)\n",
    "cross_validated_metrics = cross_validate(model, ratings, measures=['RMSE', 'MAE'], cv=5, verbose=True)"
   ]
  },
  {
   "cell_type": "code",
   "execution_count": 11,
   "metadata": {},
   "outputs": [
    {
     "data": {
      "text/plain": [
       "[116, 208, 247, 273, 391, 437]"
      ]
     },
     "execution_count": 11,
     "metadata": {},
     "output_type": "execute_result"
    }
   ],
   "source": [
    "model.get_neighbors(2,6)"
   ]
  },
  {
   "cell_type": "markdown",
   "metadata": {
    "slideshow": {
     "slide_type": "subslide"
    }
   },
   "source": [
    "## Filtrado basado en contenido\n",
    "\n",
    "- En lugar de utilizar los ratings, utilizamos la **información del contenido**.\n",
    "    - Metadatos como tema, descripción, género, etc.\n",
    "- Dependen mucho del **tipo de los datos**.\n",
    "    - Las películas tienen directores y actores. Podemos recomendar películas similares en base a actores que tengan en común.\n",
    "- Requiere de tres aspectos:\n",
    "    1. Analizador de contenido: Crea un modelo basado en la información de los items.\n",
    "    2. Perfil del usuario: Genera un perfil del usuario en base al contenido consumido. E.g. una lista de películas vistas.\n",
    "    3. Recuperación de contenido: Recomienda contenido basado en la similitud del perfil del usuario con el perfil de los items. E.g. iterando y comparando uno a uno los elementos de la lista."
   ]
  },
  {
   "cell_type": "markdown",
   "metadata": {
    "slideshow": {
     "slide_type": "subslide"
    }
   },
   "source": [
    "### Analizador de contenido\n",
    "\n",
    "- Se busca **describir los datos mediante sus metadatos**.\n",
    "- Puede dividirse entre **hechos** y **etiquetas** (tags).\n",
    "- Los **hechos** son indiscutibles, tienen que ver con los datos en sí. E.g. director o actor de una película.\n",
    "- Las **etiquetas** generalmente se piensan en cómo los usuarios **categorizan los items**. E.g. una lista de Spotify para **levantar el ánimo**.\n",
    "- **No hay división clara**. Pero los hechos tienden a ser menos subjetivos. Las etiquetas dependen más del usuario."
   ]
  },
  {
   "cell_type": "markdown",
   "metadata": {
    "slideshow": {
     "slide_type": "subslide"
    }
   },
   "source": [
    "### Vector del contenido\n",
    "\n",
    "- El analizador de contenido busca **representar items mediante vectores**.\n",
    "    - En filtrado colaborativo el **vector está dado por ratings**.\n",
    "    - Acá el vector es **producido mediante características**.\n",
    "- Se lo puede pensar como una **ingeniería de atributos** de aprendizaje automático.\n",
    "    - Los atributos pueden ser binarios, categóricos, cuantitativos, etc."
   ]
  },
  {
   "cell_type": "markdown",
   "metadata": {
    "slideshow": {
     "slide_type": "subslide"
    }
   },
   "source": [
    "### Vector del contenido: uso del texto\n",
    "\n",
    "- Muchas veces los **metadatos están en el texto** (e.g. título o descripción).\n",
    "- Las **técnicas clásicas de NLP** sirven para lidiar con esto.\n",
    "- Buscamos representar una descripción mediante una **bolsa de palabras**.\n",
    "    - Requerimos de un paso previo de **tokenización**.\n",
    "    - Generamos un **vector donde cada dimensión representa una palabra y el valor representa el conteo**.\n",
    "    - Es útil eliminar las **palabras vacías**."
   ]
  },
  {
   "cell_type": "markdown",
   "metadata": {
    "slideshow": {
     "slide_type": "subslide"
    }
   },
   "source": [
    "### Vector del contenido: TF-IDF\n",
    "\n",
    "- Podemos utilizar **TF-IDF** para reponderar de acuerdo a la **importancia de los términos**.\n",
    "- La idea es **pesar una palabra en un metadato** de acuerdo a que tanto ocurre en todos los metadatos.\n",
    "\n",
    "$$\n",
    "    \\text{tf-idf}(w, d) = f_{w,d} \\times \\text{idf}(w)\n",
    "$$\n",
    "\n",
    "$$\n",
    "    \\text{idf}(w) = \\frac{|D|}{|\\{d \\in D : w \\in d\\}|}\n",
    "$$\n",
    "\n",
    "- $w$: Es una palabra.\n",
    "- $d$: Es un documento.\n",
    "- $f_{w,d}$: Es la cantidad de veces que $w$ ocurre en $d$.\n",
    "- $D$: Es el conjunto de todos los documentos."
   ]
  },
  {
   "cell_type": "markdown",
   "metadata": {
    "slideshow": {
     "slide_type": "subslide"
    }
   },
   "source": [
    "### Otras técnicas: LDA, LSA, word2vec\n",
    "\n",
    "- Otras formas de representar datos es mediante otras técnicas de NLP.\n",
    "- LDA permite **representar los documentos mediante temas**. Los temas son representados mediante **palabras**.\n",
    "- LSA (o LSI) obtiene **variables latentes entre documentos**. Busca encontrar relaciones que no están a simple vista.\n",
    "- word2vec es un **algoritmo para representar palabras** basado en información de co-ocurrencia."
   ]
  },
  {
   "cell_type": "markdown",
   "metadata": {
    "slideshow": {
     "slide_type": "subslide"
    }
   },
   "source": [
    "### Matriz de contenido: Ejemplo\n",
    "\n",
    "<img alt=\"Content Matrix\" src=\"./img/movies-matrix.png\" style=\"width:80%;margin:auto;\"/>"
   ]
  },
  {
   "cell_type": "markdown",
   "metadata": {
    "slideshow": {
     "slide_type": "subslide"
    }
   },
   "source": [
    "### Crear el perfil de usuario\n",
    "\n",
    "- Ya habiendo creado el vector de contenido necesitamos crear **el perfil de usuario**.\n",
    "- Se puede hacer **sumando los vectores de contenido con los que el usuario interactuó**.\n",
    "    - Es sensato **normalizar este vectors**.\n",
    "- El vector final **sirve para encontrar contenido similar para el usuario**."
   ]
  },
  {
   "cell_type": "markdown",
   "metadata": {
    "slideshow": {
     "slide_type": "subslide"
    }
   },
   "source": [
    "### Perfil de usuario: Ejemplo\n",
    "\n",
    "- Suponiendo que el usuario haya puesto 5 estrellas para \"Raiders of the Lost Ark\" y 3 para \"La La Land\".\n",
    "\n",
    "<img alt=\"User Profile\" src=\"./img/user-content.png\" style=\"width:80%;margin:auto;\"/>"
   ]
  },
  {
   "cell_type": "markdown",
   "metadata": {
    "slideshow": {
     "slide_type": "subslide"
    }
   },
   "source": [
    "### Ejemplo: Géneros de películas "
   ]
  },
  {
   "cell_type": "code",
   "execution_count": 12,
   "metadata": {
    "slideshow": {
     "slide_type": "-"
    }
   },
   "outputs": [
    {
     "ename": "FileNotFoundError",
     "evalue": "[Errno 2] File ../data/ml-latest-small/movies.csv does not exist: '../data/ml-latest-small/movies.csv'",
     "output_type": "error",
     "traceback": [
      "\u001b[1;31m---------------------------------------------------------------------------\u001b[0m",
      "\u001b[1;31mFileNotFoundError\u001b[0m                         Traceback (most recent call last)",
      "\u001b[1;32m<ipython-input-12-39d040f8c66e>\u001b[0m in \u001b[0;36m<module>\u001b[1;34m\u001b[0m\n\u001b[1;32m----> 1\u001b[1;33m \u001b[0mmovies\u001b[0m \u001b[1;33m=\u001b[0m \u001b[0mpd\u001b[0m\u001b[1;33m.\u001b[0m\u001b[0mread_csv\u001b[0m\u001b[1;33m(\u001b[0m\u001b[1;34m\"../data/ml-latest-small/movies.csv\"\u001b[0m\u001b[1;33m)\u001b[0m\u001b[1;33m\u001b[0m\u001b[1;33m\u001b[0m\u001b[0m\n\u001b[0m\u001b[0;32m      2\u001b[0m \u001b[0mmovies\u001b[0m\u001b[1;33m[\u001b[0m\u001b[1;34m'genres'\u001b[0m\u001b[1;33m]\u001b[0m \u001b[1;33m=\u001b[0m \u001b[0mmovies\u001b[0m\u001b[1;33m[\u001b[0m\u001b[1;34m'genres'\u001b[0m\u001b[1;33m]\u001b[0m\u001b[1;33m.\u001b[0m\u001b[0mapply\u001b[0m\u001b[1;33m(\u001b[0m\u001b[1;32mlambda\u001b[0m \u001b[0mx\u001b[0m\u001b[1;33m:\u001b[0m \u001b[0mx\u001b[0m\u001b[1;33m.\u001b[0m\u001b[0msplit\u001b[0m\u001b[1;33m(\u001b[0m\u001b[1;34m\"|\"\u001b[0m\u001b[1;33m)\u001b[0m\u001b[1;33m)\u001b[0m\u001b[1;33m\u001b[0m\u001b[1;33m\u001b[0m\u001b[0m\n\u001b[0;32m      3\u001b[0m \u001b[0mmovies\u001b[0m\u001b[1;33m.\u001b[0m\u001b[0mhead\u001b[0m\u001b[1;33m(\u001b[0m\u001b[1;33m)\u001b[0m\u001b[1;33m\u001b[0m\u001b[1;33m\u001b[0m\u001b[0m\n",
      "\u001b[1;32m~\\anaconda3\\lib\\site-packages\\pandas\\io\\parsers.py\u001b[0m in \u001b[0;36mparser_f\u001b[1;34m(filepath_or_buffer, sep, delimiter, header, names, index_col, usecols, squeeze, prefix, mangle_dupe_cols, dtype, engine, converters, true_values, false_values, skipinitialspace, skiprows, skipfooter, nrows, na_values, keep_default_na, na_filter, verbose, skip_blank_lines, parse_dates, infer_datetime_format, keep_date_col, date_parser, dayfirst, cache_dates, iterator, chunksize, compression, thousands, decimal, lineterminator, quotechar, quoting, doublequote, escapechar, comment, encoding, dialect, error_bad_lines, warn_bad_lines, delim_whitespace, low_memory, memory_map, float_precision)\u001b[0m\n\u001b[0;32m    674\u001b[0m         )\n\u001b[0;32m    675\u001b[0m \u001b[1;33m\u001b[0m\u001b[0m\n\u001b[1;32m--> 676\u001b[1;33m         \u001b[1;32mreturn\u001b[0m \u001b[0m_read\u001b[0m\u001b[1;33m(\u001b[0m\u001b[0mfilepath_or_buffer\u001b[0m\u001b[1;33m,\u001b[0m \u001b[0mkwds\u001b[0m\u001b[1;33m)\u001b[0m\u001b[1;33m\u001b[0m\u001b[1;33m\u001b[0m\u001b[0m\n\u001b[0m\u001b[0;32m    677\u001b[0m \u001b[1;33m\u001b[0m\u001b[0m\n\u001b[0;32m    678\u001b[0m     \u001b[0mparser_f\u001b[0m\u001b[1;33m.\u001b[0m\u001b[0m__name__\u001b[0m \u001b[1;33m=\u001b[0m \u001b[0mname\u001b[0m\u001b[1;33m\u001b[0m\u001b[1;33m\u001b[0m\u001b[0m\n",
      "\u001b[1;32m~\\anaconda3\\lib\\site-packages\\pandas\\io\\parsers.py\u001b[0m in \u001b[0;36m_read\u001b[1;34m(filepath_or_buffer, kwds)\u001b[0m\n\u001b[0;32m    446\u001b[0m \u001b[1;33m\u001b[0m\u001b[0m\n\u001b[0;32m    447\u001b[0m     \u001b[1;31m# Create the parser.\u001b[0m\u001b[1;33m\u001b[0m\u001b[1;33m\u001b[0m\u001b[1;33m\u001b[0m\u001b[0m\n\u001b[1;32m--> 448\u001b[1;33m     \u001b[0mparser\u001b[0m \u001b[1;33m=\u001b[0m \u001b[0mTextFileReader\u001b[0m\u001b[1;33m(\u001b[0m\u001b[0mfp_or_buf\u001b[0m\u001b[1;33m,\u001b[0m \u001b[1;33m**\u001b[0m\u001b[0mkwds\u001b[0m\u001b[1;33m)\u001b[0m\u001b[1;33m\u001b[0m\u001b[1;33m\u001b[0m\u001b[0m\n\u001b[0m\u001b[0;32m    449\u001b[0m \u001b[1;33m\u001b[0m\u001b[0m\n\u001b[0;32m    450\u001b[0m     \u001b[1;32mif\u001b[0m \u001b[0mchunksize\u001b[0m \u001b[1;32mor\u001b[0m \u001b[0miterator\u001b[0m\u001b[1;33m:\u001b[0m\u001b[1;33m\u001b[0m\u001b[1;33m\u001b[0m\u001b[0m\n",
      "\u001b[1;32m~\\anaconda3\\lib\\site-packages\\pandas\\io\\parsers.py\u001b[0m in \u001b[0;36m__init__\u001b[1;34m(self, f, engine, **kwds)\u001b[0m\n\u001b[0;32m    878\u001b[0m             \u001b[0mself\u001b[0m\u001b[1;33m.\u001b[0m\u001b[0moptions\u001b[0m\u001b[1;33m[\u001b[0m\u001b[1;34m\"has_index_names\"\u001b[0m\u001b[1;33m]\u001b[0m \u001b[1;33m=\u001b[0m \u001b[0mkwds\u001b[0m\u001b[1;33m[\u001b[0m\u001b[1;34m\"has_index_names\"\u001b[0m\u001b[1;33m]\u001b[0m\u001b[1;33m\u001b[0m\u001b[1;33m\u001b[0m\u001b[0m\n\u001b[0;32m    879\u001b[0m \u001b[1;33m\u001b[0m\u001b[0m\n\u001b[1;32m--> 880\u001b[1;33m         \u001b[0mself\u001b[0m\u001b[1;33m.\u001b[0m\u001b[0m_make_engine\u001b[0m\u001b[1;33m(\u001b[0m\u001b[0mself\u001b[0m\u001b[1;33m.\u001b[0m\u001b[0mengine\u001b[0m\u001b[1;33m)\u001b[0m\u001b[1;33m\u001b[0m\u001b[1;33m\u001b[0m\u001b[0m\n\u001b[0m\u001b[0;32m    881\u001b[0m \u001b[1;33m\u001b[0m\u001b[0m\n\u001b[0;32m    882\u001b[0m     \u001b[1;32mdef\u001b[0m \u001b[0mclose\u001b[0m\u001b[1;33m(\u001b[0m\u001b[0mself\u001b[0m\u001b[1;33m)\u001b[0m\u001b[1;33m:\u001b[0m\u001b[1;33m\u001b[0m\u001b[1;33m\u001b[0m\u001b[0m\n",
      "\u001b[1;32m~\\anaconda3\\lib\\site-packages\\pandas\\io\\parsers.py\u001b[0m in \u001b[0;36m_make_engine\u001b[1;34m(self, engine)\u001b[0m\n\u001b[0;32m   1112\u001b[0m     \u001b[1;32mdef\u001b[0m \u001b[0m_make_engine\u001b[0m\u001b[1;33m(\u001b[0m\u001b[0mself\u001b[0m\u001b[1;33m,\u001b[0m \u001b[0mengine\u001b[0m\u001b[1;33m=\u001b[0m\u001b[1;34m\"c\"\u001b[0m\u001b[1;33m)\u001b[0m\u001b[1;33m:\u001b[0m\u001b[1;33m\u001b[0m\u001b[1;33m\u001b[0m\u001b[0m\n\u001b[0;32m   1113\u001b[0m         \u001b[1;32mif\u001b[0m \u001b[0mengine\u001b[0m \u001b[1;33m==\u001b[0m \u001b[1;34m\"c\"\u001b[0m\u001b[1;33m:\u001b[0m\u001b[1;33m\u001b[0m\u001b[1;33m\u001b[0m\u001b[0m\n\u001b[1;32m-> 1114\u001b[1;33m             \u001b[0mself\u001b[0m\u001b[1;33m.\u001b[0m\u001b[0m_engine\u001b[0m \u001b[1;33m=\u001b[0m \u001b[0mCParserWrapper\u001b[0m\u001b[1;33m(\u001b[0m\u001b[0mself\u001b[0m\u001b[1;33m.\u001b[0m\u001b[0mf\u001b[0m\u001b[1;33m,\u001b[0m \u001b[1;33m**\u001b[0m\u001b[0mself\u001b[0m\u001b[1;33m.\u001b[0m\u001b[0moptions\u001b[0m\u001b[1;33m)\u001b[0m\u001b[1;33m\u001b[0m\u001b[1;33m\u001b[0m\u001b[0m\n\u001b[0m\u001b[0;32m   1115\u001b[0m         \u001b[1;32melse\u001b[0m\u001b[1;33m:\u001b[0m\u001b[1;33m\u001b[0m\u001b[1;33m\u001b[0m\u001b[0m\n\u001b[0;32m   1116\u001b[0m             \u001b[1;32mif\u001b[0m \u001b[0mengine\u001b[0m \u001b[1;33m==\u001b[0m \u001b[1;34m\"python\"\u001b[0m\u001b[1;33m:\u001b[0m\u001b[1;33m\u001b[0m\u001b[1;33m\u001b[0m\u001b[0m\n",
      "\u001b[1;32m~\\anaconda3\\lib\\site-packages\\pandas\\io\\parsers.py\u001b[0m in \u001b[0;36m__init__\u001b[1;34m(self, src, **kwds)\u001b[0m\n\u001b[0;32m   1889\u001b[0m         \u001b[0mkwds\u001b[0m\u001b[1;33m[\u001b[0m\u001b[1;34m\"usecols\"\u001b[0m\u001b[1;33m]\u001b[0m \u001b[1;33m=\u001b[0m \u001b[0mself\u001b[0m\u001b[1;33m.\u001b[0m\u001b[0musecols\u001b[0m\u001b[1;33m\u001b[0m\u001b[1;33m\u001b[0m\u001b[0m\n\u001b[0;32m   1890\u001b[0m \u001b[1;33m\u001b[0m\u001b[0m\n\u001b[1;32m-> 1891\u001b[1;33m         \u001b[0mself\u001b[0m\u001b[1;33m.\u001b[0m\u001b[0m_reader\u001b[0m \u001b[1;33m=\u001b[0m \u001b[0mparsers\u001b[0m\u001b[1;33m.\u001b[0m\u001b[0mTextReader\u001b[0m\u001b[1;33m(\u001b[0m\u001b[0msrc\u001b[0m\u001b[1;33m,\u001b[0m \u001b[1;33m**\u001b[0m\u001b[0mkwds\u001b[0m\u001b[1;33m)\u001b[0m\u001b[1;33m\u001b[0m\u001b[1;33m\u001b[0m\u001b[0m\n\u001b[0m\u001b[0;32m   1892\u001b[0m         \u001b[0mself\u001b[0m\u001b[1;33m.\u001b[0m\u001b[0munnamed_cols\u001b[0m \u001b[1;33m=\u001b[0m \u001b[0mself\u001b[0m\u001b[1;33m.\u001b[0m\u001b[0m_reader\u001b[0m\u001b[1;33m.\u001b[0m\u001b[0munnamed_cols\u001b[0m\u001b[1;33m\u001b[0m\u001b[1;33m\u001b[0m\u001b[0m\n\u001b[0;32m   1893\u001b[0m \u001b[1;33m\u001b[0m\u001b[0m\n",
      "\u001b[1;32mpandas\\_libs\\parsers.pyx\u001b[0m in \u001b[0;36mpandas._libs.parsers.TextReader.__cinit__\u001b[1;34m()\u001b[0m\n",
      "\u001b[1;32mpandas\\_libs\\parsers.pyx\u001b[0m in \u001b[0;36mpandas._libs.parsers.TextReader._setup_parser_source\u001b[1;34m()\u001b[0m\n",
      "\u001b[1;31mFileNotFoundError\u001b[0m: [Errno 2] File ../data/ml-latest-small/movies.csv does not exist: '../data/ml-latest-small/movies.csv'"
     ]
    }
   ],
   "source": [
    "movies = pd.read_csv(\"../data/ml-latest-small/movies.csv\")\n",
    "movies['genres'] = movies['genres'].apply(lambda x: x.split(\"|\"))\n",
    "movies.head()"
   ]
  },
  {
   "cell_type": "markdown",
   "metadata": {
    "slideshow": {
     "slide_type": "subslide"
    }
   },
   "source": [
    "### Ejemplo: Géneros de películas - Vector de contenido"
   ]
  },
  {
   "cell_type": "code",
   "execution_count": null,
   "metadata": {
    "slideshow": {
     "slide_type": "-"
    }
   },
   "outputs": [],
   "source": [
    "genres = set(g for G in movies['genres'] for g in G)\n",
    "\n",
    "for g in genres:\n",
    "    movies[g] = movies.genres.transform(lambda x: int(g in x))\n",
    "    \n",
    "movie_genres = movies.drop(columns=['movieId', 'title','genres'])\n",
    "movie_genres.head()"
   ]
  },
  {
   "cell_type": "markdown",
   "metadata": {
    "slideshow": {
     "slide_type": "subslide"
    }
   },
   "source": [
    "### Ejemplo: Géneros de película - Similitud entre géneros"
   ]
  },
  {
   "cell_type": "code",
   "execution_count": null,
   "metadata": {
    "slideshow": {
     "slide_type": "-"
    }
   },
   "outputs": [],
   "source": [
    "from sklearn.metrics.pairwise import cosine_similarity\n",
    "\n",
    "cosine_sim = cosine_similarity(movie_genres, movie_genres)"
   ]
  },
  {
   "cell_type": "markdown",
   "metadata": {
    "slideshow": {
     "slide_type": "subslide"
    }
   },
   "source": [
    "### Ejemplo: Géneros de película - Sistema de recomendación"
   ]
  },
  {
   "cell_type": "code",
   "execution_count": null,
   "metadata": {
    "slideshow": {
     "slide_type": "-"
    }
   },
   "outputs": [],
   "source": [
    "def movie_finder(title):\n",
    "    return movies[movies['title'].str.contains(title)]['title'].tolist()\n",
    "\n",
    "movie_idx = dict(zip(movies['title'], list(movies.index)))\n",
    "title = movie_finder('Toy Story')[0]\n",
    "n_recommendations = 5\n",
    "\n",
    "idx = movie_idx[title]\n",
    "sim_scores = list(enumerate(cosine_sim[idx]))\n",
    "sim_scores = sorted(sim_scores, key=lambda x: x[1], reverse=True)\n",
    "sim_scores = sim_scores[1:(n_recommendations+1)]\n",
    "similar_movies = [i[0] for i in sim_scores]\n",
    "\n",
    "print(\"Recomendaciones para {}:\".format(title))\n",
    "for movie in movies['title'].iloc[similar_movies]:\n",
    "    print(\"\\t{}\".format(movie))"
   ]
  },
  {
   "cell_type": "markdown",
   "metadata": {
    "slideshow": {
     "slide_type": "subslide"
    }
   },
   "source": [
    "## Factorización de matrices\n",
    "\n",
    "- Se busca **reducir dimensiones** de manera que se elimine el ruido.\n",
    "- Las dimensiones más importantes, que quedan cuando se reducen las demás, se llaman **factores latentes**.\n",
    "    - La idea es representar usuario y contenido a través de factores latentes.\n",
    "    - Nuevos usuarios (o items), con cierto contenido inicial, son fácilmente agregados.\n",
    "- El **algoritmo de SVD** del álgebra lineal nos brinda esa oportunidad."
   ]
  },
  {
   "cell_type": "markdown",
   "metadata": {
    "slideshow": {
     "slide_type": "subslide"
    }
   },
   "source": [
    "### Algoritmo de SVD\n",
    "\n",
    "- **M** es la matriz de ratings.\n",
    "- **U** es la matriz de características de usuarios.\n",
    "- **$\\sigma$** es la matriz de valores singulares.\n",
    "- **V$^T$** es la matriz de características de items.\n",
    "\n",
    "<img alt=\"SVD\" src=\"./img/svd.png\" style=\"width:80%;margin:auto;\"/>"
   ]
  },
  {
   "cell_type": "markdown",
   "metadata": {
    "slideshow": {
     "slide_type": "subslide"
    }
   },
   "source": [
    "### Algoritmo de SVD\n",
    "\n",
    "- Elegimos **r** valores singulares.\n",
    "\n",
    "<img alt=\"Truncated SVD\" src=\"./img/truncated-svd.png\" style=\"width:80%;margin:auto;\"/>"
   ]
  },
  {
   "cell_type": "markdown",
   "metadata": {
    "slideshow": {
     "slide_type": "subslide"
    }
   },
   "source": [
    "### Algoritmo de SVD\n",
    "\n",
    "- Podemos calcular valores faltantes en base a los vectores de representación.\n",
    "\n",
    "<img alt=\"SVD Calculation\" src=\"./img/svd-calculation.png\" style=\"width:80%;margin:auto;\"/>"
   ]
  },
  {
   "cell_type": "markdown",
   "metadata": {
    "slideshow": {
     "slide_type": "subslide"
    }
   },
   "source": [
    "### Ejemplo: Películas\n",
    "\n",
    "<img alt=\"Movie Ratings\" src=\"./img/movie-matrix-ratings.png\" style=\"width:75%;margin:auto;\"/>"
   ]
  },
  {
   "cell_type": "markdown",
   "metadata": {
    "slideshow": {
     "slide_type": "subslide"
    }
   },
   "source": [
    "### Ejemplo: Películas\n",
    "\n",
    "<img alt=\"Movie SVD\" src=\"./img/movie-matrix-svd.png\" style=\"width:80%;margin:auto;\"/>"
   ]
  },
  {
   "cell_type": "markdown",
   "metadata": {
    "slideshow": {
     "slide_type": "subslide"
    }
   },
   "source": [
    "### Ejemplo: Películas\n",
    "\n",
    "<img alt=\"Movie SVD\" src=\"./img/movie-matrix-factorization.png\" style=\"width:40%;margin:auto;\"/>"
   ]
  },
  {
   "cell_type": "markdown",
   "metadata": {
    "slideshow": {
     "slide_type": "subslide"
    }
   },
   "source": [
    "### Algoritmo de Simon Funk\n",
    "\n",
    "- El algoritmo de SVD **tiene algunos problemas**:\n",
    "    - Calcular y actualizarlo es lento.\n",
    "    - Necesariamente requiere valores para reemplazar los lugares vacíos.\n",
    "- Simon Funk desarrolló [un algoritmo](https://sifter.org/~simon/journal/20061211.html) que a grandes razgos **calcula SVD iterativamente**.\n",
    "- La idea es definir una **función hipótesis y una función de coste**.\n",
    "- Una vez definidas, **se minimiza** la función de coste respecto de los parámetros de la función hipótesis.\n",
    "- Se puede **entrenar** como un algoritmo supervisado mediante **descenso por la gradiente**."
   ]
  },
  {
   "cell_type": "markdown",
   "metadata": {
    "slideshow": {
     "slide_type": "subslide"
    }
   },
   "source": [
    "### Algoritmo de Simon Funk: Hipótesis\n",
    "\n",
    "- Se define la función de hipótesis para un rating de un usuario a un item como:\n",
    "\n",
    "$$\n",
    "    \\hat{r}_{i,u} = \\mu + b_u + b_i + q_i^Tp_u\n",
    "$$\n",
    "\n",
    "- $\\hat{r}_{i,u}$: Es el rating a calcular.\n",
    "- $\\mu$: Es el promedio de todos los ratings.\n",
    "- $b_u$: Es el sesgo (*bias*) del usuario.\n",
    "- $b_i$: Es el sesgo (*bias*) del item.\n",
    "- $p_u$: Es el vector de factores latentes que representa el usuario $u$.\n",
    "- $q_i$: Es el vector de factores latentes que representa el item $i$."
   ]
  },
  {
   "cell_type": "markdown",
   "metadata": {
    "slideshow": {
     "slide_type": "subslide"
    }
   },
   "source": [
    "### Algoritmo de Simon Funk: Función de costo\n",
    "\n",
    "- Se define la función de costo como:\n",
    "\n",
    "$$\n",
    "    \\sum_{r_{i,u} \\in R_{train}} (r_{i,u} - \\hat{r}_{i,u})^2 + \\lambda\\big(b_i^2 + b_u^2 + ||q_i||^2 + ||p_u||^2\\big)\n",
    "$$\n",
    "\n",
    "- $r_{i,u}$: Son los ratings del conjunto de entrenamiento.\n",
    "- $\\hat{r}_{i,u}$: Es el rating predicho.\n",
    "- $\\mu$: Es el promedio de todos los ratings.\n",
    "- $b_u$: Es el sesgo (*bias*) del usuario.\n",
    "- $b_i$: Es el sesgo (*bias*) del item.\n",
    "- $p_u$: Es el vector de factores latentes que representa el usuario $u$.\n",
    "- $q_i$: Es el vector de factores latentes que representa el item $i$."
   ]
  },
  {
   "cell_type": "markdown",
   "metadata": {
    "slideshow": {
     "slide_type": "subslide"
    }
   },
   "source": [
    "### Surpr!se"
   ]
  },
  {
   "cell_type": "code",
   "execution_count": null,
   "metadata": {
    "slideshow": {
     "slide_type": "-"
    }
   },
   "outputs": [],
   "source": [
    "from surprise import SVD\n",
    "\n",
    "model = SVD(n_factors=100, n_epochs=20, random_state=42).fit(ratings_train)\n",
    "predictions = model.test(ratings_test)\n",
    "print(\"RMSE on test: {:.4f}\".format(rmse(predictions, verbose=False)))"
   ]
  },
  {
   "cell_type": "markdown",
   "metadata": {
    "slideshow": {
     "slide_type": "subslide"
    }
   },
   "source": [
    "### Otros algoritmos de factorización\n",
    "\n",
    "- SVD++ que es una extensión de SVD, que tiene en cuenta ratings implícitos.\n",
    "- Non negative matrix factorization (NMF), es muy similar a SVD. Los **factores latentes no son negativos**.\n",
    "- Ambos algoritmos están implementados en Scikit Surprise."
   ]
  },
  {
   "cell_type": "markdown",
   "metadata": {
    "slideshow": {
     "slide_type": "slide"
    }
   },
   "source": [
    "# Problemas con sistemas de recomendación"
   ]
  },
  {
   "cell_type": "markdown",
   "metadata": {
    "slideshow": {
     "slide_type": "subslide"
    }
   },
   "source": [
    "## Problema de \"Cold Start\"\n",
    "\n",
    "- Es el **principal problema** con el que lidiar en sistemas de recomendación.\n",
    "- Pasa cuando hay un **nuevo usuario** (o contenido), del que no conocemos nada.\n",
    "- También aplica a **usuarios únicos** (i.e. no parecidos a ningún otro usuario).\n",
    "    - En este caso se lo llama **oveja gris**.\n",
    "- Hay varias maneras de trabajarlo."
   ]
  },
  {
   "cell_type": "markdown",
   "metadata": {
    "slideshow": {
     "slide_type": "subslide"
    }
   },
   "source": [
    "### Problema de \"Cold Start\": Algunas soluciones\n",
    "\n",
    "- Muchas veces la solución más sencilla es **preguntarle al usuario**.\n",
    "    - Algunos sitios piden algún tipo de rating al subscribirse (e.g. los géneros preferidos de película).\n",
    "    - Depende de la **voluntad del usuario**.\n",
    "    - Opción es **conectar el usuario mediante alguna red social**.\n",
    "- Una opción sencilla es **recomendar lo más popular** y ver el comportamiento.\n",
    "    - E.g. Amazon recomienda \"items que se están buscando ahora\". YouTube muestra \"trendings\".\n",
    "- Para **contenido** se puede agrupar y mostrar con cierta relevancia. \n",
    "    - E.g. la categoría de Netflix para \"New Arrivals\".\n",
    "- Los items suelen ser representables mediante **vectores de contenido** y recomendar mediante **filtrado basado en contenido**.\n",
    "- Una solución es aplicar **reglas de asociación** sobre las interacciones del usuario (e.g. ver los items que fue revisando)"
   ]
  },
  {
   "cell_type": "markdown",
   "metadata": {
    "slideshow": {
     "slide_type": "subslide"
    }
   },
   "source": [
    "### Problema de \"Cold Start\": Sesionización\n",
    "\n",
    "- La idea es llevar **registro de los usuario**.\n",
    "    - E.g. usando cookies o sesiones anónimas.\n",
    "- Se busca **hacer seguimiento de todo lo que hace el usuario**.\n",
    "- Cada sesión se puede **agrupar en un vector**.\n",
    "- Se lleva **registro de los vectores y se pueden comparar**.\n",
    "- En general, es mejor **convencer al usuario de registrarse**."
   ]
  },
  {
   "cell_type": "markdown",
   "metadata": {
    "slideshow": {
     "slide_type": "subslide"
    }
   },
   "source": [
    "## Problema de Sesgo\n",
    "\n",
    "- Muchas veces los algoritmos crean **sesgo**.\n",
    "- Aquellas cosas más recomendadas son las **únicas que se recomiendan**.\n",
    "- Una opción es **pesar por tiempo**.\n",
    "    - No siempre es útil, depende del contenido.\n",
    "- Agregar **aleatoriedad**.\n",
    "    - E.g. recomendar algo más que aquel contenido con mayor rating.\n",
    "- Utilizar **recomendaciones no personalizadas**.\n",
    "    - Reglas de asociación. E.g. ¿Qué otros productos compraron con este?\n",
    "    - Ordernar por lo más reciente.\n",
    "- Es un trabajo que tiene que ver más con el **diseño general del sistema** que con el algoritmo."
   ]
  }
 ],
 "metadata": {
  "celltoolbar": "Slideshow",
  "kernelspec": {
   "display_name": "Python 3",
   "language": "python",
   "name": "python3"
  },
  "language_info": {
   "codemirror_mode": {
    "name": "ipython",
    "version": 3
   },
   "file_extension": ".py",
   "mimetype": "text/x-python",
   "name": "python",
   "nbconvert_exporter": "python",
   "pygments_lexer": "ipython3",
   "version": "3.8.3"
  },
  "rise": {
   "scroll": true
  },
  "toc": {
   "base_numbering": 1,
   "nav_menu": {},
   "number_sections": true,
   "sideBar": true,
   "skip_h1_title": false,
   "title_cell": "Table of Contents",
   "title_sidebar": "Contents",
   "toc_cell": true,
   "toc_position": {
    "height": "calc(100% - 180px)",
    "left": "10px",
    "top": "150px",
    "width": "303.542px"
   },
   "toc_section_display": true,
   "toc_window_display": true
  },
  "varInspector": {
   "cols": {
    "lenName": 16,
    "lenType": 16,
    "lenVar": 40
   },
   "kernels_config": {
    "python": {
     "delete_cmd_postfix": "",
     "delete_cmd_prefix": "del ",
     "library": "var_list.py",
     "varRefreshCmd": "print(var_dic_list())"
    },
    "r": {
     "delete_cmd_postfix": ") ",
     "delete_cmd_prefix": "rm(",
     "library": "var_list.r",
     "varRefreshCmd": "cat(var_dic_list()) "
    }
   },
   "types_to_exclude": [
    "module",
    "function",
    "builtin_function_or_method",
    "instance",
    "_Feature"
   ],
   "window_display": false
  }
 },
 "nbformat": 4,
 "nbformat_minor": 2
}
