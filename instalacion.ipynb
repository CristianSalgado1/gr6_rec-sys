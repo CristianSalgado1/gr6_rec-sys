{
 "cells": [
  {
   "cell_type": "markdown",
   "metadata": {
    "toc": true
   },
   "source": [
    "<h1>Table of Contents<span class=\"tocSkip\"></span></h1>\n",
    "<div class=\"toc\"><ul class=\"toc-item\"><li><span><a href=\"#Sistemas-de-Recomendación---Instalación-y-Configuración\" data-toc-modified-id=\"Sistemas-de-Recomendación---Instalación-y-Configuración-1\"><span class=\"toc-item-num\">1&nbsp;&nbsp;</span>Sistemas de Recomendación - Instalación y Configuración</a></span><ul class=\"toc-item\"><li><span><a href=\"#Configuración-del-entorno\" data-toc-modified-id=\"Configuración-del-entorno-1.1\"><span class=\"toc-item-num\">1.1&nbsp;&nbsp;</span>Configuración del entorno</a></span><ul class=\"toc-item\"><li><span><a href=\"#Instalación-de-conda\" data-toc-modified-id=\"Instalación-de-conda-1.1.1\"><span class=\"toc-item-num\">1.1.1&nbsp;&nbsp;</span>Instalación de conda</a></span></li><li><span><a href=\"#Crear-un-entorno-virtual-con-las-librerías-de-Anaconda\" data-toc-modified-id=\"Crear-un-entorno-virtual-con-las-librerías-de-Anaconda-1.1.2\"><span class=\"toc-item-num\">1.1.2&nbsp;&nbsp;</span>Crear un entorno virtual con las librerías de Anaconda</a></span></li><li><span><a href=\"#Instalación-de-Surpr!se\" data-toc-modified-id=\"Instalación-de-Surpr!se-1.1.3\"><span class=\"toc-item-num\">1.1.3&nbsp;&nbsp;</span>Instalación de Surpr!se</a></span></li><li><span><a href=\"#Instalación-de-RISE\" data-toc-modified-id=\"Instalación-de-RISE-1.1.4\"><span class=\"toc-item-num\">1.1.4&nbsp;&nbsp;</span>Instalación de RISE</a></span></li></ul></li><li><span><a href=\"#Conjunto-de-datos\" data-toc-modified-id=\"Conjunto-de-datos-1.2\"><span class=\"toc-item-num\">1.2&nbsp;&nbsp;</span>Conjunto de datos</a></span><ul class=\"toc-item\"><li><span><a href=\"#MovieLens\" data-toc-modified-id=\"MovieLens-1.2.1\"><span class=\"toc-item-num\">1.2.1&nbsp;&nbsp;</span>MovieLens</a></span></li><li><span><a href=\"#LastFM\" data-toc-modified-id=\"LastFM-1.2.2\"><span class=\"toc-item-num\">1.2.2&nbsp;&nbsp;</span>LastFM</a></span></li></ul></li><li><span><a href=\"#Algunos-recursos-extras\" data-toc-modified-id=\"Algunos-recursos-extras-1.3\"><span class=\"toc-item-num\">1.3&nbsp;&nbsp;</span>Algunos recursos extras</a></span></li></ul></li></ul></div>"
   ]
  },
  {
   "cell_type": "markdown",
   "metadata": {
    "slideshow": {
     "slide_type": "slide"
    }
   },
   "source": [
    "# Sistemas de Recomendación - Instalación y Configuración"
   ]
  },
  {
   "cell_type": "markdown",
   "metadata": {
    "slideshow": {
     "slide_type": "slide"
    }
   },
   "source": [
    "## Configuración del entorno"
   ]
  },
  {
   "cell_type": "markdown",
   "metadata": {
    "slideshow": {
     "slide_type": "subslide"
    }
   },
   "source": [
    "### Instalación de conda\n",
    "\n",
    "Para este curso utilizaremos `conda` como gestor de paquetes y entornos de trabajo en Python. Pueden instalar la versión que quieran de Anaconda o Miniconda. Las instrucciones, de acuerdo a su sistema operativo, pueden encontrarse en la [documentación oficial](https://docs.conda.io/projects/conda/en/latest/user-guide/install/index.html#regular-installation)."
   ]
  },
  {
   "cell_type": "markdown",
   "metadata": {
    "slideshow": {
     "slide_type": "subslide"
    }
   },
   "source": [
    "### Crear un entorno virtual con las librerías de Anaconda\n",
    "\n",
    "    $ conda create --name rec-sys python=3.7 anaconda\n",
    "\n",
    "Activar el entorno\n",
    "\n",
    "    $ conda activate rec-sys    "
   ]
  },
  {
   "cell_type": "markdown",
   "metadata": {
    "slideshow": {
     "slide_type": "subslide"
    }
   },
   "source": [
    "### Instalación de Surpr!se\n",
    "\n",
    "La librería que vamos a utilizar para entrenar nuestos sistemas de recomendación es [Surpr!se](http://surpriselib.com/) que tiene una implementación bastante completa de varios algoritmos de recomendación y una API muy similar a la de `scikit-learn`. Para instalarla, una vez activado el entorno, basta con el siguiente comando:\n",
    "\n",
    "    (rec-sys) $ pip install scikit-surprise\n",
    "\n",
    "Para probar que se instaló correctamente, basta comprobarlo ejecutando la siguiente celda:"
   ]
  },
  {
   "cell_type": "code",
   "execution_count": 2,
   "metadata": {},
   "outputs": [
    {
     "name": "stdout",
     "output_type": "stream",
     "text": [
      "Collecting scikit-surprise\n",
      "  Using cached scikit-surprise-1.1.1.tar.gz (11.8 MB)\n",
      "Requirement already satisfied: joblib>=0.11 in c:\\users\\cristiansalgado\\anaconda3\\lib\\site-packages (from scikit-surprise) (0.16.0)\n",
      "Requirement already satisfied: numpy>=1.11.2 in c:\\users\\cristiansalgado\\anaconda3\\lib\\site-packages (from scikit-surprise) (1.18.5)\n",
      "Requirement already satisfied: scipy>=1.0.0 in c:\\users\\cristiansalgado\\anaconda3\\lib\\site-packages (from scikit-surprise) (1.5.0)\n",
      "Requirement already satisfied: six>=1.10.0 in c:\\users\\cristiansalgado\\anaconda3\\lib\\site-packages (from scikit-surprise) (1.15.0)\n",
      "Building wheels for collected packages: scikit-surprise\n",
      "  Building wheel for scikit-surprise (setup.py): started\n",
      "  Building wheel for scikit-surprise (setup.py): finished with status 'done'\n",
      "  Created wheel for scikit-surprise: filename=scikit_surprise-1.1.1-cp38-cp38-win_amd64.whl size=733589 sha256=fad14b83de4e2b8cbb2450d7a3049c25c82ba8da397c6ff58e38ea372bb9dfe4\n",
      "  Stored in directory: c:\\users\\cristiansalgado\\appdata\\local\\pip\\cache\\wheels\\20\\91\\57\\2965d4cff1b8ac7ed1b6fa25741882af3974b54a31759e10b6\n",
      "Successfully built scikit-surprise\n",
      "Installing collected packages: scikit-surprise\n",
      "Successfully installed scikit-surprise-1.1.1\n"
     ]
    }
   ],
   "source": [
    "!pip install scikit-surprise"
   ]
  },
  {
   "cell_type": "code",
   "execution_count": 3,
   "metadata": {
    "slideshow": {
     "slide_type": "-"
    }
   },
   "outputs": [
    {
     "name": "stdout",
     "output_type": "stream",
     "text": [
      "Surpr!se version: 1.1.1\n"
     ]
    }
   ],
   "source": [
    "import surprise\n",
    "\n",
    "print(f\"Surpr!se version: {surprise.__version__}\")"
   ]
  },
  {
   "cell_type": "code",
   "execution_count": 4,
   "metadata": {},
   "outputs": [
    {
     "name": "stdout",
     "output_type": "stream",
     "text": [
      "Collecting RISE\n",
      "  Downloading rise-5.7.1-py2.py3-none-any.whl (4.3 MB)\n",
      "Requirement already satisfied: notebook>=6.0 in c:\\users\\cristiansalgado\\anaconda3\\lib\\site-packages (from RISE) (6.0.3)\n",
      "Requirement already satisfied: nbconvert in c:\\users\\cristiansalgado\\anaconda3\\lib\\site-packages (from notebook>=6.0->RISE) (5.6.1)\n",
      "Requirement already satisfied: jinja2 in c:\\users\\cristiansalgado\\anaconda3\\lib\\site-packages (from notebook>=6.0->RISE) (2.11.2)\n",
      "Requirement already satisfied: ipykernel in c:\\users\\cristiansalgado\\anaconda3\\lib\\site-packages (from notebook>=6.0->RISE) (5.3.2)\n",
      "Requirement already satisfied: traitlets>=4.2.1 in c:\\users\\cristiansalgado\\anaconda3\\lib\\site-packages (from notebook>=6.0->RISE) (4.3.3)\n",
      "Requirement already satisfied: jupyter-client>=5.3.4 in c:\\users\\cristiansalgado\\anaconda3\\lib\\site-packages (from notebook>=6.0->RISE) (6.1.6)\n",
      "Requirement already satisfied: terminado>=0.8.1 in c:\\users\\cristiansalgado\\anaconda3\\lib\\site-packages (from notebook>=6.0->RISE) (0.8.3)\n",
      "Requirement already satisfied: tornado>=5.0 in c:\\users\\cristiansalgado\\anaconda3\\lib\\site-packages (from notebook>=6.0->RISE) (6.0.4)\n",
      "Requirement already satisfied: pyzmq>=17 in c:\\users\\cristiansalgado\\anaconda3\\lib\\site-packages (from notebook>=6.0->RISE) (19.0.1)\n",
      "Requirement already satisfied: prometheus-client in c:\\users\\cristiansalgado\\anaconda3\\lib\\site-packages (from notebook>=6.0->RISE) (0.8.0)\n",
      "Requirement already satisfied: Send2Trash in c:\\users\\cristiansalgado\\anaconda3\\lib\\site-packages (from notebook>=6.0->RISE) (1.5.0)\n",
      "Requirement already satisfied: nbformat in c:\\users\\cristiansalgado\\anaconda3\\lib\\site-packages (from notebook>=6.0->RISE) (5.0.7)\n",
      "Requirement already satisfied: ipython-genutils in c:\\users\\cristiansalgado\\anaconda3\\lib\\site-packages (from notebook>=6.0->RISE) (0.2.0)\n",
      "Requirement already satisfied: jupyter-core>=4.6.1 in c:\\users\\cristiansalgado\\anaconda3\\lib\\site-packages (from notebook>=6.0->RISE) (4.6.3)\n",
      "Requirement already satisfied: bleach in c:\\users\\cristiansalgado\\anaconda3\\lib\\site-packages (from nbconvert->notebook>=6.0->RISE) (3.1.5)\n",
      "Requirement already satisfied: defusedxml in c:\\users\\cristiansalgado\\anaconda3\\lib\\site-packages (from nbconvert->notebook>=6.0->RISE) (0.6.0)\n",
      "Requirement already satisfied: mistune<2,>=0.8.1 in c:\\users\\cristiansalgado\\anaconda3\\lib\\site-packages (from nbconvert->notebook>=6.0->RISE) (0.8.4)\n",
      "Requirement already satisfied: entrypoints>=0.2.2 in c:\\users\\cristiansalgado\\anaconda3\\lib\\site-packages (from nbconvert->notebook>=6.0->RISE) (0.3)\n",
      "Requirement already satisfied: testpath in c:\\users\\cristiansalgado\\anaconda3\\lib\\site-packages (from nbconvert->notebook>=6.0->RISE) (0.4.4)\n",
      "Requirement already satisfied: pandocfilters>=1.4.1 in c:\\users\\cristiansalgado\\anaconda3\\lib\\site-packages (from nbconvert->notebook>=6.0->RISE) (1.4.2)\n",
      "Requirement already satisfied: pygments in c:\\users\\cristiansalgado\\anaconda3\\lib\\site-packages (from nbconvert->notebook>=6.0->RISE) (2.6.1)\n",
      "Requirement already satisfied: MarkupSafe>=0.23 in c:\\users\\cristiansalgado\\anaconda3\\lib\\site-packages (from jinja2->notebook>=6.0->RISE) (1.1.1)\n",
      "Requirement already satisfied: ipython>=5.0.0 in c:\\users\\cristiansalgado\\anaconda3\\lib\\site-packages (from ipykernel->notebook>=6.0->RISE) (7.16.1)\n",
      "Requirement already satisfied: six in c:\\users\\cristiansalgado\\anaconda3\\lib\\site-packages (from traitlets>=4.2.1->notebook>=6.0->RISE) (1.15.0)\n",
      "Requirement already satisfied: decorator in c:\\users\\cristiansalgado\\anaconda3\\lib\\site-packages (from traitlets>=4.2.1->notebook>=6.0->RISE) (4.4.2)\n",
      "Requirement already satisfied: python-dateutil>=2.1 in c:\\users\\cristiansalgado\\anaconda3\\lib\\site-packages (from jupyter-client>=5.3.4->notebook>=6.0->RISE) (2.8.1)\n",
      "Requirement already satisfied: jsonschema!=2.5.0,>=2.4 in c:\\users\\cristiansalgado\\anaconda3\\lib\\site-packages (from nbformat->notebook>=6.0->RISE) (3.2.0)\n",
      "Requirement already satisfied: pywin32>=1.0; sys_platform == \"win32\" in c:\\users\\cristiansalgado\\anaconda3\\lib\\site-packages (from jupyter-core>=4.6.1->notebook>=6.0->RISE) (227)\n",
      "Requirement already satisfied: packaging in c:\\users\\cristiansalgado\\anaconda3\\lib\\site-packages (from bleach->nbconvert->notebook>=6.0->RISE) (20.4)\n",
      "Requirement already satisfied: webencodings in c:\\users\\cristiansalgado\\anaconda3\\lib\\site-packages (from bleach->nbconvert->notebook>=6.0->RISE) (0.5.1)\n",
      "Requirement already satisfied: prompt-toolkit!=3.0.0,!=3.0.1,<3.1.0,>=2.0.0 in c:\\users\\cristiansalgado\\anaconda3\\lib\\site-packages (from ipython>=5.0.0->ipykernel->notebook>=6.0->RISE) (3.0.5)\n",
      "Requirement already satisfied: pickleshare in c:\\users\\cristiansalgado\\anaconda3\\lib\\site-packages (from ipython>=5.0.0->ipykernel->notebook>=6.0->RISE) (0.7.5)\n",
      "Requirement already satisfied: jedi>=0.10 in c:\\users\\cristiansalgado\\anaconda3\\lib\\site-packages (from ipython>=5.0.0->ipykernel->notebook>=6.0->RISE) (0.17.1)\n",
      "Requirement already satisfied: setuptools>=18.5 in c:\\users\\cristiansalgado\\anaconda3\\lib\\site-packages (from ipython>=5.0.0->ipykernel->notebook>=6.0->RISE) (49.2.0.post20200714)\n",
      "Requirement already satisfied: colorama; sys_platform == \"win32\" in c:\\users\\cristiansalgado\\anaconda3\\lib\\site-packages (from ipython>=5.0.0->ipykernel->notebook>=6.0->RISE) (0.4.3)\n",
      "Requirement already satisfied: backcall in c:\\users\\cristiansalgado\\anaconda3\\lib\\site-packages (from ipython>=5.0.0->ipykernel->notebook>=6.0->RISE) (0.2.0)\n",
      "Requirement already satisfied: pyrsistent>=0.14.0 in c:\\users\\cristiansalgado\\anaconda3\\lib\\site-packages (from jsonschema!=2.5.0,>=2.4->nbformat->notebook>=6.0->RISE) (0.16.0)\n",
      "Requirement already satisfied: attrs>=17.4.0 in c:\\users\\cristiansalgado\\anaconda3\\lib\\site-packages (from jsonschema!=2.5.0,>=2.4->nbformat->notebook>=6.0->RISE) (19.3.0)\n",
      "Requirement already satisfied: pyparsing>=2.0.2 in c:\\users\\cristiansalgado\\anaconda3\\lib\\site-packages (from packaging->bleach->nbconvert->notebook>=6.0->RISE) (2.4.7)\n",
      "Requirement already satisfied: wcwidth in c:\\users\\cristiansalgado\\anaconda3\\lib\\site-packages (from prompt-toolkit!=3.0.0,!=3.0.1,<3.1.0,>=2.0.0->ipython>=5.0.0->ipykernel->notebook>=6.0->RISE) (0.2.5)\n",
      "Requirement already satisfied: parso<0.8.0,>=0.7.0 in c:\\users\\cristiansalgado\\anaconda3\\lib\\site-packages (from jedi>=0.10->ipython>=5.0.0->ipykernel->notebook>=6.0->RISE) (0.7.0)\n",
      "Installing collected packages: RISE\n",
      "Successfully installed RISE-5.7.1\n"
     ]
    }
   ],
   "source": [
    "!pip install RISE"
   ]
  },
  {
   "cell_type": "markdown",
   "metadata": {
    "slideshow": {
     "slide_type": "subslide"
    }
   },
   "source": [
    "### Instalación de RISE\n",
    "\n",
    "Si quieren visualizar las slides que estén en Jupyter Notebooks, tienen que instalar [RISE](https://rise.readthedocs.io/en/stable/) con el siguiente comando:\n",
    "\n",
    "    (rec-sys) $ pip install RISE"
   ]
  },
  {
   "cell_type": "markdown",
   "metadata": {
    "slideshow": {
     "slide_type": "slide"
    }
   },
   "source": [
    "## Conjunto de datos"
   ]
  },
  {
   "cell_type": "markdown",
   "metadata": {
    "slideshow": {
     "slide_type": "subslide"
    }
   },
   "source": [
    "### MovieLens\n",
    "\n",
    "El conjunto de datos de [MovieLens](https://grouplens.org/datasets/movielens/) es uno de los más comunes para iniciarse en Sistemas de Recomendación, donde, en este caso, se buscan recomendar películas a los distintos usuarios en base a su review sobre películas vistas. Para descargarlo basta correr la celda siguiente (sólo disponible en Linux, en caso de utilizar Windows es mejor hacer la [descarga directa](http://files.grouplens.org/datasets/movielens/ml-latest-small.zip) y descomprimir el archivo):"
   ]
  },
  {
   "cell_type": "code",
   "execution_count": 6,
   "metadata": {
    "slideshow": {
     "slide_type": "-"
    }
   },
   "outputs": [
    {
     "name": "stdout",
     "output_type": "stream",
     "text": [
      "Couldn't find program: 'bash'\n"
     ]
    }
   ],
   "source": [
    "%%bash\n",
    "\n",
    "rm -rf data/ml-latest-small\n",
    "mkdir -p data/\n",
    "curl -LO http://files.grouplens.org/datasets/movielens/ml-latest-small.zip\n",
    "unzip ml-latest-small.zip -d data/\n",
    "rm -f ml-latest-small.zip"
   ]
  },
  {
   "cell_type": "code",
   "execution_count": null,
   "metadata": {},
   "outputs": [],
   "source": []
  },
  {
   "cell_type": "markdown",
   "metadata": {
    "slideshow": {
     "slide_type": "subslide"
    }
   },
   "source": [
    "### LastFM\n",
    "\n",
    "Para el práctico de la materia vamos a estar utilizando el conjunto de datos de [LastFM](https://grouplens.org/datasets/hetrec-2011/), que tiene información sobre usuarios y artistas que estos escuchan. Nuevamente, si no están utilizando una terminal de Linux, recomiendo hacer el proceso de manera manual mediante la [descarga directa](http://files.grouplens.org/datasets/hetrec2011/hetrec2011-lastfm-2k.zip)."
   ]
  },
  {
   "cell_type": "code",
   "execution_count": null,
   "metadata": {
    "slideshow": {
     "slide_type": "-"
    }
   },
   "outputs": [],
   "source": [
    "%%bash\n",
    "\n",
    "rm -rf data/lastfm/\n",
    "mkdir -p data/lastfm/\n",
    "curl -LO http://files.grouplens.org/datasets/hetrec2011/hetrec2011-lastfm-2k.zip\n",
    "unzip hetrec2011-lastfm-2k.zip -d data/lastfm/\n",
    "rm -f hetrec2011-lastfm-2k.zip"
   ]
  },
  {
   "cell_type": "markdown",
   "metadata": {
    "slideshow": {
     "slide_type": "slide"
    }
   },
   "source": [
    "## Algunos recursos extras\n",
    "\n",
    "- [Building and Testing Recommender Systems With Surprise, Step-By-Step](https://towardsdatascience.com/building-and-testing-recommender-systems-with-surprise-step-by-step-d4ba702ef80b)\n",
    "- [Building a Recommender System from Scratch](https://github.com/topspinj/pydata-workshop/blob/master/tutorial.ipynb)"
   ]
  }
 ],
 "metadata": {
  "anaconda-cloud": {},
  "celltoolbar": "Slideshow",
  "kernelspec": {
   "display_name": "Python 3",
   "language": "python",
   "name": "python3"
  },
  "language_info": {
   "codemirror_mode": {
    "name": "ipython",
    "version": 3
   },
   "file_extension": ".py",
   "mimetype": "text/x-python",
   "name": "python",
   "nbconvert_exporter": "python",
   "pygments_lexer": "ipython3",
   "version": "3.8.3"
  },
  "rise": {
   "scroll": true
  },
  "toc": {
   "base_numbering": 1,
   "nav_menu": {},
   "number_sections": true,
   "sideBar": true,
   "skip_h1_title": false,
   "title_cell": "Table of Contents",
   "title_sidebar": "Contents",
   "toc_cell": true,
   "toc_position": {},
   "toc_section_display": true,
   "toc_window_display": true
  },
  "varInspector": {
   "cols": {
    "lenName": 16,
    "lenType": 16,
    "lenVar": 40
   },
   "kernels_config": {
    "python": {
     "delete_cmd_postfix": "",
     "delete_cmd_prefix": "del ",
     "library": "var_list.py",
     "varRefreshCmd": "print(var_dic_list())"
    },
    "r": {
     "delete_cmd_postfix": ") ",
     "delete_cmd_prefix": "rm(",
     "library": "var_list.r",
     "varRefreshCmd": "cat(var_dic_list()) "
    }
   },
   "types_to_exclude": [
    "module",
    "function",
    "builtin_function_or_method",
    "instance",
    "_Feature"
   ],
   "window_display": false
  }
 },
 "nbformat": 4,
 "nbformat_minor": 2
}
